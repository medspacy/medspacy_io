{
 "cells": [
  {
   "cell_type": "code",
   "execution_count": 1,
   "id": "052c04ba-470e-427b-b619-4b1db12a84c5",
   "metadata": {},
   "outputs": [
    {
     "name": "stdout",
     "output_type": "stream",
     "text": [
      "['/Users/u6022257/Documents/medspacy_io/dev_notebooks', '/Users/u6022257/opt/anaconda3/lib/python39.zip', '/Users/u6022257/opt/anaconda3/lib/python3.9', '/Users/u6022257/opt/anaconda3/lib/python3.9/lib-dynload', '', '/Users/u6022257/opt/anaconda3/lib/python3.9/site-packages', '/Users/u6022257/opt/anaconda3/lib/python3.9/site-packages/aeosa', '/Users/u6022257/opt/anaconda3/lib/python3.9/site-packages/medspacy-0.2.0.0-py3.9.egg', '/Users/u6022257/opt/anaconda3/lib/python3.9/site-packages/medspacy_quickumls-2.3-py3.9.egg', '/Users/u6022257/opt/anaconda3/lib/python3.9/site-packages/quickumls_simstring-1.1.5.post1-py3.9-macosx-10.9-x86_64.egg', '../', '../medspacy']\n"
     ]
    }
   ],
   "source": [
    "import sys\n",
    "sys.path.append(\"../\") #need to uninstall medspacy-io to test the package code.\n",
    "sys.path.append(\"../medspacy\")\n",
    "print(sys.path)\n",
    "from spacy.lang.en import English\n",
    "from medspacy_io.reader import EhostDocReader"
   ]
  },
  {
   "cell_type": "code",
   "execution_count": 2,
   "id": "53c9f938-471e-4b03-8212-11abac065a24",
   "metadata": {},
   "outputs": [
    {
     "name": "stdout",
     "output_type": "stream",
     "text": [
      "check if doc has extension concepts: False\n",
      "False True\n",
      "setting the type of concept...\n",
      "getting concept...\n",
      "type of existing_concepts: <class 'collections.OrderedDict'> False\n",
      "<class 'collections.OrderedDict'>\n",
      "OrderedDict([('Symptom_Section', [HISTORY OF PRESENT ILLNESS:  Ms. [**Known lastname 50463**] was an 83-year-old\n",
      "female with a history of polymyalgia rheumatica,\n",
      "hypercholesterolemia, hypothyroidism, vertigo, postural\n",
      "hypotension, and a history of syncope in the past who now is\n",
      "on Florinef and presented to [**Hospital1 **] [**Location (un) 620**]\n",
      "emergency department on [**2180-9-22**] after a syncopal episode\n",
      "at home.  She reported that she passed out after urinating\n",
      "while on the toilet.  She awoke and called her primary care\n",
      "physician, [**Name10 (NameIs) 1023**] evaluated her in the office and suspected\n",
      "dehydration, rehydrated her with fluids, and sent her home.\n",
      "At home she continued to feel poorly, and her primary care\n",
      "physician told her to return to the Emergency Department.  At\n",
      "[**Location (un) 620**] emergency department on [**2180-9-23**] EKG revealed\n",
      "polymorphic ventricular tachycardia with rate in the 130s and\n",
      "blood pressure in the 140s to 150s/60s.  She was afebrile at\n",
      "this time.\n",
      "\n",
      "Labs in the Emergency Room revealed a potassium of 2.7 and\n",
      "magnesium of 1.6.  She was given electrolyte repletion and\n",
      "her ventricular tachycardia spontaneously converted to sinus\n",
      "rhythm.  She had normal cardiac enzymes and a normal chest\n",
      "x-ray.  She was admitted on the morning after admission and\n",
      "was seen by Electrophysiology, who recommended a Lidocaine\n",
      "drip.  Despite avid electrolyte repletion, her potassium\n",
      "remained low, and a right internal jugular central line was\n",
      "placed on [**2180-9-23**] for further resuscitation.  Later that\n",
      "evening her oxygen saturations dropped to the 60s or 70s, and\n",
      "a post central line placement chest x-ray revealed no\n",
      "evidence of pneumothorax but evidence of pulmonary edema.\n",
      "She was placed on 100% non-rebreather and her sats improved\n",
      "to 80 to 100%.  An ABG at this time showed a pH of 7.36, CO2\n",
      "of 54, and PA of 53.  Potassium was 3.5 at this time.\n",
      "\n",
      "A decision was made to give 20 mg of intravenous Lasix, and\n",
      "she put out 620 cc of urine, but her sats continued to be 80\n",
      "to 100%.  Repeat ABG still revealed persistently low\n",
      "oxygenation.  Decision was made to intubate.  The patient was\n",
      "placed on AC at the rate of 10 with a tidal volume of 500 and\n",
      "FIO2 of 100% and PEEP of 5.  Recheck of an ABG still showed\n",
      "poor oxygenation with [**MD Number(3) 50464**], and decision was made to\n",
      "transfer her to [**Hospital6 256**] for\n",
      "further management due to failure of oxygenation.\n",
      "\n",
      "She was transferred, intubated, and a Lidocaine drip and\n",
      "received 100 mg of Fentanyl and 50 mg of Versed., BRIEF HOSPITAL COURSE:  Ms. [**Known lastname 50463**] was transferred to [**Hospital1 18**]\n",
      "on [**2180-9-25**].  The initial feeling was that she most likely\n",
      "was in pulmonary edema, leading to poor oxygenation due to\n",
      "aggressive fluid and electrolyte replacement at [**Location (un) 620**].  She\n",
      "was ........... diuresed, and was successfully extubated on\n",
      "[**2180-9-27**], however, became febrile with known MSSA in her\n",
      "sputum, however, was persistently febrile despite treatment\n",
      "with Levofloxacin, Vancomycin, and Flagyl.  Call for concern\n",
      "of aspiration pneumonia.  She also had an elevated white\n",
      "count with evidence of bandemia.\n",
      "\n",
      "On [**2180-9-29**] she also developed a decreased urine output in\n",
      "the setting of febrile illness, and there was concern for\n",
      "sepsis.  Her urine output continued to climb despite fluid\n",
      "boluses.  Her volume status was unclear but most likely\n",
      "representative of total body fluid overload with decreased\n",
      "intervascular volume, and plans were made for placement of a\n",
      "PA catheter.\n",
      "\n",
      "Despite concern for sepsis, her mental status continued to\n",
      "improve from the time of admission.  However, the house\n",
      "officers called on [**2180-9-29**] in the afternoon due to\n",
      "decreased mental status, tachypnea, bradycardia, and\n",
      "hypotension.  Passed away on [**2180-9-29**] at 15:50.  She had\n",
      "been made \"Do Not Resuscitate\"/ \"Do Not Intubate\" at the time\n",
      "of admission.  No resuscitative measures were done.  Her\n",
      "family was immediately [**Name (NI) 653**], and the Attending was\n",
      "present.  No autopsy was requested.  Immediate cause of death\n",
      "was pneumonia/adult respiratory distress syndrome with other\n",
      "causes including renal failure and cardiac arrest.]), ('SectionHeader_HasSymptom', [HISTORY OF PRESENT ILLNESS:, BRIEF HOSPITAL COURSE:]), ('Symptom', [polymyalgia rheumatica, hypercholesterolemia, hypothyroidism, vertigo, postural\n",
      "hypotension, syncope, dehydration, polymorphic ventricular tachycardia, ventricular tachycardia, sinus\n",
      "rhythm, pneumothorax, pulmonary edema, pulmonary edema, febrile, febrile, aspiration pneumonia, bandemia, febrile illness, sepsis, sepsis, tachypnea, bradycardia, hypotension, pneumonia, adult respiratory distress syndrome, renal failure, cardiac arrest])])\n"
     ]
    },
    {
     "name": "stderr",
     "output_type": "stream",
     "text": [
      "/Users/u6022257/Documents/medspacy_io/dev_notebooks/../medspacy_io/reader/base_reader.py:18: UserWarning: Warning: 0.1.0.dev34 will be deprecated. Please use latest version!\n",
      "  warnings.warn(\"Warning: 0.1.0.dev34 will be deprecated. Please use latest version!\")\n"
     ]
    }
   ],
   "source": [
    "ereader2 = EhostDocReader(nlp=English(), schema_file='../tests/data/ehost_test_corpus3_overlap/config/projectschema.xml',support_overlap=True)\n",
    "doc2 = ereader2.read('../tests/data/ehost_test_corpus3_overlap/corpus/18305.txt')\n",
    "print(type(doc2._.concepts))\n",
    "print(doc2._.concepts)\n",
    "\n"
   ]
  }
 ],
 "metadata": {
  "kernelspec": {
   "display_name": "Python 3 (ipykernel)",
   "language": "python",
   "name": "python3"
  },
  "language_info": {
   "codemirror_mode": {
    "name": "ipython",
    "version": 3
   },
   "file_extension": ".py",
   "mimetype": "text/x-python",
   "name": "python",
   "nbconvert_exporter": "python",
   "pygments_lexer": "ipython3",
   "version": "3.9.12"
  }
 },
 "nbformat": 4,
 "nbformat_minor": 5
}
