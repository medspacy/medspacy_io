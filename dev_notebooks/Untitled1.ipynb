{
 "cells": [
  {
   "cell_type": "code",
   "execution_count": 1,
   "id": "24ce5e30-b7c7-4e48-b3e6-95ce952c5691",
   "metadata": {},
   "outputs": [
    {
     "name": "stdout",
     "output_type": "stream",
     "text": [
      "['/Users/u6022257/Documents/medspacy_io/dev_notebooks', '/Users/u6022257/opt/anaconda3/lib/python39.zip', '/Users/u6022257/opt/anaconda3/lib/python3.9', '/Users/u6022257/opt/anaconda3/lib/python3.9/lib-dynload', '', '/Users/u6022257/opt/anaconda3/lib/python3.9/site-packages', '/Users/u6022257/opt/anaconda3/lib/python3.9/site-packages/aeosa', '/Users/u6022257/opt/anaconda3/lib/python3.9/site-packages/medspacy-0.2.0.0-py3.9.egg', '/Users/u6022257/opt/anaconda3/lib/python3.9/site-packages/medspacy_quickumls-2.3-py3.9.egg', '/Users/u6022257/opt/anaconda3/lib/python3.9/site-packages/quickumls_simstring-1.1.5.post1-py3.9-macosx-10.9-x86_64.egg', '../', '../medspacy']\n",
      "check if doc has extension concepts: False\n",
      "True False\n",
      "setting the type of concept...\n",
      "getting concept...\n",
      "type of existing_concepts: <class 'list'> True\n",
      "['Symptom_Section', 'SectionHeader_HasSymptom', 'Symptom']\n",
      "HISTORY OF PRESENT ILLNESS:  Ms. [**Known lastname 50463**] was an 83-year-old\n",
      "female with a history of polymyalgia rheumatica,\n",
      "hypercholesterolemia, hypothyroidism, vertigo, postural\n",
      "hypotension, and a history of syncope in the past who now is\n",
      "on Florinef and presented to [**Hospital1 **] [**Location (un) 620**]\n",
      "emergency department on [**2180-9-22**] after a syncopal episode\n",
      "at home.  She reported that she passed out after urinating\n",
      "while on the toilet.  She awoke and called her primary care\n",
      "physician, [**Name10 (NameIs) 1023**] evaluated her in the office and suspected\n",
      "dehydration, rehydrated her with fluids, and sent her home.\n",
      "At home she continued to feel poorly, and her primary care\n",
      "physician told her to return to the Emergency Department.  At\n",
      "[**Location (un) 620**] emergency department on [**2180-9-23**] EKG revealed\n",
      "polymorphic ventricular tachycardia with rate in the 130s and\n",
      "blood pressure in the 140s to 150s/60s.  She was afebrile at\n",
      "this time.\n",
      "\n",
      "Labs in the Emergency Room revealed a potassium of 2.7 and\n",
      "magnesium of 1.6.  She was given electrolyte repletion and\n",
      "her ventricular tachycardia spontaneously converted to sinus\n",
      "rhythm.  She had normal cardiac enzymes and a normal chest\n",
      "x-ray.  She was admitted on the morning after admission and\n",
      "was seen by Electrophysiology, who recommended a Lidocaine\n",
      "drip.  Despite avid electrolyte repletion, her potassium\n",
      "remained low, and a right internal jugular central line was\n",
      "placed on [**2180-9-23**] for further resuscitation.  Later that\n",
      "evening her oxygen saturations dropped to the 60s or 70s, and\n",
      "a post central line placement chest x-ray revealed no\n",
      "evidence of pneumothorax but evidence of pulmonary edema.\n",
      "She was placed on 100% non-rebreather and her sats improved\n",
      "to 80 to 100%.  An ABG at this time showed a pH of 7.36, CO2\n",
      "of 54, and PA of 53.  Potassium was 3.5 at this time.\n",
      "\n",
      "A decision was made to give 20 mg of intravenous Lasix, and\n",
      "she put out 620 cc of urine, but her sats continued to be 80\n",
      "to 100%.  Repeat ABG still revealed persistently low\n",
      "oxygenation.  Decision was made to intubate.  The patient was\n",
      "placed on AC at the rate of 10 with a tidal volume of 500 and\n",
      "FIO2 of 100% and PEEP of 5.  Recheck of an ABG still showed\n",
      "poor oxygenation with [**MD Number(3) 50464**], and decision was made to\n",
      "transfer her to [**Hospital6 256**] for\n",
      "further management due to failure of oxygenation.\n",
      "\n",
      "She was transferred, intubated, and a Lidocaine drip and\n",
      "received 100 mg of Fentanyl and 50 mg of Versed.\n"
     ]
    }
   ],
   "source": [
    "import sys\n",
    "sys.path.append(\"../\") #need to uninstall medspacy-io to test the package code.\n",
    "sys.path.append(\"../medspacy\")\n",
    "print(sys.path)\n",
    "from spacy.lang.en import English\n",
    "from medspacy_io.reader import EhostDocReader\n",
    "ereader = EhostDocReader(nlp=English(), schema_file='../tests/data/ehost_test_corpus3_overlap/config/projectschema.xml',support_overlap=True,new_version=True)\n",
    "doc = ereader.read('../tests/data/ehost_test_corpus3_overlap/corpus/18305.txt')\n",
    "print(doc._.concepts)\n",
    "print(doc.spans['Symptom_Section'][0])"
   ]
  }
 ],
 "metadata": {
  "kernelspec": {
   "display_name": "Python 3 (ipykernel)",
   "language": "python",
   "name": "python3"
  },
  "language_info": {
   "codemirror_mode": {
    "name": "ipython",
    "version": 3
   },
   "file_extension": ".py",
   "mimetype": "text/x-python",
   "name": "python",
   "nbconvert_exporter": "python",
   "pygments_lexer": "ipython3",
   "version": "3.9.12"
  }
 },
 "nbformat": 4,
 "nbformat_minor": 5
}
