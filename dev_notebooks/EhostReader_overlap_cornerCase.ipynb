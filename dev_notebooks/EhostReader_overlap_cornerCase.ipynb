{
 "cells": [
  {
   "cell_type": "code",
   "execution_count": 1,
   "id": "f14cde62-cae7-4065-b100-2fe8fad84715",
   "metadata": {},
   "outputs": [
    {
     "name": "stdout",
     "output_type": "stream",
     "text": [
      "['/Users/u6022257/Documents/medspacy_io/dev_notebooks', '/Users/u6022257/opt/anaconda3/lib/python39.zip', '/Users/u6022257/opt/anaconda3/lib/python3.9', '/Users/u6022257/opt/anaconda3/lib/python3.9/lib-dynload', '', '/Users/u6022257/opt/anaconda3/lib/python3.9/site-packages', '/Users/u6022257/opt/anaconda3/lib/python3.9/site-packages/aeosa', '/Users/u6022257/opt/anaconda3/lib/python3.9/site-packages/medspacy-0.2.0.0-py3.9.egg', '/Users/u6022257/opt/anaconda3/lib/python3.9/site-packages/medspacy_quickumls-2.3-py3.9.egg', '/Users/u6022257/opt/anaconda3/lib/python3.9/site-packages/quickumls_simstring-1.1.5.post1-py3.9-macosx-10.9-x86_64.egg', '../', '../medspacy']\n"
     ]
    }
   ],
   "source": [
    "import sys\n",
    "sys.path.append(\"../\") #need to uninstall medspacy-io to test the package code.\n",
    "sys.path.append(\"../medspacy\")\n",
    "print(sys.path)\n",
    "from spacy.lang.en import English\n",
    "from medspacy_io.reader import EhostDocReader\n",
    "from medspacy_io.reader import EhostDirReader\n",
    "\n",
    "import pandas as pd\n",
    "\n",
    "\n",
    "\n",
    "ereader = EhostDocReader(nlp=English(), schema_file='../tests/data/ehost_test_problem_data/config/projectschema.xml',support_overlap=True)\n",
    "doc = ereader.read('../tests/data/ehost_test_problem_data/corpus/problem_doc.txt')"
   ]
  },
  {
   "cell_type": "code",
   "execution_count": 2,
   "id": "a19f1376-1ff1-471e-99d8-81ff21839d7b",
   "metadata": {},
   "outputs": [
    {
     "data": {
      "text/plain": [
       "['SectionHeader_HasSymptom', 'Symptom_Section', 'Symptom']"
      ]
     },
     "execution_count": 2,
     "metadata": {},
     "output_type": "execute_result"
    }
   ],
   "source": [
    "doc._.concepts"
   ]
  },
  {
   "cell_type": "code",
   "execution_count": 3,
   "id": "5fcd4333-0b59-46a1-aa98-e91e9f8b09d7",
   "metadata": {},
   "outputs": [
    {
     "name": "stdout",
     "output_type": "stream",
     "text": [
      "2010\n",
      "Veteran states that he is nauseous, provider informed\n",
      "\n",
      "\n",
      "nauseous\n"
     ]
    }
   ],
   "source": [
    "for c in doc._.concepts:\n",
    "    for span in doc.spans[c]:\n",
    "        print(span)"
   ]
  }
 ],
 "metadata": {
  "kernelspec": {
   "display_name": "Python 3 (ipykernel)",
   "language": "python",
   "name": "python3"
  },
  "language_info": {
   "codemirror_mode": {
    "name": "ipython",
    "version": 3
   },
   "file_extension": ".py",
   "mimetype": "text/x-python",
   "name": "python",
   "nbconvert_exporter": "python",
   "pygments_lexer": "ipython3",
   "version": "3.9.12"
  }
 },
 "nbformat": 4,
 "nbformat_minor": 5
}
