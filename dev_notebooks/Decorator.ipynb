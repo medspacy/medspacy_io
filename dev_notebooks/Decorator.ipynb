{
 "cells": [
  {
   "cell_type": "code",
   "execution_count": 1,
   "id": "da518568-cfcd-483c-b2a5-c831563544ed",
   "metadata": {},
   "outputs": [],
   "source": [
    "from spacy.language import Language\n",
    "from spacy.tokens.doc import Doc\n",
    "from spacy.tokens.span import Span\n",
    "import spacy\n",
    "import warnings\n",
    "from collections import OrderedDict, _OrderedDictItemsView\n"
   ]
  },
  {
   "cell_type": "code",
   "execution_count": 2,
   "id": "c6029e6e-bde8-4ebb-b0e4-7d85048e09a3",
   "metadata": {},
   "outputs": [],
   "source": [
    "class decorator(object):\n",
    "    def __init__(self, concept = list()):\n",
    "        self.concept = concept\n",
    "       \n",
    "    def set_concepts(self, value):\n",
    "        print('setting the type of concept...')\n",
    "        if isinstance(value, dict):\n",
    "            warnings.warn(\"Warning: 0.1.0.dev34 will be deprecated. Please use latest version!\")\n",
    "        self._concept = value\n",
    "        \n",
    "    def get_concepts(self):\n",
    "        print('getting concept...')\n",
    "        return self._concept\n",
    "        \n",
    "    concept = property(get_concepts, set_concepts)"
   ]
  },
  {
   "cell_type": "code",
   "execution_count": 3,
   "id": "f6ad0079-ec71-403d-836f-d9d1d319ea85",
   "metadata": {},
   "outputs": [
    {
     "name": "stdout",
     "output_type": "stream",
     "text": [
      "setting the type of concept...\n",
      "getting concept...\n",
      "<class '__main__.decorator'> <class 'property'> False\n",
      "setting the type of concept...\n",
      "<class '__main__.decorator'> <class 'property'> False\n"
     ]
    },
    {
     "name": "stderr",
     "output_type": "stream",
     "text": [
      "/var/folders/gv/s_wjfxw103524143nmnxqllw0000gq/T/ipykernel_52619/2250354632.py:8: UserWarning: Warning: 0.1.0.dev34 will be deprecated. Please use latest version!\n",
      "  warnings.warn(\"Warning: 0.1.0.dev34 will be deprecated. Please use latest version!\")\n"
     ]
    }
   ],
   "source": [
    "nlp = spacy.load(\"en_core_web_sm\")\n",
    "doc = nlp('some text')\n",
    "if not doc.has_extension('concepts'):\n",
    "    doc.set_extension('concepts', default=decorator)\n",
    "pass\n",
    "\n",
    "#testObj = doc._.concepts(list())\n",
    "testList = doc._.concepts(list()).concept\n",
    "print(doc._.concepts,type(doc._.concepts.concept),isinstance(doc._.concepts.concept, list))\n",
    "doc._.concepts(dict())\n",
    "print(doc._.concepts,type(doc._.concepts.concept),isinstance(doc._.concepts.concept, dict))\n",
    "\n"
   ]
  },
  {
   "cell_type": "code",
   "execution_count": 4,
   "id": "991519a5-650b-4ea5-b1c1-95c17c41acad",
   "metadata": {},
   "outputs": [
    {
     "name": "stdout",
     "output_type": "stream",
     "text": [
      "setting the type of concept...\n"
     ]
    }
   ],
   "source": [
    "concept_list = decorator(list())"
   ]
  },
  {
   "cell_type": "code",
   "execution_count": 5,
   "id": "f1c242fb-aa47-4f2d-a596-6fa1f3e8c2aa",
   "metadata": {},
   "outputs": [
    {
     "name": "stdout",
     "output_type": "stream",
     "text": [
      "getting concept...\n"
     ]
    }
   ],
   "source": [
    "getList = concept_list.concept"
   ]
  },
  {
   "cell_type": "code",
   "execution_count": 6,
   "id": "2e4a67c1-9472-4f82-b9a5-f53e90302216",
   "metadata": {},
   "outputs": [
    {
     "name": "stdout",
     "output_type": "stream",
     "text": [
      "<class 'list'>\n",
      "getting concept...\n",
      "<class 'list'>\n"
     ]
    }
   ],
   "source": [
    "print(type(getList))\n",
    "print(type(concept_list.concept))"
   ]
  },
  {
   "cell_type": "code",
   "execution_count": 7,
   "id": "1b44dcbe-4af7-4dc8-b69b-bd416bd8108a",
   "metadata": {},
   "outputs": [
    {
     "name": "stdout",
     "output_type": "stream",
     "text": [
      "setting the type of concept...\n",
      "getting concept...\n",
      "getting concept...\n",
      "True <class 'list'>\n",
      "setting the type of concept...\n",
      "getting concept...\n",
      "getting concept...\n",
      "True <class 'dict'>\n",
      "setting the type of concept...\n",
      "getting concept...\n",
      "getting concept...\n",
      "True <class 'collections.OrderedDict'>\n"
     ]
    },
    {
     "name": "stderr",
     "output_type": "stream",
     "text": [
      "/var/folders/gv/s_wjfxw103524143nmnxqllw0000gq/T/ipykernel_52619/2250354632.py:8: UserWarning: Warning: 0.1.0.dev34 will be deprecated. Please use latest version!\n",
      "  warnings.warn(\"Warning: 0.1.0.dev34 will be deprecated. Please use latest version!\")\n"
     ]
    }
   ],
   "source": [
    "testList = ['a','b']\n",
    "concept_list =decorator(list())\n",
    "print(isinstance(concept_list.concept,list),type(concept_list.concept))\n",
    "testDic = {'symb1':['a','b'],'symb2':['a','c']}\n",
    "concept_dic = decorator(dict())\n",
    "print(isinstance(concept_dic.concept,dict),type(concept_dic.concept))\n",
    "concept_dic = decorator(OrderedDict())\n",
    "print(isinstance(concept_dic.concept,dict),type(concept_dic.concept))"
   ]
  },
  {
   "cell_type": "code",
   "execution_count": 8,
   "id": "5458d472-1b9a-4707-9b6d-e2e87632b66a",
   "metadata": {},
   "outputs": [
    {
     "name": "stdout",
     "output_type": "stream",
     "text": [
      "setting the type of concept...\n",
      "getting concept...\n",
      "getting concept...\n",
      "True <class 'list'>\n",
      "getting concept...\n",
      "[]\n",
      "getting concept...\n",
      "getting concept...\n",
      "True <class 'list'>\n",
      "setting the type of concept...\n",
      "getting concept...\n",
      "getting concept...\n",
      "True <class 'list'>\n"
     ]
    }
   ],
   "source": [
    "concept_list = decorator(list())\n",
    "print(isinstance(concept_list.concept,list),type(concept_list.concept))\n",
    "print(concept_list.concept)\n",
    "print(isinstance(concept_list.concept,list),type(concept_list.concept))\n",
    "concept_list.concept = ['a','b']\n",
    "print(isinstance(concept_list.concept,list),type(concept_list.concept))\n",
    "#print(isinstance(concept_list.concept,list))"
   ]
  },
  {
   "cell_type": "code",
   "execution_count": null,
   "id": "b525c606-ae62-4e48-8efd-a8713b63e889",
   "metadata": {},
   "outputs": [],
   "source": []
  }
 ],
 "metadata": {
  "kernelspec": {
   "display_name": "Python 3 (ipykernel)",
   "language": "python",
   "name": "python3"
  },
  "language_info": {
   "codemirror_mode": {
    "name": "ipython",
    "version": 3
   },
   "file_extension": ".py",
   "mimetype": "text/x-python",
   "name": "python",
   "nbconvert_exporter": "python",
   "pygments_lexer": "ipython3",
   "version": "3.9.12"
  }
 },
 "nbformat": 4,
 "nbformat_minor": 5
}
