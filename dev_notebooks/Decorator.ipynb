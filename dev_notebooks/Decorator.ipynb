{
 "cells": [
  {
   "cell_type": "code",
   "execution_count": 1,
   "id": "da518568-cfcd-483c-b2a5-c831563544ed",
   "metadata": {},
   "outputs": [],
   "source": [
    "from spacy.language import Language\n",
    "from spacy.tokens.doc import Doc\n",
    "from spacy.tokens.span import Span\n",
    "import spacy\n",
    "import warnings"
   ]
  },
  {
   "cell_type": "code",
   "execution_count": 2,
   "id": "c6029e6e-bde8-4ebb-b0e4-7d85048e09a3",
   "metadata": {},
   "outputs": [],
   "source": [
    "class decorator(object):\n",
    "    def __init__(self, concept = list()):\n",
    "        self.concept = concept\n",
    "       \n",
    "    def set_concepts(self, value):\n",
    "        print('setting the type of concept...')\n",
    "        if isinstance(value, dict):\n",
    "            warnings.warn(\"Warning: 0.1.0.dev34 will be deprecated. Please use latest version!\")\n",
    "        self._concept = value\n",
    "        \n",
    "    def get_concepts(self):\n",
    "        print('getting concept...')\n",
    "        return self._concept\n",
    "        \n",
    "    concepts = property(set_concepts,get_concepts)"
   ]
  },
  {
   "cell_type": "code",
   "execution_count": 3,
   "id": "f6ad0079-ec71-403d-836f-d9d1d319ea85",
   "metadata": {},
   "outputs": [],
   "source": [
    "nlp = spacy.load(\"en_core_web_sm\")\n",
    "doc = nlp('some text')"
   ]
  },
  {
   "cell_type": "code",
   "execution_count": 4,
   "id": "1b44dcbe-4af7-4dc8-b69b-bd416bd8108a",
   "metadata": {},
   "outputs": [
    {
     "name": "stdout",
     "output_type": "stream",
     "text": [
      "True <class 'list'>\n",
      "True <class 'dict'>\n"
     ]
    }
   ],
   "source": [
    "concept_list =decorator(['a','b'])\n",
    "print(isinstance(concept_list.concept,list),type(concept_list.concept))\n",
    "concept_dic = decorator({'symb1':['a','b'],'symb2':['a','c']})\n",
    "print(isinstance(concept_dic.concept,dict),type(concept_dic.concept))"
   ]
  },
  {
   "cell_type": "code",
   "execution_count": 5,
   "id": "5458d472-1b9a-4707-9b6d-e2e87632b66a",
   "metadata": {},
   "outputs": [
    {
     "name": "stdout",
     "output_type": "stream",
     "text": [
      "False <class 'type'>\n",
      "<class 'list'>\n",
      "False <class 'type'>\n",
      "True <class 'list'>\n"
     ]
    }
   ],
   "source": [
    "concept_list = decorator(list)\n",
    "print(isinstance(concept_list.concept,list),type(concept_list.concept))\n",
    "print(concept_list.concept)\n",
    "print(isinstance(concept_list.concept,list),type(concept_list.concept))\n",
    "concept_list.concept = ['a','b']\n",
    "print(isinstance(concept_list.concept,list),type(concept_list.concept))\n",
    "#print(isinstance(concept_list.concept,list))"
   ]
  }
 ],
 "metadata": {
  "kernelspec": {
   "display_name": "Python 3 (ipykernel)",
   "language": "python",
   "name": "python3"
  },
  "language_info": {
   "codemirror_mode": {
    "name": "ipython",
    "version": 3
   },
   "file_extension": ".py",
   "mimetype": "text/x-python",
   "name": "python",
   "nbconvert_exporter": "python",
   "pygments_lexer": "ipython3",
   "version": "3.9.12"
  }
 },
 "nbformat": 4,
 "nbformat_minor": 5
}
