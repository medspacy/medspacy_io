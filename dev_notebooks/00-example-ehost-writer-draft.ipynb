{
 "cells": [
  {
   "cell_type": "code",
   "execution_count": 1,
   "metadata": {},
   "outputs": [],
   "source": [
    "%load_ext autoreload\n",
    "%autoreload 2"
   ]
  },
  {
   "cell_type": "code",
   "execution_count": 2,
   "metadata": {},
   "outputs": [],
   "source": [
    "import sys"
   ]
  },
  {
   "cell_type": "code",
   "execution_count": 6,
   "metadata": {},
   "outputs": [],
   "source": [
    "sys.path.append(\"../medspacy_io/writer/\")"
   ]
  },
  {
   "cell_type": "code",
   "execution_count": 7,
   "metadata": {},
   "outputs": [],
   "source": [
    "import spacy\n",
    "from cycontext import ConTextComponent\n",
    "from cycontext.viz import visualize_ent\n",
    "\n",
    "from clinical_sectionizer import Sectionizer"
   ]
  },
  {
   "cell_type": "code",
   "execution_count": 8,
   "metadata": {},
   "outputs": [],
   "source": [
    "import ehost_writer"
   ]
  },
  {
   "cell_type": "code",
   "execution_count": null,
   "metadata": {},
   "outputs": [],
   "source": [
    "!pip install https://github.com/abchapman93/spacy_models/raw/master/releases/en_info_3700_i2b2_2012-0.1.0/dist/en_info_3700_i2b2_2012-0.1.0.tar.gz\n"
   ]
  },
  {
   "cell_type": "code",
   "execution_count": 9,
   "metadata": {},
   "outputs": [],
   "source": [
    "nlp = spacy.load(\"en_info_3700_i2b2_2012\")"
   ]
  },
  {
   "cell_type": "code",
   "execution_count": 10,
   "metadata": {},
   "outputs": [],
   "source": [
    "nlp.add_pipe(ConTextComponent(nlp))\n",
    "nlp.add_pipe(Sectionizer(nlp))"
   ]
  },
  {
   "cell_type": "code",
   "execution_count": 11,
   "metadata": {},
   "outputs": [],
   "source": [
    "texts = [\"\"\"\n",
    "\n",
    "Admission Date:  [**2573-5-30**]              Discharge Date:   [**2573-7-1**]\n",
    " \n",
    "Date of Birth:  [**2498-8-19**]             Sex:   F\n",
    " \n",
    "Service: SURGERY\n",
    " \n",
    "Allergies: \n",
    "Hydrochlorothiazide\n",
    " \n",
    "Attending:[**First Name3 (LF) 1893**] \n",
    "Chief Complaint:\n",
    "Abdominal pain\n",
    " \n",
    "Major Surgical or Invasive Procedure:\n",
    "PICC line [**6-25**]\n",
    "ERCP w/ sphincterotomy [**5-31**]\n",
    "TEE [**6-22**]\n",
    "Tracheostomy [**6-24**]\n",
    "\n",
    " \n",
    "History of Present Illness:\n",
    "74y female with hypertension and a recent stroke affecting her \n",
    "speech, who presents with 2 days of abdominal pain.  She states \n",
    "it is constant, and radiates to her back.  It started after \n",
    "eating a double cheese pizza and hard lemonade.  There is no \n",
    "prior history of such an episode.  She had multiple bouts of \n",
    "nausea and vomiting, with chills and decreased flatus.\n",
    " \n",
    "Past Medical History:\n",
    "1. Colon cancer dx'd in [**2554**], tx'd with hemicolectomy, XRT, \n",
    "chemo. Last colonoscopy showed: Last CEA was in the 8 range \n",
    "(down from 9) \n",
    "2. Lymphedema from XRT, takes a diuretic \n",
    "3. Cataracts \n",
    "4. Hypertension \n",
    "5. heart murmur - TTE in [**2567**] showed LA mod dilated, LV mildly \n",
    "hypertrophied, aortic sclerosis, mild AI, mild MR. \n",
    "6. Anxiety \n",
    "7. CAD \n",
    "8. Left corona radiata stroke with right facial droop and \n",
    "dysathria [**1-/2573**]\n",
    "9. gallstones\n",
    "10. scoliosis\n",
    "11. rectus sheath hematoma\n",
    "12. history of sacral ulcer status post z-plasty\n",
    "13. ectopic pregnancy x2\n",
    "\n",
    " \n",
    "Social History:\n",
    "Married, former secretary, waitress. + tobacco x 40 years at \n",
    "4ppd, quit 30 yrs ago. No alcohol or drug use.\n",
    " \n",
    "Family History:\n",
    "Mother with stroke at age 82. no early deaths. \n",
    "2 daughters- healthy\n",
    " \n",
    "Physical Exam:\n",
    "VS: temp 101.5, HR 114, BP 213/98, RR 20, 97%RA\n",
    "Ill appearing, no distress\n",
    "Sclera mildly icteric, mucous membranes dry\n",
    "Lungs clear to auscultation bilaterally\n",
    "Abdomen distended, soft, diffusely tender, especially in the \n",
    "epigastrum and right upper quandrant\n",
    "Rectal tone normal with no masses, guaiac negative\n",
    "Extremities warm, well perfused, 3+ edema\n",
    " \n",
    "Pertinent Results:\n",
    "[**2573-5-30**] 09:10PM BLOOD WBC-19.2*# RBC-4.81 Hgb-15.5 Hct-44.0 \n",
    "MCV-92 MCH-32.3* MCHC-35.2* RDW-13.3 Plt Ct-230\n",
    "[**2573-5-30**] 09:10PM BLOOD Neuts-87* Bands-10* Lymphs-3* Monos-0 \n",
    "Eos-0 Baso-0 Atyps-0 Metas-0 Myelos-0\n",
    "[**2573-5-30**] 09:10PM BLOOD PT-13.1 PTT-23.2 INR(PT)-1.1\n",
    "[**2573-5-30**] 09:10PM BLOOD Glucose-189* UreaN-29* Creat-1.2* Na-143 \n",
    "K-3.5 Cl-104 HCO3-24 AnGap-19\n",
    "[**2573-5-30**] 09:10PM BLOOD ALT-345* AST-388* AlkPhos-246* \n",
    "Amylase-1235* TotBili-8.4*\n",
    "[**2573-5-30**] 09:10PM BLOOD Lipase-2443*\n",
    "[**2573-5-30**] 09:10PM BLOOD Albumin-4.2 Calcium-9.3 Mg-1.2*\n",
    "\n",
    "[**2573-7-1**] 03:01AM BLOOD WBC-7.5 RBC-2.95* Hgb-8.8* Hct-27.7* \n",
    "MCV-94 MCH-29.9 MCHC-31.8 RDW-17.1* Plt Ct-213\n",
    "[**2573-7-1**] 03:01AM BLOOD Plt Ct-213\n",
    "[**2573-7-1**] 03:01AM BLOOD Glucose-100 UreaN-25* Creat-1.2* Na-141 \n",
    "K-3.5 Cl-102 HCO3-31* AnGap-12\n",
    "[**2573-6-29**] 12:45AM BLOOD ALT-22 AST-14 AlkPhos-159* Amylase-37 \n",
    "TotBili-0.7\n",
    "[**2573-6-29**] 12:45AM BLOOD Lipase-37\n",
    "[**2573-7-1**] 03:01AM BLOOD Calcium-8.4 Phos-3.0 Mg-1.8\n",
    "[**2573-7-1**] 05:25AM BLOOD Vanco-17.8*\n",
    "\n",
    "Ultrasound [**5-30**]: IMPRESSION: 1. Dilated common bile duct with \n",
    "mild intrahepatic biliary ductal dilatation and dilataion of the \n",
    "pancreatic duct. 2. Edematous gallbladder wall.\n",
    "\n",
    "ERCP [**5-31**]: There was bulging of the major pailla suggestive of an \n",
    "impacted stone. A stone causing partial obstruction was seen in \n",
    "the distal CBD. \n",
    "There was dilation of the CBD above the stone however accurate \n",
    "radiographic evaluation could not be obtained due to the use of \n",
    "the C-arm in the ICU. A sphincterotomy was performed in the 12 \n",
    "o'clock position using a sphincterotome over an existing \n",
    "guidewire. A 15mm balloon was used to sweep the duct multiple \n",
    "times wich successfully extracted stones, sludge and a large \n",
    "amount of purulent material. \n",
    "\n",
    " \n",
    "Brief Hospital Course:\n",
    "Ms. [**Known patient lastname 2004**] was admitted on [**2573-5-30**]. Ultrasound at the time of \n",
    "admission demonstrated pancreatic duct dilitation and an \n",
    "edematous gallbladder. She was admitted to the ICU. [**5-31**] she \n",
    "underwent ERCP w/ sphincterotomy, an impacted stone was removed. \n",
    "She has had a prolonged ICU course. Review of hospital course by \n",
    "system includes.\n",
    "Neuro: Neurology was consutled on [**6-11**] for mental status \n",
    "changes. The team believed the patient's MS [**First Name (Titles) 1935**] [**Last Name (Titles) 2005**] from \n",
    "her overall metabolic and infectious  conditions. A head CT was \n",
    "performed which was negative. A lumbar puncture was also done \n",
    "which too was negative. \n",
    "\n",
    "Cardiovascular: The cardiology team was consulted on [**6-1**] and a \n",
    "TTE was obtained showing decreased biventricular systolic \n",
    "dysfunction representing a diffuse process. On [**6-14**] a repeat TTE \n",
    "followed by a TEE was done to rule out endocarditis; no \n",
    "vegatation or abscess was seen. A TEE was again performed on \n",
    "[**6-22**] there was no significant change from the prior study. The \n",
    "patient was treated with amiodarone to control her atrial \n",
    "fibrillation. \n",
    "\n",
    "Pulmonary: Patient was intubated on admission and transferred to \n",
    "the ICU. Patient was initially extubated on hospital day six. \n",
    "The patient was re-intubated on [**6-12**] for hypercarbic respiratory \n",
    "failure and airway protection. The patient was extubated again \n",
    "on [**6-18**] and re-intubated on [**6-19**] for respiratory decompensation. \n",
    "The patient ultimately underwent a tracheostomy on [**6-24**]. The \n",
    "patient tolerated a trach mask on [**6-25**]. Bronchoscopy on [**6-26**] \n",
    "with suctioning of bronchial plugs. CT chest on [**6-27**] showed \n",
    "collapse of the left lung with left sided pleural effusion. Left \n",
    "sided thoracentesis was done on [**6-27**] to remove fluid with hope \n",
    "of re-expanding left lung.\n",
    "\n",
    "GI: Patient was admitted with a diagnosis of gallstone \n",
    "pancreatitis, she underwent ERCP w/ sphincterotomy on [**5-31**]. Her \n",
    "tube feeds were started due anticipation of a  prolonged period \n",
    "without orally based enteral nutrition. [**6-9**] patient had a CT \n",
    "scan of the abdomen,it showed no gallstones or abscess. A \n",
    "post-pyloric dobhoff was placed on [**6-14**]. The patient's caloric \n",
    "intake was maintained by a combination of TPN and tube feeds. \n",
    "Each nutritional replacment was employed at different times \n",
    "independently of the other based on the patient's tolerance for \n",
    "tube feeds or TPN.\n",
    "\n",
    "FEN: Patient was dehydrated, with hypovolemia and treated with \n",
    "aggressive fluid hydration upon admission to the hospital. Tube \n",
    "feeds were held on [**6-30**] due to high residuals. Currently the \n",
    "patient is not on TPN, while nutrition more recently has been \n",
    "maintained with tube feeds.\n",
    "\n",
    "Renal: Foley in place to monitor urine output.\n",
    "\n",
    "Heme: Blood loss and anemia in the unit requiring multiple \n",
    "transfusions. Currently, hematocrit is stable.\n",
    "\n",
    "ID: Consult was obtained on [**6-12**] the ID team continued to follow \n",
    "the patient throughout her entire hospital stay. The patient had \n",
    "multiple episodes of fever and cultures which were positive for \n",
    "the following organisms. [**6-26**] Blood: MRSA // [**6-23**] Sputum: MRSA, \n",
    "Klebsiella // [**6-22**] Sputum: MRSA, Klebsiella // 23: Bld/Tip- pend \n",
    "// [**6-19**] Blood: [**Female First Name (un) **] // [**6-19**]: urine - neg // [**6-18**] Blood: \n",
    "[**Female First Name (un) **] // [**6-16**] Blood: [**Female First Name (un) **] // [**6-14**] Blood: [**Female First Name (un) **] // [**6-13**] \n",
    "Blood: [**Female First Name (un) **] // [**6-12**] Bladder swab: Enterococcus, [**Female First Name (un) **], \n",
    "Staph coag Pos, GNR, Staph Coag Neg // [**6-12**] Blood: [**Female First Name (un) **] // \n",
    "[**6-11**] Cath tip: [**Female First Name (un) **] // [**6-11**] Blood: [**Female First Name (un) **] // [**6-11**] Urine: \n",
    "Enterococcus, Yeast // [**6-9**] Cath tip: [**Female First Name (un) **] // Urine [**5-30**] \n",
    "KLEBSIELLA PNEUMONIAE, Viridans // Blood 5/01 KLEBSIELLA \n",
    "PNEUMONIAE, Corynybacterium \n",
    "Additionally the patient had multiple line changes secondary to \n",
    "spiking temperatures and positive cultures.The patient was \n",
    "treated with multiple antibiotics during her hospital course and \n",
    "at the time of discharge he was being treated with Ambisome, \n",
    "Caspofungin and Vancomycin. Please continue Ambisome and \n",
    "caspofungin until [**7-6**], Vancomycin should be continued until \n",
    "[**7-12**].\n",
    "\n",
    "Endo: The patient has been maintained on an insulin sliding \n",
    "scale through the duration of her hospital course.\n",
    "\n",
    "Consults: The team orderd a pysch consult on the patient on [**6-7**] \n",
    "becuse the patient appeared to be confused. An opthomology \n",
    "consult was ordered to rule out fungally related eye infection. \n",
    "The patient was seen and evaluated by optho; they deemed that \n",
    "there was no eye infection.\n",
    "\n",
    "Hospital Procedures while in the SICU\n",
    "PICC line [**6-25**]\n",
    "Mulitple bronchoscopies\n",
    "Left thoracocentesis [**6-27**]\n",
    "Transesophageal echo [**6-22**]: normal\n",
    "ERCP with sphincterotomy [**5-31**]\n",
    "Tracheostomy [**6-24**]\n",
    "\n",
    " \n",
    "Medications on Admission:\n",
    "ASA 325mg daily\n",
    "buspirone 5mg TID\n",
    "colace 100mg BID\n",
    "lasix 20mg daily\n",
    "lipitor 10mg daily\n",
    "lisinopril 20mg daily\n",
    "neurontin 100mg BID\n",
    "omeprazole 20mg daily\n",
    "roxicet prn\n",
    "zinc 220mg daily\n",
    "vit C\n",
    " \n",
    "Discharge Medications:\n",
    "1. Miconazole Nitrate 2 % Powder Sig: One (1) Appl Topical  BID \n",
    "(2 times a day) as needed.  \n",
    "2. Heparin Sodium (Porcine) 5,000 unit/mL Solution Sig: One (1)  \n",
    "Injection TID (3 times a day).  \n",
    "3. Acetaminophen 160 mg/5 mL Elixir Sig: One (1)  PO Q4-6H \n",
    "(every 4 to 6 hours) as needed.  \n",
    "4. Terbinafine HCl 1 % Cream Sig: One (1) Appl Topical  BID (2 \n",
    "times a day).  \n",
    "5. Insulin Regular Human 100 unit/mL Solution Sig: One (1)  \n",
    "Injection ASDIR (AS DIRECTED).  \n",
    "6. Albuterol-Ipratropium 103-18 mcg/Actuation Aerosol Sig: [**1-31**] \n",
    "Puffs Inhalation Q6H (every 6 hours) as needed.  \n",
    "7. Lansoprazole 30 mg Capsule, Delayed Release(E.C.) Sig: One \n",
    "(1) Capsule, Delayed Release(E.C.) PO DAILY (Daily).  \n",
    "8. Metoprolol Tartrate 50 mg Tablet Sig: 1.5 Tablets PO TID (3 \n",
    "times a day).  \n",
    "9. Sertraline HCl 50 mg Tablet Sig: One (1) Tablet PO DAILY \n",
    "(Daily).  \n",
    "10. Amiodarone HCl 200 mg Tablet Sig: Two (2) Tablet PO BID (2 \n",
    "times a day).  \n",
    "11. Hydralazine HCl 10 mg IV Q6 PRN \n",
    "12. Fentanyl Citrate 25-50 mcg IV Q2H:PRN \n",
    "13. Caspofungin 50 mg IV Q24H \n",
    "14. Ambisome 300 mg IV Q24H \n",
    "15. Furosemide 40 mg IV BID \n",
    "16. Vancomycin HCl 1000 mg IV Q24H \n",
    "vanco level 17 \n",
    "17. Dolasetron Mesylate 12.5 mg IV Q4H:PRN \"\"\",\n",
    "\n",
    "\"\"\"\n",
    "Discharge Disposition:\n",
    "Extended Care\n",
    " \n",
    "Facility:\n",
    "[**Hospital3 1446**] & Rehab Center - [**Hospital1 370**]\n",
    " \n",
    "Discharge Diagnosis:\n",
    "Atrial Fibrillation\n",
    "Pancreatitis\n",
    "HTN\n",
    "hyperlipidemia\n",
    "h/o aspiration respiratory distress\n",
    "bacteremia ([**Female First Name (un) 929**])\n",
    "UTI (klebsiella)\n",
    "\n",
    " \n",
    "Discharge Condition:\n",
    "Good\n",
    " \n",
    "Discharge Instructions:\n",
    "Patient may shower. Please call your surgeon or return to the \n",
    "emergency room if [**Doctor First Name **] experience fever >101.5, nausea, vomiting, \n",
    "abdominal pain, shortness of breath, abdominal pain or any \n",
    "significant  change in your medical condition. Ambisome and \n",
    "caspofungin should be continued til [**7-6**] while vanco should be \n",
    "continued til [**7-12**].\n",
    " \n",
    "Followup Instructions:\n",
    "Please follow up with Dr. [**Last Name (STitle) **] in 2 weeks. Upon discharge \n",
    "please call Dr.[**Initials (NamePattern4) 1895**] [**Last Name (NamePattern4) 2006**] in order to schedule your \n",
    "follow up appointment.([**Telephone/Fax (1) 2007**]\n",
    " \n",
    "Provider: [**Name10 (NameIs) 296**] [**Last Name (NamePattern4) 340**], M.D. [**MD Number 60**]: [**Hospital6 64**] \n",
    "[**Hospital3 2008**] CENTER Phone:[**Telephone/Fax (1) 341**] Date/Time:[**2573-11-24**] 9:15\n",
    " \n",
    "Provider: [**First Name11 (Name Pattern1) **] [**Last Name (NamePattern1) 2009**], MD [**MD Number 60**]: [**Hospital6 64**] \n",
    "HEMATOLOGY/ONCOLOGY Phone:[**Telephone/Fax (1) 936**] Date/Time:[**2574-5-11**] 10:00\n",
    " \n",
    "\n",
    " \n",
    "\n",
    " \n",
    "                             [**First Name11 (Name Pattern1) **] [**Last Name (NamePattern4) **] MD [**MD Number 1896**]\n",
    " \n",
    "Completed by: [**First Name11 (Name Pattern1) 2010**] [**Last Name (NamePattern1) 2011**] MD [**MD Number 2012**] [**2573-7-1**] @ 1404\n",
    "Signed electronically by: DR. [**First Name8 (NamePattern2) **] [**Last Name (NamePattern1) **]\n",
    " on: FRI [**2573-7-2**] 8:03 AM\n",
    "(End of Report)\n",
    "\n",
    "\"\"\"]"
   ]
  },
  {
   "cell_type": "code",
   "execution_count": 12,
   "metadata": {},
   "outputs": [],
   "source": [
    "docs = list(nlp.pipe(texts))"
   ]
  },
  {
   "cell_type": "code",
   "execution_count": 59,
   "metadata": {},
   "outputs": [],
   "source": [
    "docs = [nlp(\"family history of breast cancer.\")]"
   ]
  },
  {
   "cell_type": "code",
   "execution_count": 60,
   "metadata": {},
   "outputs": [
    {
     "data": {
      "text/html": [
       "<div class=\"entities\" style=\"line-height: 2.5; direction: ltr\">\n",
       "<mark class=\"entity\" style=\"background: #2ca02c; padding: 0.45em 0.6em; margin: 0 0.25em; line-height: 1; border-radius: 0.35em;\">\n",
       "    family\n",
       "    <span style=\"font-size: 0.8em; font-weight: bold; line-height: 1; border-radius: 0.35em; text-transform: uppercase; vertical-align: middle; margin-left: 0.5rem\">FAMILY</span>\n",
       "</mark>\n",
       " \n",
       "<mark class=\"entity\" style=\"background: #1f77b4; padding: 0.45em 0.6em; margin: 0 0.25em; line-height: 1; border-radius: 0.35em;\">\n",
       "    history\n",
       "    <span style=\"font-size: 0.8em; font-weight: bold; line-height: 1; border-radius: 0.35em; text-transform: uppercase; vertical-align: middle; margin-left: 0.5rem\">HISTORICAL</span>\n",
       "</mark>\n",
       " of \n",
       "<mark class=\"entity\" style=\"background: #ff7f0e; padding: 0.45em 0.6em; margin: 0 0.25em; line-height: 1; border-radius: 0.35em;\">\n",
       "    breast cancer\n",
       "    <span style=\"font-size: 0.8em; font-weight: bold; line-height: 1; border-radius: 0.35em; text-transform: uppercase; vertical-align: middle; margin-left: 0.5rem\">PROBLEM</span>\n",
       "</mark>\n",
       ".</div>"
      ],
      "text/plain": [
       "<IPython.core.display.HTML object>"
      ]
     },
     "metadata": {},
     "output_type": "display_data"
    }
   ],
   "source": [
    "visualize_ent(docs[0])"
   ]
  },
  {
   "cell_type": "code",
   "execution_count": 55,
   "metadata": {},
   "outputs": [],
   "source": [
    "ner = nlp.get_pipe(\"ner\")"
   ]
  },
  {
   "cell_type": "code",
   "execution_count": 56,
   "metadata": {},
   "outputs": [
    {
     "data": {
      "text/plain": [
       "('PROBLEM', 'TEST', 'TREATMENT')"
      ]
     },
     "execution_count": 56,
     "metadata": {},
     "output_type": "execute_result"
    }
   ],
   "source": [
    "ner.labels"
   ]
  },
  {
   "cell_type": "code",
   "execution_count": 80,
   "metadata": {},
   "outputs": [],
   "source": [
    "writer = ehost_writer.EhostWriter(annotation_labels=ner.labels)"
   ]
  },
  {
   "cell_type": "code",
   "execution_count": 81,
   "metadata": {},
   "outputs": [
    {
     "name": "stdout",
     "output_type": "stream",
     "text": [
      "<Element stringSlotMention at 0x123a20448>\n",
      "<Element stringSlotMention at 0x123a20a88>\n"
     ]
    }
   ],
   "source": [
    "writer.write_docs_to_ehost(docs, [\"fake_doc\"], \"./ehost_corpus\", True)"
   ]
  },
  {
   "cell_type": "code",
   "execution_count": 58,
   "metadata": {},
   "outputs": [
    {
     "name": "stdout",
     "output_type": "stream",
     "text": [
      "is_hypothetical\n",
      "false\n",
      "<Element stringSlotMention at 0x123a31208>\n",
      "is_family\n",
      "true\n",
      "<Element stringSlotMention at 0x123a31e48>\n",
      "is_historical\n",
      "true\n",
      "<Element stringSlotMention at 0x123a31208>\n",
      "is_uncertain\n",
      "false\n",
      "<Element stringSlotMention at 0x123a31e48>\n",
      "is_negated\n",
      "false\n",
      "<Element stringSlotMention at 0x123a31208>\n"
     ]
    }
   ],
   "source": [
    "writer.write_docs_to_ehost(docs, [\"doc_1\", \"doc_2\"], \"./ehost_corpus\", True)"
   ]
  },
  {
   "cell_type": "code",
   "execution_count": 18,
   "metadata": {},
   "outputs": [
    {
     "data": {
      "text/plain": [
       "Allergies:"
      ]
     },
     "execution_count": 18,
     "metadata": {},
     "output_type": "execute_result"
    }
   ],
   "source": [
    "doc = docs[0]\n",
    "doc._.section_headers[1]"
   ]
  },
  {
   "cell_type": "code",
   "execution_count": 21,
   "metadata": {},
   "outputs": [
    {
     "data": {
      "text/plain": [
       "{'PROBLEM': (31, 119, 180),\n",
       " 'TEST': (255, 127, 14),\n",
       " 'TREATMENT': (44, 160, 44),\n",
       " 'HISTORICAL': (220, 220, 220),\n",
       " 'NEGATED_EXISTENCE': (220, 220, 220),\n",
       " 'FAMILY': (220, 220, 220),\n",
       " 'POSSIBLE_EXISTENCE': (220, 220, 220),\n",
       " 'allergy': (220, 220, 220),\n",
       " 'chief_complaint': (220, 220, 220),\n",
       " 'other': (220, 220, 220),\n",
       " 'present_illness': (220, 220, 220),\n",
       " 'past_medical_history': (220, 220, 220),\n",
       " 'sexual_and_social_history': (220, 220, 220),\n",
       " 'family_history': (220, 220, 220),\n",
       " 'Physical Exam': (220, 220, 220),\n",
       " 'observation_and_plan': (220, 220, 220),\n",
       " 'medication': (220, 220, 220),\n",
       " 'patient_instructions': (220, 220, 220),\n",
       " 'signature': (220, 220, 220)}"
      ]
     },
     "execution_count": 21,
     "metadata": {},
     "output_type": "execute_result"
    }
   ],
   "source": [
    "writer.annotation_color_mapping"
   ]
  },
  {
   "cell_type": "code",
   "execution_count": null,
   "metadata": {},
   "outputs": [],
   "source": []
  }
 ],
 "metadata": {
  "kernelspec": {
   "display_name": "Python 3 (ipykernel)",
   "language": "python",
   "name": "python3"
  },
  "language_info": {
   "codemirror_mode": {
    "name": "ipython",
    "version": 3
   },
   "file_extension": ".py",
   "mimetype": "text/x-python",
   "name": "python",
   "nbconvert_exporter": "python",
   "pygments_lexer": "ipython3",
   "version": "3.9.12"
  },
  "toc": {
   "base_numbering": 1,
   "nav_menu": {},
   "number_sections": true,
   "sideBar": true,
   "skip_h1_title": false,
   "title_cell": "Table of Contents",
   "title_sidebar": "Contents",
   "toc_cell": false,
   "toc_position": {},
   "toc_section_display": true,
   "toc_window_display": false
  }
 },
 "nbformat": 4,
 "nbformat_minor": 4
}
