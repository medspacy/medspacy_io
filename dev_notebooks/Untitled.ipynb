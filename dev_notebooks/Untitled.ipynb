{
 "cells": [
  {
   "cell_type": "code",
   "execution_count": 1,
   "id": "139acd81-b988-43ae-92ff-dfa158027076",
   "metadata": {},
   "outputs": [],
   "source": [
    "from spacy.lang.en import English\n",
    "from medspacy_io.reader import EhostDocReader\n",
    "from medspacy_io.reader import EhostDirReader\n",
    "\n",
    "\n",
    "from spacy.tokens import Doc\n",
    "\n",
    "if Doc.has_extension(\"concepts\"):\n",
    "            Doc.remove_extension(\"concepts\")\n"
   ]
  },
  {
   "cell_type": "code",
   "execution_count": 2,
   "id": "fae145a7-4f0a-4efd-ade1-2eec563608d2",
   "metadata": {},
   "outputs": [
    {
     "ename": "NameError",
     "evalue": "docReaderClass must not be None, and must be a subclass of \"BaseDocReader.\"",
     "output_type": "error",
     "traceback": [
      "\u001b[0;31m---------------------------------------------------------------------------\u001b[0m",
      "\u001b[0;31mNameError\u001b[0m                                 Traceback (most recent call last)",
      "Input \u001b[0;32mIn [2]\u001b[0m, in \u001b[0;36m<cell line: 4>\u001b[0;34m()\u001b[0m\n\u001b[1;32m      1\u001b[0m \u001b[38;5;66;03m#ereader = EhostDocReader(nlp=English(), schema_file='../tests/data/ehost_test_corpus3_overlap/config/projectschema.xml',support_overlap=True)\u001b[39;00m\n\u001b[0;32m----> 4\u001b[0m dir_reader \u001b[38;5;241m=\u001b[39m \u001b[43mEhostDirReader\u001b[49m\u001b[43m(\u001b[49m\u001b[43mtxt_extension\u001b[49m\u001b[38;5;241;43m=\u001b[39;49m\u001b[38;5;124;43m'\u001b[39;49m\u001b[38;5;124;43mtxt\u001b[39;49m\u001b[38;5;124;43m'\u001b[39;49m\u001b[43m,\u001b[49m\u001b[43m \u001b[49m\u001b[43mnlp\u001b[49m\u001b[38;5;241;43m=\u001b[39;49m\u001b[43mEnglish\u001b[49m\u001b[43m(\u001b[49m\u001b[43m)\u001b[49m\u001b[43m,\u001b[49m\u001b[43m \u001b[49m\u001b[43mrecursive\u001b[49m\u001b[38;5;241;43m=\u001b[39;49m\u001b[38;5;28;43;01mTrue\u001b[39;49;00m\u001b[43m,\u001b[49m\u001b[43m \u001b[49m\u001b[43mschema_file\u001b[49m\u001b[38;5;241;43m=\u001b[39;49m\u001b[38;5;124;43m'\u001b[39;49m\u001b[38;5;124;43m../tests/data/ehost_test_corpus/config/projectschema.xml\u001b[39;49m\u001b[38;5;124;43m'\u001b[39;49m\u001b[43m)\u001b[49m\n\u001b[1;32m      5\u001b[0m docs \u001b[38;5;241m=\u001b[39m dir_reader\u001b[38;5;241m.\u001b[39mread(txt_dir\u001b[38;5;241m=\u001b[39m\u001b[38;5;124m'\u001b[39m\u001b[38;5;124m../tests/data/ehost_test_corpus/\u001b[39m\u001b[38;5;124m'\u001b[39m)\n",
      "File \u001b[0;32m~/opt/anaconda3/lib/python3.9/site-packages/medspacy_io/reader/ehost_reader.py:317\u001b[0m, in \u001b[0;36mEhostDirReader.__init__\u001b[0;34m(self, txt_extension, nlp, docReaderClass, recursive, support_overlap, use_adjudication, schema_file, **kwargs)\u001b[0m\n\u001b[1;32m    301\u001b[0m \u001b[38;5;28;01mdef\u001b[39;00m \u001b[38;5;21m__init__\u001b[39m(\u001b[38;5;28mself\u001b[39m, txt_extension: \u001b[38;5;28mstr\u001b[39m \u001b[38;5;241m=\u001b[39m \u001b[38;5;124m'\u001b[39m\u001b[38;5;124mtxt\u001b[39m\u001b[38;5;124m'\u001b[39m, nlp: Language \u001b[38;5;241m=\u001b[39m \u001b[38;5;28;01mNone\u001b[39;00m,\n\u001b[1;32m    302\u001b[0m              docReaderClass: Type \u001b[38;5;241m=\u001b[39m \u001b[38;5;28;01mNone\u001b[39;00m, recursive: \u001b[38;5;28mbool\u001b[39m \u001b[38;5;241m=\u001b[39m \u001b[38;5;28;01mFalse\u001b[39;00m,\n\u001b[1;32m    303\u001b[0m              support_overlap: \u001b[38;5;28mbool\u001b[39m \u001b[38;5;241m=\u001b[39m \u001b[38;5;28;01mFalse\u001b[39;00m, use_adjudication: \u001b[38;5;28mbool\u001b[39m \u001b[38;5;241m=\u001b[39m \u001b[38;5;28;01mFalse\u001b[39;00m,\n\u001b[1;32m    304\u001b[0m              schema_file: Union[\u001b[38;5;28mstr\u001b[39m, Path] \u001b[38;5;241m=\u001b[39m \u001b[38;5;124m'\u001b[39m\u001b[38;5;124m'\u001b[39m, \u001b[38;5;241m*\u001b[39m\u001b[38;5;241m*\u001b[39mkwargs):\n\u001b[1;32m    305\u001b[0m     \u001b[38;5;124;03m\"\"\"\u001b[39;00m\n\u001b[1;32m    306\u001b[0m \u001b[38;5;124;03m    content are saved in the same file).\u001b[39;00m\n\u001b[1;32m    307\u001b[0m \u001b[38;5;124;03m    :param txt_extension: the text file extension name (default is 'txt').\u001b[39;00m\n\u001b[0;32m   (...)\u001b[0m\n\u001b[1;32m    315\u001b[0m \u001b[38;5;124;03m    :param schema_file: initiate Span attributes using eHOST schema configuration file\u001b[39;00m\n\u001b[1;32m    316\u001b[0m \u001b[38;5;124;03m    \"\"\"\u001b[39;00m\n\u001b[0;32m--> 317\u001b[0m     \u001b[38;5;28;43msuper\u001b[39;49m\u001b[43m(\u001b[49m\u001b[43m)\u001b[49m\u001b[38;5;241;43m.\u001b[39;49m\u001b[38;5;21;43m__init__\u001b[39;49m\u001b[43m(\u001b[49m\u001b[43mtxt_extension\u001b[49m\u001b[38;5;241;43m=\u001b[39;49m\u001b[43mtxt_extension\u001b[49m\u001b[43m,\u001b[49m\u001b[43m \u001b[49m\u001b[43mnlp\u001b[49m\u001b[38;5;241;43m=\u001b[39;49m\u001b[43mnlp\u001b[49m\u001b[43m,\u001b[49m\n\u001b[1;32m    318\u001b[0m \u001b[43m                     \u001b[49m\u001b[43mdocReaderClass\u001b[49m\u001b[38;5;241;43m=\u001b[39;49m\u001b[43mdocReaderClass\u001b[49m\u001b[43m,\u001b[49m\u001b[43m \u001b[49m\u001b[43mrecursive\u001b[49m\u001b[38;5;241;43m=\u001b[39;49m\u001b[43mrecursive\u001b[49m\u001b[43m,\u001b[49m\n\u001b[1;32m    319\u001b[0m \u001b[43m                     \u001b[49m\u001b[43msupport_overlap\u001b[49m\u001b[38;5;241;43m=\u001b[39;49m\u001b[43msupport_overlap\u001b[49m\u001b[43m,\u001b[49m\u001b[43m \u001b[49m\u001b[43muse_adjudication\u001b[49m\u001b[38;5;241;43m=\u001b[39;49m\u001b[43muse_adjudication\u001b[49m\u001b[43m,\u001b[49m\n\u001b[1;32m    320\u001b[0m \u001b[43m                     \u001b[49m\u001b[43mschema_file\u001b[49m\u001b[38;5;241;43m=\u001b[39;49m\u001b[43mschema_file\u001b[49m\u001b[43m,\u001b[49m\u001b[43m \u001b[49m\u001b[38;5;241;43m*\u001b[39;49m\u001b[38;5;241;43m*\u001b[39;49m\u001b[43mkwargs\u001b[49m\u001b[43m)\u001b[49m\n\u001b[1;32m    321\u001b[0m     \u001b[38;5;28;01mpass\u001b[39;00m\n",
      "File \u001b[0;32m~/opt/anaconda3/lib/python3.9/site-packages/medspacy_io/reader/base_reader.py:210\u001b[0m, in \u001b[0;36mBaseDirReader.__init__\u001b[0;34m(self, txt_extension, nlp, docReaderClass, recursive, **kwargs)\u001b[0m\n\u001b[1;32m    208\u001b[0m \u001b[38;5;28mself\u001b[39m\u001b[38;5;241m.\u001b[39mrecursive \u001b[38;5;241m=\u001b[39m recursive\n\u001b[1;32m    209\u001b[0m \u001b[38;5;28;01mif\u001b[39;00m docReaderClass \u001b[38;5;129;01mis\u001b[39;00m \u001b[38;5;28;01mNone\u001b[39;00m \u001b[38;5;129;01mor\u001b[39;00m \u001b[38;5;129;01mnot\u001b[39;00m \u001b[38;5;28missubclass\u001b[39m(docReaderClass, BaseDocReader):\n\u001b[0;32m--> 210\u001b[0m     \u001b[38;5;28;01mraise\u001b[39;00m \u001b[38;5;167;01mNameError\u001b[39;00m(\u001b[38;5;124m'\u001b[39m\u001b[38;5;124mdocReaderClass must not be None, and must be a subclass of \u001b[39m\u001b[38;5;124m\"\u001b[39m\u001b[38;5;124mBaseDocReader.\u001b[39m\u001b[38;5;124m\"\u001b[39m\u001b[38;5;124m'\u001b[39m)\n\u001b[1;32m    211\u001b[0m \u001b[38;5;28;01mif\u001b[39;00m nlp \u001b[38;5;129;01mis\u001b[39;00m \u001b[38;5;28;01mNone\u001b[39;00m:\n\u001b[1;32m    212\u001b[0m     \u001b[38;5;28;01mraise\u001b[39;00m \u001b[38;5;167;01mNameError\u001b[39;00m(\u001b[38;5;124m'\u001b[39m\u001b[38;5;124mparameter \u001b[39m\u001b[38;5;124m\"\u001b[39m\u001b[38;5;124mnlp\u001b[39m\u001b[38;5;124m\"\u001b[39m\u001b[38;5;124m need to be defined\u001b[39m\u001b[38;5;124m'\u001b[39m)\n",
      "\u001b[0;31mNameError\u001b[0m: docReaderClass must not be None, and must be a subclass of \"BaseDocReader.\""
     ]
    }
   ],
   "source": [
    "#ereader = EhostDocReader(nlp=English(), schema_file='../tests/data/ehost_test_corpus3_overlap/config/projectschema.xml',support_overlap=True)\n",
    "\n",
    "\n",
    "dir_reader = EhostDirReader(txt_extension='txt', nlp=English(), recursive=True, schema_file='../tests/data/ehost_test_corpus/config/projectschema.xml')\n",
    "docs = dir_reader.read(txt_dir='../tests/data/ehost_test_corpus/')"
   ]
  },
  {
   "cell_type": "code",
   "execution_count": null,
   "id": "bae4b82e-3969-42ae-bd18-ec6b5de42097",
   "metadata": {},
   "outputs": [],
   "source": [
    "if Doc.has_extension(\"concepts\"):\n",
    "            Doc.remove_extension(\"concepts\")\n",
    "        dir_reader = EhostDirReader(nlp=English(), recursive=True,\n",
    "                                    schema_file='data/ehost_test_corpus/config/projectschema.xml')\n",
    "        docs = dir_reader.read(txt_dir='data/ehost_test_corpus/')\n",
    "        assert (len(docs) == 2)\n",
    "        for doc in docs:\n",
    "            self.eval(doc)\n",
    "            \n",
    "            ereader = EhostDocReader(nlp=English(), schema_file='../tests/data/ehost_test_corpus3_overlap/config/projectschema.xml',support_overlap=True)\n",
    "doc = ereader.read('../tests/data/ehost_test_corpus3_overlap/corpus/18305.txt')\n",
    "\n"
   ]
  }
 ],
 "metadata": {
  "kernelspec": {
   "display_name": "Python 3 (ipykernel)",
   "language": "python",
   "name": "python3"
  },
  "language_info": {
   "codemirror_mode": {
    "name": "ipython",
    "version": 3
   },
   "file_extension": ".py",
   "mimetype": "text/x-python",
   "name": "python",
   "nbconvert_exporter": "python",
   "pygments_lexer": "ipython3",
   "version": "3.9.12"
  }
 },
 "nbformat": 4,
 "nbformat_minor": 5
}
