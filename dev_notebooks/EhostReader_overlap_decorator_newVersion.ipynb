{
 "cells": [
  {
   "cell_type": "markdown",
   "id": "91622d90-10f2-41e1-8f30-b74546db7e92",
   "metadata": {},
   "source": [
    "# EHost Reader for the Overlapped annotated spans\n",
    "\n",
    "Spacy needs to be upgraded to `v3.4`.\n",
    "\n",
    "`medspacy_io/reader/base_reader.py` has been modified where the overlapped spans are stored in the `spacy.tokens.SpanGroup` objects. The name of each `SpanGroup` is the concept name.\n",
    "The concepts for each `Doc` are saved as list `Doc._.concepts`, which can be used as the list of keys to extract certain `SpanGroup`.\n",
    "\n",
    "The documentation of `SpanGroup` is at https://spacy.io/api/spangroup.\n",
    "***Remark:*** It is necessary to uninstall medspacy-io to avoid conflict. Otherwise, the older version of medspacy-io will be loaded. "
   ]
  },
  {
   "cell_type": "code",
   "execution_count": 1,
   "id": "5530a655-0afd-4990-9446-c82c46314fef",
   "metadata": {},
   "outputs": [
    {
     "name": "stdout",
     "output_type": "stream",
     "text": [
      "['/Users/u6022257/Documents/medspacy_io/dev_notebooks', '/Users/u6022257/opt/anaconda3/lib/python39.zip', '/Users/u6022257/opt/anaconda3/lib/python3.9', '/Users/u6022257/opt/anaconda3/lib/python3.9/lib-dynload', '', '/Users/u6022257/opt/anaconda3/lib/python3.9/site-packages', '/Users/u6022257/opt/anaconda3/lib/python3.9/site-packages/aeosa', '/Users/u6022257/opt/anaconda3/lib/python3.9/site-packages/medspacy-0.2.0.0-py3.9.egg', '/Users/u6022257/opt/anaconda3/lib/python3.9/site-packages/medspacy_quickumls-2.3-py3.9.egg', '/Users/u6022257/opt/anaconda3/lib/python3.9/site-packages/quickumls_simstring-1.1.5.post1-py3.9-macosx-10.9-x86_64.egg', '../', '../medspacy']\n"
     ]
    }
   ],
   "source": [
    "import sys\n",
    "sys.path.append(\"../\") #need to uninstall medspacy-io to test the package code.\n",
    "sys.path.append(\"../medspacy\")\n",
    "print(sys.path)\n",
    "from spacy.lang.en import English\n",
    "from medspacy_io.reader import EhostDocReader"
   ]
  },
  {
   "cell_type": "markdown",
   "id": "94d96c29-e980-48e9-95f3-1ec877844f23",
   "metadata": {},
   "source": [
    "## Remark:\n",
    "1.  In our case it is `support_overlap=True` and `new_version=True`.\n",
    "2. `EhostDocReader` will search default folder according to the directory of data. The data and annotations have to be organized as eHost Project:\n",
    "    1. schema file: `../config/projectsschema.xml`\n",
    "    2. data folder: `../corpus/*.txt`\n",
    "    3. annotation folder: `../saved/*.txt.knowtator.xml`"
   ]
  },
  {
   "cell_type": "code",
   "execution_count": 2,
   "id": "39765c27-5dd4-4452-8500-6bff0e88e9e7",
   "metadata": {},
   "outputs": [
    {
     "name": "stdout",
     "output_type": "stream",
     "text": [
      "check if doc has extension concepts: False\n",
      "True False\n",
      "setting the type of concept...\n",
      "getting concept...\n",
      "type of existing_concepts: <class 'list'> True\n"
     ]
    }
   ],
   "source": [
    "ereader = EhostDocReader(nlp=English(), schema_file='../tests/data/ehost_test_corpus3_overlap/config/projectschema.xml',support_overlap=True,new_version=True)\n",
    "doc = ereader.read('../tests/data/ehost_test_corpus3_overlap/corpus/18305.txt')"
   ]
  },
  {
   "cell_type": "markdown",
   "id": "28764af9-962f-48d9-9ee0-0d02b7d1980b",
   "metadata": {},
   "source": [
    "Now all the concepts are stored in the list:"
   ]
  },
  {
   "cell_type": "code",
   "execution_count": 3,
   "id": "4652e304-01d8-4a45-978d-835a0f8a4ad0",
   "metadata": {},
   "outputs": [
    {
     "data": {
      "text/plain": [
       "['Symptom_Section', 'SectionHeader_HasSymptom', 'Symptom']"
      ]
     },
     "execution_count": 3,
     "metadata": {},
     "output_type": "execute_result"
    }
   ],
   "source": [
    "doc._.concepts"
   ]
  },
  {
   "cell_type": "markdown",
   "id": "956263ba-4722-44bc-8588-ef3e1c55dc50",
   "metadata": {},
   "source": [
    "Now extract SpanGroup `Symptom_Section`:"
   ]
  },
  {
   "cell_type": "code",
   "execution_count": 4,
   "id": "1179f840-838b-499c-a7fb-6705c5b1f513",
   "metadata": {},
   "outputs": [
    {
     "data": {
      "text/plain": [
       "[HISTORY OF PRESENT ILLNESS:  Ms. [**Known lastname 50463**] was an 83-year-old\n",
       "female with a history of polymyalgia rheumatica,\n",
       "hypercholesterolemia, hypothyroidism, vertigo, postural\n",
       "hypotension, and a history of syncope in the past who now is\n",
       "on Florinef and presented to [**Hospital1 **] [**Location (un) 620**]\n",
       "emergency department on [**2180-9-22**] after a syncopal episode\n",
       "at home.  She reported that she passed out after urinating\n",
       "while on the toilet.  She awoke and called her primary care\n",
       "physician, [**Name10 (NameIs) 1023**] evaluated her in the office and suspected\n",
       "dehydration, rehydrated her with fluids, and sent her home.\n",
       "At home she continued to feel poorly, and her primary care\n",
       "physician told her to return to the Emergency Department.  At\n",
       "[**Location (un) 620**] emergency department on [**2180-9-23**] EKG revealed\n",
       "polymorphic ventricular tachycardia with rate in the 130s and\n",
       "blood pressure in the 140s to 150s/60s.  She was afebrile at\n",
       "this time.\n",
       "\n",
       "Labs in the Emergency Room revealed a potassium of 2.7 and\n",
       "magnesium of 1.6.  She was given electrolyte repletion and\n",
       "her ventricular tachycardia spontaneously converted to sinus\n",
       "rhythm.  She had normal cardiac enzymes and a normal chest\n",
       "x-ray.  She was admitted on the morning after admission and\n",
       "was seen by Electrophysiology, who recommended a Lidocaine\n",
       "drip.  Despite avid electrolyte repletion, her potassium\n",
       "remained low, and a right internal jugular central line was\n",
       "placed on [**2180-9-23**] for further resuscitation.  Later that\n",
       "evening her oxygen saturations dropped to the 60s or 70s, and\n",
       "a post central line placement chest x-ray revealed no\n",
       "evidence of pneumothorax but evidence of pulmonary edema.\n",
       "She was placed on 100% non-rebreather and her sats improved\n",
       "to 80 to 100%.  An ABG at this time showed a pH of 7.36, CO2\n",
       "of 54, and PA of 53.  Potassium was 3.5 at this time.\n",
       "\n",
       "A decision was made to give 20 mg of intravenous Lasix, and\n",
       "she put out 620 cc of urine, but her sats continued to be 80\n",
       "to 100%.  Repeat ABG still revealed persistently low\n",
       "oxygenation.  Decision was made to intubate.  The patient was\n",
       "placed on AC at the rate of 10 with a tidal volume of 500 and\n",
       "FIO2 of 100% and PEEP of 5.  Recheck of an ABG still showed\n",
       "poor oxygenation with [**MD Number(3) 50464**], and decision was made to\n",
       "transfer her to [**Hospital6 256**] for\n",
       "further management due to failure of oxygenation.\n",
       "\n",
       "She was transferred, intubated, and a Lidocaine drip and\n",
       "received 100 mg of Fentanyl and 50 mg of Versed., BRIEF HOSPITAL COURSE:  Ms. [**Known lastname 50463**] was transferred to [**Hospital1 18**]\n",
       "on [**2180-9-25**].  The initial feeling was that she most likely\n",
       "was in pulmonary edema, leading to poor oxygenation due to\n",
       "aggressive fluid and electrolyte replacement at [**Location (un) 620**].  She\n",
       "was ........... diuresed, and was successfully extubated on\n",
       "[**2180-9-27**], however, became febrile with known MSSA in her\n",
       "sputum, however, was persistently febrile despite treatment\n",
       "with Levofloxacin, Vancomycin, and Flagyl.  Call for concern\n",
       "of aspiration pneumonia.  She also had an elevated white\n",
       "count with evidence of bandemia.\n",
       "\n",
       "On [**2180-9-29**] she also developed a decreased urine output in\n",
       "the setting of febrile illness, and there was concern for\n",
       "sepsis.  Her urine output continued to climb despite fluid\n",
       "boluses.  Her volume status was unclear but most likely\n",
       "representative of total body fluid overload with decreased\n",
       "intervascular volume, and plans were made for placement of a\n",
       "PA catheter.\n",
       "\n",
       "Despite concern for sepsis, her mental status continued to\n",
       "improve from the time of admission.  However, the house\n",
       "officers called on [**2180-9-29**] in the afternoon due to\n",
       "decreased mental status, tachypnea, bradycardia, and\n",
       "hypotension.  Passed away on [**2180-9-29**] at 15:50.  She had\n",
       "been made \"Do Not Resuscitate\"/ \"Do Not Intubate\" at the time\n",
       "of admission.  No resuscitative measures were done.  Her\n",
       "family was immediately [**Name (NI) 653**], and the Attending was\n",
       "present.  No autopsy was requested.  Immediate cause of death\n",
       "was pneumonia/adult respiratory distress syndrome with other\n",
       "causes including renal failure and cardiac arrest.]"
      ]
     },
     "execution_count": 4,
     "metadata": {},
     "output_type": "execute_result"
    }
   ],
   "source": [
    "doc.spans['Symptom_Section']"
   ]
  },
  {
   "cell_type": "markdown",
   "id": "e6e67f68-6282-41ac-95a6-6de4668b47e2",
   "metadata": {},
   "source": [
    "You can check if the spans are overlapped in each SpanGroup; you can also extract each span from certain SpanGroup"
   ]
  },
  {
   "cell_type": "code",
   "execution_count": 5,
   "id": "5cbfc9ba-b9c5-49db-be41-88644f6a17b2",
   "metadata": {},
   "outputs": [
    {
     "name": "stdout",
     "output_type": "stream",
     "text": [
      "False\n",
      "Symptom_Section\n",
      "128 2616\n"
     ]
    }
   ],
   "source": [
    "print(doc.spans['Symptom_Section'].has_overlap)\n",
    "\n",
    "span1 = doc.spans['Symptom_Section'][0]\n",
    "print(span1.label_)\n",
    "print(span1.start_char, span1.end_char)"
   ]
  },
  {
   "cell_type": "markdown",
   "id": "7287d596-01c0-41f3-8a44-b82053efa151",
   "metadata": {},
   "source": [
    "`SpanGroup` can also be added together in `Spacy 3.4`:"
   ]
  },
  {
   "cell_type": "code",
   "execution_count": 6,
   "id": "3375ca52-ec51-478a-ad62-b1c4fe47e722",
   "metadata": {},
   "outputs": [
    {
     "name": "stdout",
     "output_type": "stream",
     "text": [
      "3.1.6\n"
     ]
    }
   ],
   "source": [
    "import spacy\n",
    "print(spacy.__version__)\n",
    "#entire_SpanGroup = doc.spans['Symptom_Section']+doc.spans['SectionHeader_HasSymptom']#+doc.spans['Symptom']\n",
    "#print(entire_SpanGroup.has_overlap)\n",
    "#print('length of each spanGroup:',len(entire_SpanGroup),len(doc.spans['Symptom_Section']),len(doc.spans['SectionHeader_HasSymptom']),len(doc.spans['Symptom']))"
   ]
  },
  {
   "cell_type": "markdown",
   "id": "93d3f7ce-a5a9-4fa2-8866-b3ab197b3f9f",
   "metadata": {},
   "source": [
    "***Spacy3.1*** supports SpanGroup but does not support some methods such as SpanGroup addition, which are included in ***Spacy3.4***.  "
   ]
  },
  {
   "cell_type": "code",
   "execution_count": null,
   "id": "e7e643ff-726b-4014-9eed-e4452146ce6c",
   "metadata": {},
   "outputs": [],
   "source": []
  }
 ],
 "metadata": {
  "kernelspec": {
   "display_name": "Python 3 (ipykernel)",
   "language": "python",
   "name": "python3"
  },
  "language_info": {
   "codemirror_mode": {
    "name": "ipython",
    "version": 3
   },
   "file_extension": ".py",
   "mimetype": "text/x-python",
   "name": "python",
   "nbconvert_exporter": "python",
   "pygments_lexer": "ipython3",
   "version": "3.9.12"
  }
 },
 "nbformat": 4,
 "nbformat_minor": 5
}
