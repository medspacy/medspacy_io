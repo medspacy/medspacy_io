{
 "cells": [
  {
   "cell_type": "code",
   "execution_count": 1,
   "id": "6f85f5a5-2c15-4c16-8b67-0f67325501b5",
   "metadata": {},
   "outputs": [],
   "source": [
    "import logging\n",
    "import unittest\n",
    "\n",
    "\n",
    "import sys\n",
    "sys.path.append(\"/Users/u6022257/Documents/medspacy_io/medspacy_io/reader\") #need to uninstall medspacy-io to test the package code."
   ]
  },
  {
   "cell_type": "code",
   "execution_count": 2,
   "id": "69c72ecd-4f48-4325-876e-7f7b0f961b15",
   "metadata": {},
   "outputs": [],
   "source": [
    "#from spacy.lang.en import English\n",
    "#from spacy.tokens import Doc\n"
   ]
  },
  {
   "cell_type": "code",
   "execution_count": 3,
   "id": "cc1b718c-804f-450a-95cc-61f853201918",
   "metadata": {},
   "outputs": [
    {
     "name": "stdout",
     "output_type": "stream",
     "text": [
      "['/Users/u6022257/Documents/medspacy_io/tests', '/Users/u6022257/opt/anaconda3/envs/st/lib/python39.zip', '/Users/u6022257/opt/anaconda3/envs/st/lib/python3.9', '/Users/u6022257/opt/anaconda3/envs/st/lib/python3.9/lib-dynload', '', '/Users/u6022257/opt/anaconda3/envs/st/lib/python3.9/site-packages', '/Users/u6022257/opt/anaconda3/envs/st/lib/python3.9/site-packages/aeosa', '/Users/u6022257/opt/anaconda3/envs/st/lib/python3.9/site-packages/medspacy_quickumls-2.3-py3.9.egg', '/Users/u6022257/opt/anaconda3/envs/st/lib/python3.9/site-packages/quickumls_simstring-1.1.5.post1-py3.9-macosx-10.9-x86_64.egg', '/Users/u6022257/opt/anaconda3/envs/st/lib/python3.9/site-packages/IPython/extensions', '/Users/u6022257/.ipython', '/Users/u6022257/Documents/medspacy_io/medspacy_io/reader']\n"
     ]
    }
   ],
   "source": [
    "print(sys.path)\n"
   ]
  },
  {
   "cell_type": "code",
   "execution_count": 10,
   "id": "d4ce8472-5ec1-4e45-bf30-32a2df34124a",
   "metadata": {},
   "outputs": [
    {
     "ename": "ImportError",
     "evalue": "attempted relative import with no known parent package",
     "output_type": "error",
     "traceback": [
      "\u001b[0;31m---------------------------------------------------------------------------\u001b[0m",
      "\u001b[0;31mImportError\u001b[0m                               Traceback (most recent call last)",
      "\u001b[0;32m/var/folders/gv/s_wjfxw103524143nmnxqllw0000gq/T/ipykernel_8193/1350845182.py\u001b[0m in \u001b[0;36m<module>\u001b[0;34m\u001b[0m\n\u001b[1;32m      1\u001b[0m \u001b[0;31m#from ehost_reader import EhostDirReader\u001b[0m\u001b[0;34m\u001b[0m\u001b[0;34m\u001b[0m\u001b[0m\n\u001b[1;32m      2\u001b[0m \u001b[0;31m#from ehost_reader import EhostDocReader\u001b[0m\u001b[0;34m\u001b[0m\u001b[0;34m\u001b[0m\u001b[0m\n\u001b[0;32m----> 3\u001b[0;31m \u001b[0;32mfrom\u001b[0m \u001b[0mehost_reader\u001b[0m \u001b[0;32mimport\u001b[0m \u001b[0mEhostDocReader\u001b[0m\u001b[0;34m\u001b[0m\u001b[0;34m\u001b[0m\u001b[0m\n\u001b[0m\u001b[1;32m      4\u001b[0m \u001b[0;31m#import EhostDocReader\u001b[0m\u001b[0;34m\u001b[0m\u001b[0;34m\u001b[0m\u001b[0m\n\u001b[1;32m      5\u001b[0m \u001b[0;31m#from base_reader import BaseDocReader, BaseDirReader\u001b[0m\u001b[0;34m\u001b[0m\u001b[0;34m\u001b[0m\u001b[0m\n",
      "\u001b[0;32m~/Documents/medspacy_io/medspacy_io/reader/ehost_reader.py\u001b[0m in \u001b[0;36m<module>\u001b[0;34m\u001b[0m\n\u001b[1;32m      9\u001b[0m \u001b[0;32mfrom\u001b[0m \u001b[0mspacy\u001b[0m\u001b[0;34m.\u001b[0m\u001b[0mtokens\u001b[0m\u001b[0;34m.\u001b[0m\u001b[0mspan\u001b[0m \u001b[0;32mimport\u001b[0m \u001b[0mSpan\u001b[0m\u001b[0;34m\u001b[0m\u001b[0;34m\u001b[0m\u001b[0m\n\u001b[1;32m     10\u001b[0m \u001b[0;34m\u001b[0m\u001b[0m\n\u001b[0;32m---> 11\u001b[0;31m \u001b[0;32mfrom\u001b[0m \u001b[0;34m.\u001b[0m\u001b[0mbase_reader\u001b[0m \u001b[0;32mimport\u001b[0m \u001b[0mBaseDocReader\u001b[0m\u001b[0;34m,\u001b[0m \u001b[0mBaseDirReader\u001b[0m\u001b[0;34m\u001b[0m\u001b[0;34m\u001b[0m\u001b[0m\n\u001b[0m\u001b[1;32m     12\u001b[0m \u001b[0;34m\u001b[0m\u001b[0m\n\u001b[1;32m     13\u001b[0m \u001b[0;34m\u001b[0m\u001b[0m\n",
      "\u001b[0;31mImportError\u001b[0m: attempted relative import with no known parent package"
     ]
    }
   ],
   "source": [
    "#from ehost_reader import EhostDirReader\n",
    "#from ehost_reader import EhostDocReader\n",
    "from ehost_reader import EhostDocReader\n",
    "#import EhostDocReader\n",
    "#from base_reader import BaseDocReader, BaseDirReader\n",
    "#from ehost_reader import EhostDocReader, EhostDirReader"
   ]
  },
  {
   "cell_type": "code",
   "execution_count": 5,
   "id": "6175dcba-2fc2-42ad-ba81-a14fb3bc0c92",
   "metadata": {},
   "outputs": [
    {
     "name": "stdout",
     "output_type": "stream",
     "text": [
      "ALL ATTRIBUTES FROM SCHEMA: {'ANNOT_headache', 'ANNOT_fever'}\n"
     ]
    }
   ],
   "source": [
    "ereader = EhostDocReader(nlp=English(), schema_file='data/ehost_test_corpus3_overlap/config/projectschema.xml',support_overlap=True)\n",
    "#doc = ereader.read('data/ehost_test_corpus2/corpus/doc1.txt')\n",
    "#print(doc._.concepts)\n",
    "#len(doc._.concepts['PreAnnotated'])"
   ]
  },
  {
   "cell_type": "code",
   "execution_count": 6,
   "id": "527cb690-d89f-4ca2-b956-b637804e29eb",
   "metadata": {},
   "outputs": [
    {
     "name": "stdout",
     "output_type": "stream",
     "text": [
      "THE ATTRIBUTES FOR: Symptom  IS  ANNOT_fever  low fever\n",
      "THE ATTRIBUTES FOR: Symptom  IS  ANNOT_headache mild\n",
      "RELATION: EHOST_Instance_34 EHOST_Instance_8 symptom_to_symptom_section EHOST_Instance_1\n",
      "FIND THE SOURCE: EHOST_Instance_8 EHOST_Instance_8\n"
     ]
    }
   ],
   "source": [
    "doc = ereader.read('data/ehost_test_corpus3_overlap/corpus/18305.txt')"
   ]
  },
  {
   "cell_type": "code",
   "execution_count": 7,
   "id": "c27df0ad-c4cf-4bb5-b575-e868caa72174",
   "metadata": {},
   "outputs": [],
   "source": [
    "if Doc.has_extension(\"concepts\"):\n",
    "    Doc.remove_extension(\"concepts\")"
   ]
  },
  {
   "cell_type": "code",
   "execution_count": 8,
   "id": "2407cf38-f0f6-4a1d-a9b6-3077a5525776",
   "metadata": {},
   "outputs": [
    {
     "name": "stdout",
     "output_type": "stream",
     "text": [
      "ALL ATTRIBUTES FROM SCHEMA: {'ANNOT_rel_attr', 'ANNOT_status'}\n"
     ]
    }
   ],
   "source": [
    "ereader2 = EhostDocReader(nlp=English(), schema_file='data/ehost_test_corpus/config/projectschema.xml')\n"
   ]
  },
  {
   "cell_type": "code",
   "execution_count": 9,
   "id": "c44d715d-5ac9-4b7e-b915-ef737213e1ca",
   "metadata": {},
   "outputs": [],
   "source": [
    "doc2 = ereader2.read('data/ehost_test_corpus/corpus/doc1.txt')"
   ]
  },
  {
   "cell_type": "code",
   "execution_count": 12,
   "id": "81952826-3515-48a4-89a1-cedadec46943",
   "metadata": {},
   "outputs": [
    {
     "name": "stdout",
     "output_type": "stream",
     "text": [
      "Entity: CHIEF Label: Doc_Level_Purulence_Assessment\n",
      "True\n",
      "True\n",
      "Entity: Abdominal pain Label: Purulent\n",
      "True\n",
      "True\n",
      "Entity: PRESENT Label: Non-Purulent\n",
      "True\n",
      "True\n",
      "Entity: patient Label: Incision_and_Drainage\n",
      "True\n",
      "True\n",
      "Entity: year-old Label: PreAnnotated\n",
      "True\n",
      "True\n",
      "Entity: X. The patient Label: Nonspecific_SSTI\n",
      "True\n",
      "True\n",
      "Entity: presented Label: Exclusions\n",
      "True\n",
      "True\n"
     ]
    }
   ],
   "source": [
    "for ent in doc2.ents:\n",
    "    #print(ent,ent.ANNOT_status)\n",
    "    print(\"Entity:\",ent,\"Label:\",ent.label_)\n",
    "    print(hasattr(ent._,'ANNOT_status'))\n",
    "    print(hasattr(ent._,'ANNOT_rel_attr'))"
   ]
  },
  {
   "cell_type": "code",
   "execution_count": null,
   "id": "1d283555-a765-41f4-8af4-353e1e879151",
   "metadata": {},
   "outputs": [],
   "source": []
  }
 ],
 "metadata": {
  "kernelspec": {
   "display_name": "Python 3 (ipykernel)",
   "language": "python",
   "name": "python3"
  },
  "language_info": {
   "codemirror_mode": {
    "name": "ipython",
    "version": 3
   },
   "file_extension": ".py",
   "mimetype": "text/x-python",
   "name": "python",
   "nbconvert_exporter": "python",
   "pygments_lexer": "ipython3",
   "version": "3.9.12"
  }
 },
 "nbformat": 4,
 "nbformat_minor": 5
}
