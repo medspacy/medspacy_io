{
 "cells": [
  {
   "cell_type": "code",
   "execution_count": 1,
   "id": "a8c0172f-d239-421c-b6f5-a22de01a7fa8",
   "metadata": {},
   "outputs": [],
   "source": [
    "import unittest\n",
    "from collections import OrderedDict\n",
    "\n",
    "import sys\n",
    "sys.path.append(\"../\") #need to uninstall medspacy-io to test the package code.\n",
    "sys.path.append(\"../medspacy\")\n",
    "\n",
    "from spacy.lang.en import English\n",
    "from spacy.tokens.span import Span\n",
    "\n",
    "from medspacy_io.reader import EhostDocReader\n",
    "from medspacy_io.reader import EhostDirReader\n",
    "from PyRuSH import PyRuSHSentencizer\n",
    "from medspacy_io.vectorizer import Vectorizer\n",
    "from spacy.tokens.doc import Doc\n",
    "import pandas as pd"
   ]
  },
  {
   "cell_type": "markdown",
   "id": "a08efc9f-5006-41cf-8ea7-a7f24dfe2599",
   "metadata": {},
   "source": [
    "#  def setUp(self) -> None:"
   ]
  },
  {
   "cell_type": "code",
   "execution_count": 2,
   "id": "032dcc05-e182-4be5-b9e4-15316b55574a",
   "metadata": {},
   "outputs": [
    {
     "name": "stdout",
     "output_type": "stream",
     "text": [
      "['medspacy_pyrush']\n"
     ]
    }
   ],
   "source": [
    "nlp = English()\n",
    "nlp.add_pipe(\"medspacy_pyrush\")\n",
    "print(nlp.pipe_names)"
   ]
  },
  {
   "cell_type": "markdown",
   "id": "265b7522-014e-4292-9f9b-d32e4eba2d37",
   "metadata": {},
   "source": [
    "# def test_to_sents_df(self):"
   ]
  },
  {
   "cell_type": "code",
   "execution_count": 3,
   "id": "1a6f21d3-9399-4f30-b7d7-42323e4b791d",
   "metadata": {},
   "outputs": [
    {
     "name": "stdout",
     "output_type": "stream",
     "text": [
      "check if doc has extension concepts: False\n",
      "False True\n",
      "setting the type of concept...\n",
      "getting concept...\n",
      "type of existing_concepts: <class 'collections.OrderedDict'> False\n"
     ]
    },
    {
     "name": "stderr",
     "output_type": "stream",
     "text": [
      "/Users/u6022257/Documents/medspacy_io/tests/../medspacy_io/reader/base_reader.py:18: UserWarning: Warning: 0.1.0.dev34 will be deprecated. Please use latest version!\n",
      "  warnings.warn(\"Warning: 0.1.0.dev34 will be deprecated. Please use latest version!\")\n"
     ]
    }
   ],
   "source": [
    "NLP = English()\n",
    "NLP.add_pipe(\"medspacy_pyrush\")\n",
    "ereader = EhostDocReader(nlp=NLP, schema_file='data/ehost_test_corpus2/config/projectschema.xml', support_overlap=True)\n",
    "doc = ereader.read('data/ehost_test_corpus2/corpus/doc1.txt')\n"
   ]
  },
  {
   "cell_type": "code",
   "execution_count": 4,
   "id": "ebba693c-dfeb-4f0e-8a7e-b163f9151cc3",
   "metadata": {},
   "outputs": [
    {
     "name": "stdout",
     "output_type": "stream",
     "text": [
      "True\n"
     ]
    }
   ],
   "source": [
    "#print(len(list(doc.sents))) #not working\n",
    "assert (len(doc._.concepts) == 3)\n",
    "assert (len(doc._.concepts['Nonspecific_SSTI']) == 1)\n",
    "df = Vectorizer.to_sents_df(doc)\n",
    "assert (df.shape[0] == 4)\n",
    "df = Vectorizer.to_sents_df(doc, track_doc_name=True)\n",
    "print(df.shape[1] == 4)\n",
    "assert (df.shape[1] == 4)\n",
    "df = Vectorizer.to_sents_df(doc, sent_window=2)\n",
    "assert (df.shape[0] == 5)\n",
    "df = Vectorizer.to_sents_df(doc, sent_window=2, track_doc_name=True)\n",
    "assert (df.shape[0] == 5)\n",
    "assert (df.shape[1] == 4)"
   ]
  },
  {
   "cell_type": "markdown",
   "id": "15bf537a-64d0-4ee2-acce-6f09f5e023fb",
   "metadata": {},
   "source": [
    "# def test_to_seq_data_dict_on_types(self)"
   ]
  },
  {
   "cell_type": "code",
   "execution_count": 5,
   "id": "5d2f5a61-fb25-4163-b93a-dfabf516dbda",
   "metadata": {},
   "outputs": [
    {
     "name": "stdout",
     "output_type": "stream",
     "text": [
      "check if doc has extension concepts: True\n",
      "OrderedDict()\n",
      "type of existing_concepts: <class 'collections.OrderedDict'> False\n",
      "[CHIEF COMPLAINT: Abdominal pain.\n",
      "\n",
      ", HISTORY OF PRESENT ILLNESS: The patient is a 71-year-old female patient of Dr. X., The patient presented to the emergency room., No way to figure out.]\n",
      "Nonspecific_SSTI\n",
      "Nonspecific_SSTI\n",
      "O\n",
      "O\n",
      "PreAnnotated\n"
     ]
    }
   ],
   "source": [
    "NLP = English()\n",
    "NLP.add_pipe(\"medspacy_pyrush\")\n",
    "ereader = EhostDocReader(nlp=NLP, schema_file='data/ehost_test_corpus2/config/projectschema.xml', support_overlap=True)\n",
    "doc = ereader.read('data/ehost_test_corpus2/corpus/doc1.txt')\n",
    "print(list(doc.sents))\n",
    "res=Vectorizer.to_seq_data_dict(doc,type_filter=['Nonspecific_SSTI','PreAnnotated'])\n",
    "print(res['Nonspecific_SSTI'][2][0])\n",
    "print(res['Nonspecific_SSTI'][2][1])\n",
    "print(res['PreAnnotated'][1][9])\n",
    "print(res['PreAnnotated'][1][10])\n",
    "print(res['PreAnnotated'][1][11])"
   ]
  },
  {
   "cell_type": "code",
   "execution_count": 6,
   "id": "ee8672a5-fb7a-4daa-a8f5-c6980fddb1f0",
   "metadata": {},
   "outputs": [
    {
     "name": "stdout",
     "output_type": "stream",
     "text": [
      "check if doc has extension concepts: True\n",
      "OrderedDict()\n",
      "type of existing_concepts: <class 'collections.OrderedDict'> False\n",
      "[CHIEF COMPLAINT: Abdominal pain.\n",
      "\n",
      ", HISTORY OF PRESENT ILLNESS: The patient is a 71-year-old female patient of Dr. X., The patient presented to the emergency room., No way to figure out.]\n",
      "['CHIEF COMPLAINT : Abdominal pain . \\n\\n [SEP] HISTORY OF PRESENT ILLNESS : The patient is a 71 - year - old female patient of Dr. X.', 'HISTORY OF PRESENT ILLNESS : The patient is a 71 - year - old female patient of Dr. X. [SEP] The patient presented to the emergency room .', 'The patient presented to the emergency room . [SEP] No way to figure out .']\n",
      "O\n",
      "[SEP]\n",
      "O\n",
      "O\n",
      "O\n",
      "PreAnnotated\n",
      "O\n",
      "Nonspecific_SSTI\n",
      "Nonspecific_SSTI\n",
      "O\n"
     ]
    }
   ],
   "source": [
    "ereader = EhostDocReader(nlp=NLP, schema_file='data/ehost_test_corpus2/config/projectschema.xml', support_overlap=True)\n",
    "doc = ereader.read('data/ehost_test_corpus2/corpus/doc1.txt')\n",
    "print(list(doc.sents))\n",
    "res=Vectorizer.to_seq_data_dict(doc,type_filter=['Nonspecific_SSTI','PreAnnotated'],sent_window=2)\n",
    "print(res['X'])\n",
    "print(res['PreAnnotated'][0][0])\n",
    "print(res['PreAnnotated'][0][7])\n",
    "print(res['PreAnnotated'][0][16])\n",
    "print(res['PreAnnotated'][0][17])\n",
    "print(res['PreAnnotated'][0][18])\n",
    "print(res['PreAnnotated'][0][19])\n",
    "print(res['Nonspecific_SSTI'][0][20])\n",
    "print(res['Nonspecific_SSTI'][2][0])\n",
    "print(res['Nonspecific_SSTI'][2][1])\n",
    "print(res['Nonspecific_SSTI'][2][2])"
   ]
  },
  {
   "cell_type": "code",
   "execution_count": 7,
   "id": "7eecc209-7bb8-434a-a1d9-a3b932153e11",
   "metadata": {},
   "outputs": [
    {
     "name": "stdout",
     "output_type": "stream",
     "text": [
      "check if doc has extension concepts: True\n",
      "OrderedDict()\n",
      "type of existing_concepts: <class 'collections.OrderedDict'> False\n",
      "[CHIEF COMPLAINT: Abdominal pain.\n",
      "\n",
      ", HISTORY OF PRESENT ILLNESS: The patient is a 71-year-old female patient of Dr. X., The patient presented to the emergency room., No way to figure out.]\n",
      "3\n",
      "NULL\n",
      "NULL\n",
      "NULL\n",
      "NULL\n",
      "NULL\n",
      "PreAnnotated\n",
      "NULL\n",
      "Nonspecific_SSTI\n",
      "Nonspecific_SSTI\n",
      "NULL\n"
     ]
    }
   ],
   "source": [
    "ereader = EhostDocReader(nlp=NLP, schema_file='data/ehost_test_corpus2/config/projectschema.xml', support_overlap=True)\n",
    "doc = ereader.read('data/ehost_test_corpus2/corpus/doc1.txt')\n",
    "print(list(doc.sents))\n",
    "res=Vectorizer.to_seq_data_dict(doc,type_filter=['Nonspecific_SSTI','PreAnnotated'],\n",
    "                                        sent_window=2,\n",
    "                                        sep_token=None,default_label='NULL')\n",
    "print(len(res['X']))\n",
    "print(res['PreAnnotated'][0][0])\n",
    "print(res['PreAnnotated'][0][7])\n",
    "print(res['PreAnnotated'][0][15])\n",
    "print(res['PreAnnotated'][0][16])\n",
    "print(res['PreAnnotated'][0][17])\n",
    "print(res['PreAnnotated'][0][18])\n",
    "print(res['Nonspecific_SSTI'][0][20])\n",
    "print(res['Nonspecific_SSTI'][2][0])\n",
    "print(res['Nonspecific_SSTI'][2][1])\n",
    "print(res['Nonspecific_SSTI'][2][2])\n"
   ]
  },
  {
   "cell_type": "code",
   "execution_count": 8,
   "id": "cf71ae5e-1405-41e5-8b86-6eecd3515f05",
   "metadata": {},
   "outputs": [
    {
     "name": "stdout",
     "output_type": "stream",
     "text": [
      "check if doc has extension concepts: True\n",
      "OrderedDict()\n",
      "type of existing_concepts: <class 'collections.OrderedDict'> False\n",
      "2\n",
      "O\n",
      "[SEP]\n",
      "O\n",
      "O\n",
      "O\n",
      "PreAnnotated\n",
      "O\n",
      "O\n",
      "[SEP]\n",
      "Nonspecific_SSTI\n",
      "O\n",
      "O\n",
      "O\n",
      "PreAnnotated\n",
      "O\n",
      "O\n",
      "O\n",
      "[SEP]\n",
      "Nonspecific_SSTI\n"
     ]
    }
   ],
   "source": [
    "ereader = EhostDocReader(nlp=NLP, schema_file='data/ehost_test_corpus2/config/projectschema.xml',\n",
    "                                 support_overlap=True)\n",
    "doc = ereader.read('data/ehost_test_corpus2/corpus/doc1.txt')\n",
    "res=Vectorizer.to_seq_data_dict(doc,type_filter=['Nonspecific_SSTI','PreAnnotated'],sent_window=3)\n",
    "print(len(res['X']))\n",
    "print(res['PreAnnotated'][0][0])\n",
    "print(res['PreAnnotated'][0][7])\n",
    "print(res['PreAnnotated'][0][16])\n",
    "print(res['PreAnnotated'][0][17])\n",
    "print(res['PreAnnotated'][0][18])\n",
    "print(res['PreAnnotated'][0][19])\n",
    "print(res['Nonspecific_SSTI'][0][25])\n",
    "print(res['Nonspecific_SSTI'][0][26])\n",
    "print(res['Nonspecific_SSTI'][0][27])\n",
    "print(res['Nonspecific_SSTI'][0][28])\n",
    "\n",
    "print(res['PreAnnotated'][1][8])\n",
    "print(res['PreAnnotated'][1][9])\n",
    "print(res['PreAnnotated'][1][10])\n",
    "print(res['PreAnnotated'][1][11])\n",
    "print(res['Nonspecific_SSTI'][1][12])\n",
    "print(res['Nonspecific_SSTI'][1][17])\n",
    "print(res['Nonspecific_SSTI'][1][18])\n",
    "print(res['Nonspecific_SSTI'][1][19])\n",
    "print(res['Nonspecific_SSTI'][1][20])\n",
    "\n",
    "\n",
    "\n",
    "\n",
    "\n",
    "\n",
    "\n",
    "\n",
    "\n",
    "\n",
    "\n",
    "\n"
   ]
  },
  {
   "cell_type": "code",
   "execution_count": 9,
   "id": "056f49a6-5650-4f86-9ed1-854b42eacdf4",
   "metadata": {},
   "outputs": [
    {
     "name": "stdout",
     "output_type": "stream",
     "text": [
      "check if doc has extension concepts: True\n",
      "OrderedDict()\n",
      "type of existing_concepts: <class 'collections.OrderedDict'> False\n",
      "4\n",
      "O\n",
      "O\n",
      "O\n",
      "O\n",
      "PREANNO\n",
      "PREANNO\n",
      "PRES_NS_SSTI\n",
      "PRES_NS_SSTI\n",
      "O\n",
      "TEST\n",
      "TEST\n",
      "O\n"
     ]
    }
   ],
   "source": [
    "ereader = EhostDocReader(nlp=NLP, schema_file='data/ehost_test_corpus2/config/projectschema.xml',\n",
    "                                 support_overlap=True)\n",
    "doc = ereader.read('data/ehost_test_corpus2/corpus/doc1.txt')\n",
    "res=Vectorizer.to_seq_data_dict(doc,type_filter={\"Nonspecific_SSTI\": {'status': {'present': 'PRES_NS_SSTI'},\n",
    "                                                                              'test':{'v2':\"TEST\"}\n",
    "                                                                              },\n",
    "                                                         \"PreAnnotated\":\"PREANNO\"\n",
    "                                                         },sent_window=1, data_dict=OrderedDict(),output_labels={})\n",
    "\n",
    "print(len(res['X']))\n",
    "print(res['PREANNO'][1][0])\n",
    "print(res['PREANNO'][1][8])\n",
    "print(res['PREANNO'][1][9])\n",
    "print(res['PREANNO'][1][10])\n",
    "print(res['PREANNO'][1][11])\n",
    "print(res['PREANNO'][1][12])\n",
    "print(res['PRES_NS_SSTI'][2][0])\n",
    "print(res['PRES_NS_SSTI'][2][1])\n",
    "print(res['PRES_NS_SSTI'][2][2])\n",
    "print(res['TEST'][2][0])\n",
    "print(res['TEST'][2][1])\n",
    "print(res['TEST'][2][2])"
   ]
  }
 ],
 "metadata": {
  "kernelspec": {
   "display_name": "Python 3 (ipykernel)",
   "language": "python",
   "name": "python3"
  },
  "language_info": {
   "codemirror_mode": {
    "name": "ipython",
    "version": 3
   },
   "file_extension": ".py",
   "mimetype": "text/x-python",
   "name": "python",
   "nbconvert_exporter": "python",
   "pygments_lexer": "ipython3",
   "version": "3.9.12"
  }
 },
 "nbformat": 4,
 "nbformat_minor": 5
}
