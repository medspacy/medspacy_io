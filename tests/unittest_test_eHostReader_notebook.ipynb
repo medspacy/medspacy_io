{
 "cells": [
  {
   "cell_type": "code",
   "execution_count": 1,
   "id": "1c3e9b64-77ad-4f03-b582-30b52e6f9f17",
   "metadata": {},
   "outputs": [
    {
     "name": "stdout",
     "output_type": "stream",
     "text": [
      "['/Users/u6022257/Documents/medspacy_io/tests', '/Users/u6022257/opt/anaconda3/envs/st/lib/python39.zip', '/Users/u6022257/opt/anaconda3/envs/st/lib/python3.9', '/Users/u6022257/opt/anaconda3/envs/st/lib/python3.9/lib-dynload', '', '/Users/u6022257/opt/anaconda3/envs/st/lib/python3.9/site-packages', '/Users/u6022257/opt/anaconda3/envs/st/lib/python3.9/site-packages/aeosa', '/Users/u6022257/opt/anaconda3/envs/st/lib/python3.9/site-packages/medspacy_quickumls-2.3-py3.9.egg', '/Users/u6022257/opt/anaconda3/envs/st/lib/python3.9/site-packages/quickumls_simstring-1.1.5.post1-py3.9-macosx-10.9-x86_64.egg', '/Users/u6022257/opt/anaconda3/envs/st/lib/python3.9/site-packages/IPython/extensions', '/Users/u6022257/.ipython', '/Users/u6022257/Documents/medspacy_io/medspacy_io/reader']\n"
     ]
    }
   ],
   "source": [
    "import logging\n",
    "import unittest\n",
    "\n",
    "\n",
    "import sys\n",
    "sys.path.append(\"/Users/u6022257/Documents/medspacy_io/medspacy_io/reader\") #need to uninstall medspacy-io to test the package code.\n",
    "#sys.path.append(\"../\") #need to uninstall medspacy-io to test the package code.\n",
    "#sys.path.append(\"../medspacy\")\n",
    "print(sys.path)\n",
    "from spacy.lang.en import English\n",
    "from spacy.tokens import Doc\n",
    "\n",
    "from ehost_reader import EhostDirReader\n",
    "from ehost_reader import EhostDocReader\n",
    "#from medspacy_io.reader import EhostDirReader\n",
    "#from medspacy_io.reader import EhostDocReader\n"
   ]
  },
  {
   "cell_type": "markdown",
   "id": "aab75800-f973-47a2-bfec-7b58af40e072",
   "metadata": {},
   "source": [
    "# Test `test_parse_to_dicts(self)`"
   ]
  },
  {
   "cell_type": "code",
   "execution_count": 2,
   "id": "5560e2b4-1c7f-4252-bd1e-87b9ddb7f52a",
   "metadata": {},
   "outputs": [],
   "source": [
    "if Doc.has_extension(\"concepts\"):\n",
    "    Doc.remove_extension(\"concepts\")"
   ]
  },
  {
   "cell_type": "code",
   "execution_count": 3,
   "id": "dee61e0f-16a7-4423-9594-f99bcb5ddc58",
   "metadata": {},
   "outputs": [
    {
     "name": "stdout",
     "output_type": "stream",
     "text": [
      "ALL ATTRIBUTES FROM SCHEMA: set()\n"
     ]
    }
   ],
   "source": [
    "ereader = EhostDocReader(nlp=English())\n",
    "(spans, classes, attributes, relations) = ereader.parse_to_dicts('data/ehost_test_corpus/saved/doc1.txt.knowtator.xml')"
   ]
  },
  {
   "cell_type": "code",
   "execution_count": 4,
   "id": "68c51ef9-8426-4cf7-b8be-b890121b1885",
   "metadata": {},
   "outputs": [
    {
     "name": "stdout",
     "output_type": "stream",
     "text": [
      "7 8 6 1\n"
     ]
    }
   ],
   "source": [
    "print(len(spans),len(classes),len(attributes),len(relations))"
   ]
  },
  {
   "cell_type": "markdown",
   "id": "d0233a5d-8e4f-43ff-86ef-a0863b79bacd",
   "metadata": {},
   "source": [
    "# Test `test_read(self)` and `eval(self, doc)`"
   ]
  },
  {
   "cell_type": "code",
   "execution_count": 5,
   "id": "c1a3ea76-cf69-4b16-be59-2b742f1d6307",
   "metadata": {},
   "outputs": [
    {
     "name": "stdout",
     "output_type": "stream",
     "text": [
      "ALL ATTRIBUTES FROM SCHEMA: {'ANNOT_rel_attr', 'ANNOT_status'}\n"
     ]
    }
   ],
   "source": [
    "if Doc.has_extension(\"concepts\"):\n",
    "    Doc.remove_extension(\"concepts\")\n",
    "    \n",
    "ereader = EhostDocReader(nlp=English(), schema_file='data/ehost_test_corpus/config/projectschema.xml')\n",
    "doc = ereader.read('data/ehost_test_corpus/corpus/doc1.txt')"
   ]
  },
  {
   "cell_type": "code",
   "execution_count": 6,
   "id": "7d7baaa5-7794-4421-b9fc-5f2062317eaa",
   "metadata": {},
   "outputs": [
    {
     "name": "stdout",
     "output_type": "stream",
     "text": [
      "7\n",
      "Entity: CHIEF Label: Doc_Level_Purulence_Assessment\n",
      "Entity: Abdominal pain Label: Purulent\n",
      "Entity: PRESENT Label: Non-Purulent\n",
      "Entity: patient Label: Incision_and_Drainage\n",
      "Entity: year-old Label: PreAnnotated\n",
      "Entity: X. The patient Label: Nonspecific_SSTI\n",
      "Entity: presented Label: Exclusions\n"
     ]
    }
   ],
   "source": [
    "print(len(doc.ents))\n",
    "for ent in doc.ents:\n",
    "    print(\"Entity:\",ent,\"Label:\",ent.label_)"
   ]
  },
  {
   "cell_type": "markdown",
   "id": "a76785e0-8bbb-4f09-abf1-0ef670c2aaae",
   "metadata": {},
   "source": [
    "# Test `test_read_overlap(self)`"
   ]
  },
  {
   "cell_type": "code",
   "execution_count": 7,
   "id": "785287f2-e5c0-4f3b-935f-991a615eb7e2",
   "metadata": {},
   "outputs": [
    {
     "name": "stdout",
     "output_type": "stream",
     "text": [
      "ALL ATTRIBUTES FROM SCHEMA: {'ANNOT_test'}\n",
      "THE ATTRIBUTES FOR: Nonspecific_SSTI  IS  ANNOT_status present\n",
      "THE ATTRIBUTES FOR: Nonspecific_SSTI  IS  ANNOT_test v2\n",
      "THE ATTRIBUTES FOR: Exclusions  IS  ANNOT_status present\n",
      "OrderedDict([('PreAnnotated', [year-old]), ('Nonspecific_SSTI', [The patient]), ('Exclusions', [.])])\n",
      "1\n"
     ]
    }
   ],
   "source": [
    "ereader = EhostDocReader(nlp=English(), schema_file='data/ehost_test_corpus2/config/projectschema.xml',support_overlap=True)\n",
    "doc = ereader.read('data/ehost_test_corpus2/corpus/doc1.txt')\n",
    "print(doc._.concepts)\n",
    "print(len(doc._.concepts['PreAnnotated']),)"
   ]
  },
  {
   "cell_type": "code",
   "execution_count": 8,
   "id": "3cef78d3-dda6-47ea-9b28-c46cfe841e6f",
   "metadata": {},
   "outputs": [
    {
     "name": "stdout",
     "output_type": "stream",
     "text": [
      "None\n"
     ]
    }
   ],
   "source": [
    "for sp in doc._.concepts['PreAnnotated']:\n",
    "    print(sp._.ANNOT_test) #extract attribute balue"
   ]
  },
  {
   "cell_type": "code",
   "execution_count": 9,
   "id": "ec085e9f-cee8-4caf-a493-3150ea259998",
   "metadata": {},
   "outputs": [
    {
     "name": "stdout",
     "output_type": "stream",
     "text": [
      "THE ATTRIBUTES FOR: Doc_Level_Purulence_Assessment  IS  ANNOT_status purulent\n",
      "THE ATTRIBUTES FOR: Purulent  IS  ANNOT_status present\n",
      "THE ATTRIBUTES FOR: Non-Purulent  IS  ANNOT_status present\n",
      "THE ATTRIBUTES FOR: Exclusions  IS  ANNOT_status present\n",
      "THE ATTRIBUTES FOR: Incision_and_Drainage  IS  ANNOT_status performed\n",
      "THE ATTRIBUTES FOR: Nonspecific_SSTI  IS  ANNOT_status present\n",
      "THE ATTRIBUTES FOR: Exclusions  IS  ANNOT_status present\n",
      "OrderedDict([('Doc_Level_Purulence_Assessment', [CHIEF, The patient]), ('Purulent', [Abdominal pain]), ('Non-Purulent', [PRESENT]), ('Exclusions', [PRESENT, presented]), ('Incision_and_Drainage', [patient]), ('PreAnnotated', [year-old]), ('Nonspecific_SSTI', [X. The patient])])\n",
      "2 2\n"
     ]
    }
   ],
   "source": [
    "doc = ereader.read('data/ehost_test_corpus2/corpus/doc2.txt')\n",
    "print(doc._.concepts)\n",
    "print(len(doc._.concepts['Exclusions']),len(doc._.concepts['Doc_Level_Purulence_Assessment']))"
   ]
  },
  {
   "cell_type": "markdown",
   "id": "58d58de6-1578-45cd-b869-65a5f3155aae",
   "metadata": {},
   "source": [
    "# Test `test_check_spans_overlap(self):`"
   ]
  },
  {
   "cell_type": "code",
   "execution_count": 10,
   "id": "8581bf08-7ace-4a62-9ec1-504903e9b331",
   "metadata": {},
   "outputs": [
    {
     "name": "stderr",
     "output_type": "stream",
     "text": [
      "2023-10-31 15:35:18,286 root         DEBUG    To find 0 between token_start (-1[159]) and  token_right_bound(33[159])\n",
      "2023-10-31 15:35:18,286 root         DEBUG    To find 0 between token_start (-1[159]) and  token_right_bound(33[159])\n",
      "2023-10-31 15:35:18,286 root         DEBUG    To find 0 between token_start (-1[159]) and  token_right_bound(33[159])\n",
      "2023-10-31 15:35:18,286 root         DEBUG    To find 0 between token_start (-1[159]) and  token_right_bound(33[159])\n",
      "2023-10-31 15:35:18,287 root         DEBUG    Find abs offset 0 between -1[159:160] and 33[159:160], mid=16\n",
      "2023-10-31 15:35:18,287 root         DEBUG    Find abs offset 0 between -1[159:160] and 33[159:160], mid=16\n",
      "2023-10-31 15:35:18,287 root         DEBUG    Find abs offset 0 between -1[159:160] and 33[159:160], mid=16\n",
      "2023-10-31 15:35:18,287 root         DEBUG    Find abs offset 0 between -1[159:160] and 33[159:160], mid=16\n",
      "2023-10-31 15:35:18,288 root         DEBUG    Find abs offset 0 between -1[159:160] and 15[77:78], mid=7\n",
      "2023-10-31 15:35:18,288 root         DEBUG    Find abs offset 0 between -1[159:160] and 15[77:78], mid=7\n",
      "2023-10-31 15:35:18,288 root         DEBUG    Find abs offset 0 between -1[159:160] and 15[77:78], mid=7\n",
      "2023-10-31 15:35:18,288 root         DEBUG    Find abs offset 0 between -1[159:160] and 15[77:78], mid=7\n",
      "2023-10-31 15:35:18,290 root         DEBUG    Find abs offset 0 between -1[159:160] and 6[32:34], mid=2\n",
      "2023-10-31 15:35:18,290 root         DEBUG    Find abs offset 0 between -1[159:160] and 6[32:34], mid=2\n",
      "2023-10-31 15:35:18,290 root         DEBUG    Find abs offset 0 between -1[159:160] and 6[32:34], mid=2\n",
      "2023-10-31 15:35:18,290 root         DEBUG    Find abs offset 0 between -1[159:160] and 6[32:34], mid=2\n",
      "2023-10-31 15:35:18,291 root         DEBUG    Find abs offset 0 between -1[159:160] and 1[6:15], mid=0\n",
      "2023-10-31 15:35:18,291 root         DEBUG    Find abs offset 0 between -1[159:160] and 1[6:15], mid=0\n",
      "2023-10-31 15:35:18,291 root         DEBUG    Find abs offset 0 between -1[159:160] and 1[6:15], mid=0\n",
      "2023-10-31 15:35:18,291 root         DEBUG    Find abs offset 0 between -1[159:160] and 1[6:15], mid=0\n",
      "2023-10-31 15:35:18,293 root         DEBUG    return mid=0 when doc[0](0) < 0 < doc[0].idx+len(doc[0])(5)\n",
      "2023-10-31 15:35:18,293 root         DEBUG    return mid=0 when doc[0](0) < 0 < doc[0].idx+len(doc[0])(5)\n",
      "2023-10-31 15:35:18,293 root         DEBUG    return mid=0 when doc[0](0) < 0 < doc[0].idx+len(doc[0])(5)\n",
      "2023-10-31 15:35:18,293 root         DEBUG    return mid=0 when doc[0](0) < 0 < doc[0].idx+len(doc[0])(5)\n",
      "2023-10-31 15:35:18,294 root         DEBUG    \tfind start token 0('CHIEF')\n",
      "2023-10-31 15:35:18,294 root         DEBUG    \tfind start token 0('CHIEF')\n",
      "2023-10-31 15:35:18,294 root         DEBUG    \tfind start token 0('CHIEF')\n",
      "2023-10-31 15:35:18,294 root         DEBUG    \tfind start token 0('CHIEF')\n",
      "2023-10-31 15:35:18,295 root         DEBUG    To find token_end starts from 5 between token_start (0[0]) and  token_right_bound(33[159])\n",
      "2023-10-31 15:35:18,295 root         DEBUG    To find token_end starts from 5 between token_start (0[0]) and  token_right_bound(33[159])\n",
      "2023-10-31 15:35:18,295 root         DEBUG    To find token_end starts from 5 between token_start (0[0]) and  token_right_bound(33[159])\n",
      "2023-10-31 15:35:18,295 root         DEBUG    To find token_end starts from 5 between token_start (0[0]) and  token_right_bound(33[159])\n",
      "2023-10-31 15:35:18,297 root         DEBUG    \tFind end token 1('COMPLAINT')\n",
      "2023-10-31 15:35:18,297 root         DEBUG    \tFind end token 1('COMPLAINT')\n",
      "2023-10-31 15:35:18,297 root         DEBUG    \tFind end token 1('COMPLAINT')\n",
      "2023-10-31 15:35:18,297 root         DEBUG    \tFind end token 1('COMPLAINT')\n",
      "2023-10-31 15:35:18,298 root         DEBUG    Doc_Level_Purulence_Assessment[0:1]\n",
      "\t<>\n",
      "\tCHIEF<>\n",
      "2023-10-31 15:35:18,298 root         DEBUG    Doc_Level_Purulence_Assessment[0:1]\n",
      "\t<>\n",
      "\tCHIEF<>\n",
      "2023-10-31 15:35:18,298 root         DEBUG    Doc_Level_Purulence_Assessment[0:1]\n",
      "\t<>\n",
      "\tCHIEF<>\n",
      "2023-10-31 15:35:18,298 root         DEBUG    Doc_Level_Purulence_Assessment[0:1]\n",
      "\t<>\n",
      "\tCHIEF<>\n",
      "2023-10-31 15:35:18,300 root         DEBUG    To find 17 between token_start (0[0]) and  token_right_bound(33[159])\n",
      "2023-10-31 15:35:18,300 root         DEBUG    To find 17 between token_start (0[0]) and  token_right_bound(33[159])\n",
      "2023-10-31 15:35:18,300 root         DEBUG    To find 17 between token_start (0[0]) and  token_right_bound(33[159])\n",
      "2023-10-31 15:35:18,300 root         DEBUG    To find 17 between token_start (0[0]) and  token_right_bound(33[159])\n",
      "2023-10-31 15:35:18,301 root         DEBUG    Find abs offset 17 between 0[0:5] and 33[159:160], mid=16\n",
      "2023-10-31 15:35:18,301 root         DEBUG    Find abs offset 17 between 0[0:5] and 33[159:160], mid=16\n",
      "2023-10-31 15:35:18,301 root         DEBUG    Find abs offset 17 between 0[0:5] and 33[159:160], mid=16\n",
      "2023-10-31 15:35:18,301 root         DEBUG    Find abs offset 17 between 0[0:5] and 33[159:160], mid=16\n",
      "2023-10-31 15:35:18,302 root         DEBUG    Find abs offset 17 between 0[0:5] and 15[77:78], mid=7\n",
      "2023-10-31 15:35:18,302 root         DEBUG    Find abs offset 17 between 0[0:5] and 15[77:78], mid=7\n",
      "2023-10-31 15:35:18,302 root         DEBUG    Find abs offset 17 between 0[0:5] and 15[77:78], mid=7\n",
      "2023-10-31 15:35:18,302 root         DEBUG    Find abs offset 17 between 0[0:5] and 15[77:78], mid=7\n",
      "2023-10-31 15:35:18,304 root         DEBUG    Find abs offset 17 between 0[0:5] and 6[32:34], mid=3\n",
      "2023-10-31 15:35:18,304 root         DEBUG    Find abs offset 17 between 0[0:5] and 6[32:34], mid=3\n",
      "2023-10-31 15:35:18,304 root         DEBUG    Find abs offset 17 between 0[0:5] and 6[32:34], mid=3\n",
      "2023-10-31 15:35:18,304 root         DEBUG    Find abs offset 17 between 0[0:5] and 6[32:34], mid=3\n",
      "2023-10-31 15:35:18,305 root         DEBUG    return mid=3 when doc[3](17) < 17 < doc[3].idx+len(doc[3])(26)\n",
      "2023-10-31 15:35:18,305 root         DEBUG    return mid=3 when doc[3](17) < 17 < doc[3].idx+len(doc[3])(26)\n",
      "2023-10-31 15:35:18,305 root         DEBUG    return mid=3 when doc[3](17) < 17 < doc[3].idx+len(doc[3])(26)\n",
      "2023-10-31 15:35:18,305 root         DEBUG    return mid=3 when doc[3](17) < 17 < doc[3].idx+len(doc[3])(26)\n",
      "2023-10-31 15:35:18,306 root         DEBUG    \tfind start token 3('Abdominal')\n",
      "2023-10-31 15:35:18,306 root         DEBUG    \tfind start token 3('Abdominal')\n",
      "2023-10-31 15:35:18,306 root         DEBUG    \tfind start token 3('Abdominal')\n",
      "2023-10-31 15:35:18,306 root         DEBUG    \tfind start token 3('Abdominal')\n",
      "2023-10-31 15:35:18,308 root         DEBUG    To find token_end starts from 31 between token_start (3[17]) and  token_right_bound(33[159])\n",
      "2023-10-31 15:35:18,308 root         DEBUG    To find token_end starts from 31 between token_start (3[17]) and  token_right_bound(33[159])\n",
      "2023-10-31 15:35:18,308 root         DEBUG    To find token_end starts from 31 between token_start (3[17]) and  token_right_bound(33[159])\n",
      "2023-10-31 15:35:18,308 root         DEBUG    To find token_end starts from 31 between token_start (3[17]) and  token_right_bound(33[159])\n",
      "2023-10-31 15:35:18,309 root         DEBUG    \tFind end token 5('.')\n",
      "2023-10-31 15:35:18,309 root         DEBUG    \tFind end token 5('.')\n",
      "2023-10-31 15:35:18,309 root         DEBUG    \tFind end token 5('.')\n",
      "2023-10-31 15:35:18,309 root         DEBUG    \tFind end token 5('.')\n",
      "2023-10-31 15:35:18,310 root         DEBUG    Purulent[3:5]\n",
      "\t<>\n",
      "\tAbdominal pain<>\n",
      "2023-10-31 15:35:18,310 root         DEBUG    Purulent[3:5]\n",
      "\t<>\n",
      "\tAbdominal pain<>\n",
      "2023-10-31 15:35:18,310 root         DEBUG    Purulent[3:5]\n",
      "\t<>\n",
      "\tAbdominal pain<>\n",
      "2023-10-31 15:35:18,310 root         DEBUG    Purulent[3:5]\n",
      "\t<>\n",
      "\tAbdominal pain<>\n",
      "2023-10-31 15:35:18,312 root         DEBUG    To find 45 between token_start (3[17]) and  token_right_bound(33[159])\n",
      "2023-10-31 15:35:18,312 root         DEBUG    To find 45 between token_start (3[17]) and  token_right_bound(33[159])\n",
      "2023-10-31 15:35:18,312 root         DEBUG    To find 45 between token_start (3[17]) and  token_right_bound(33[159])\n",
      "2023-10-31 15:35:18,312 root         DEBUG    To find 45 between token_start (3[17]) and  token_right_bound(33[159])\n",
      "2023-10-31 15:35:18,313 root         DEBUG    Find abs offset 45 between 3[17:26] and 33[159:160], mid=18\n",
      "2023-10-31 15:35:18,313 root         DEBUG    Find abs offset 45 between 3[17:26] and 33[159:160], mid=18\n",
      "2023-10-31 15:35:18,313 root         DEBUG    Find abs offset 45 between 3[17:26] and 33[159:160], mid=18\n",
      "2023-10-31 15:35:18,313 root         DEBUG    Find abs offset 45 between 3[17:26] and 33[159:160], mid=18\n",
      "2023-10-31 15:35:18,314 root         DEBUG    Find abs offset 45 between 3[17:26] and 17[81:82], mid=10\n",
      "2023-10-31 15:35:18,314 root         DEBUG    Find abs offset 45 between 3[17:26] and 17[81:82], mid=10\n",
      "2023-10-31 15:35:18,314 root         DEBUG    Find abs offset 45 between 3[17:26] and 17[81:82], mid=10\n",
      "2023-10-31 15:35:18,314 root         DEBUG    Find abs offset 45 between 3[17:26] and 17[81:82], mid=10\n",
      "2023-10-31 15:35:18,316 root         DEBUG    Find abs offset 45 between 3[17:26] and 9[45:52], mid=6\n",
      "2023-10-31 15:35:18,316 root         DEBUG    Find abs offset 45 between 3[17:26] and 9[45:52], mid=6\n",
      "2023-10-31 15:35:18,316 root         DEBUG    Find abs offset 45 between 3[17:26] and 9[45:52], mid=6\n",
      "2023-10-31 15:35:18,316 root         DEBUG    Find abs offset 45 between 3[17:26] and 9[45:52], mid=6\n",
      "2023-10-31 15:35:18,317 root         DEBUG    Find abs offset 45 between 7[34:41] and 9[45:52], mid=8\n",
      "2023-10-31 15:35:18,317 root         DEBUG    Find abs offset 45 between 7[34:41] and 9[45:52], mid=8\n",
      "2023-10-31 15:35:18,317 root         DEBUG    Find abs offset 45 between 7[34:41] and 9[45:52], mid=8\n",
      "2023-10-31 15:35:18,317 root         DEBUG    Find abs offset 45 between 7[34:41] and 9[45:52], mid=8\n",
      "2023-10-31 15:35:18,319 root         DEBUG    \tfind start token 9('PRESENT')\n",
      "2023-10-31 15:35:18,319 root         DEBUG    \tfind start token 9('PRESENT')\n",
      "2023-10-31 15:35:18,319 root         DEBUG    \tfind start token 9('PRESENT')\n",
      "2023-10-31 15:35:18,319 root         DEBUG    \tfind start token 9('PRESENT')\n",
      "2023-10-31 15:35:18,320 root         DEBUG    To find token_end starts from 52 between token_start (9[45]) and  token_right_bound(33[159])\n",
      "2023-10-31 15:35:18,320 root         DEBUG    To find token_end starts from 52 between token_start (9[45]) and  token_right_bound(33[159])\n",
      "2023-10-31 15:35:18,320 root         DEBUG    To find token_end starts from 52 between token_start (9[45]) and  token_right_bound(33[159])\n",
      "2023-10-31 15:35:18,320 root         DEBUG    To find token_end starts from 52 between token_start (9[45]) and  token_right_bound(33[159])\n",
      "2023-10-31 15:35:18,321 root         DEBUG    \tFind end token 10('ILLNESS')\n",
      "2023-10-31 15:35:18,321 root         DEBUG    \tFind end token 10('ILLNESS')\n",
      "2023-10-31 15:35:18,321 root         DEBUG    \tFind end token 10('ILLNESS')\n",
      "2023-10-31 15:35:18,321 root         DEBUG    \tFind end token 10('ILLNESS')\n",
      "2023-10-31 15:35:18,323 root         DEBUG    Non-Purulent[9:10]\n",
      "\t<>\n",
      "\tPRESENT<>\n",
      "2023-10-31 15:35:18,323 root         DEBUG    Non-Purulent[9:10]\n",
      "\t<>\n",
      "\tPRESENT<>\n",
      "2023-10-31 15:35:18,323 root         DEBUG    Non-Purulent[9:10]\n",
      "\t<>\n",
      "\tPRESENT<>\n",
      "2023-10-31 15:35:18,323 root         DEBUG    Non-Purulent[9:10]\n",
      "\t<>\n",
      "\tPRESENT<>\n",
      "2023-10-31 15:35:18,324 root         DEBUG    To find 45 between token_start (9[45]) and  token_right_bound(33[159])\n",
      "2023-10-31 15:35:18,324 root         DEBUG    To find 45 between token_start (9[45]) and  token_right_bound(33[159])\n",
      "2023-10-31 15:35:18,324 root         DEBUG    To find 45 between token_start (9[45]) and  token_right_bound(33[159])\n",
      "2023-10-31 15:35:18,324 root         DEBUG    To find 45 between token_start (9[45]) and  token_right_bound(33[159])\n",
      "2023-10-31 15:35:18,325 root         DEBUG    Find abs offset 45 between 9[45:52] and 33[159:160], mid=21\n",
      "2023-10-31 15:35:18,325 root         DEBUG    Find abs offset 45 between 9[45:52] and 33[159:160], mid=21\n",
      "2023-10-31 15:35:18,325 root         DEBUG    Find abs offset 45 between 9[45:52] and 33[159:160], mid=21\n",
      "2023-10-31 15:35:18,325 root         DEBUG    Find abs offset 45 between 9[45:52] and 33[159:160], mid=21\n",
      "2023-10-31 15:35:18,327 root         DEBUG    Find abs offset 45 between 9[45:52] and 20[87:90], mid=14\n",
      "2023-10-31 15:35:18,327 root         DEBUG    Find abs offset 45 between 9[45:52] and 20[87:90], mid=14\n",
      "2023-10-31 15:35:18,327 root         DEBUG    Find abs offset 45 between 9[45:52] and 20[87:90], mid=14\n",
      "2023-10-31 15:35:18,327 root         DEBUG    Find abs offset 45 between 9[45:52] and 20[87:90], mid=14\n",
      "2023-10-31 15:35:18,328 root         DEBUG    Find abs offset 45 between 9[45:52] and 13[66:73], mid=11\n",
      "2023-10-31 15:35:18,328 root         DEBUG    Find abs offset 45 between 9[45:52] and 13[66:73], mid=11\n",
      "2023-10-31 15:35:18,328 root         DEBUG    Find abs offset 45 between 9[45:52] and 13[66:73], mid=11\n",
      "2023-10-31 15:35:18,328 root         DEBUG    Find abs offset 45 between 9[45:52] and 13[66:73], mid=11\n",
      "2023-10-31 15:35:18,330 root         DEBUG    Find abs offset 45 between 9[45:52] and 10[53:60], mid=9\n",
      "2023-10-31 15:35:18,330 root         DEBUG    Find abs offset 45 between 9[45:52] and 10[53:60], mid=9\n",
      "2023-10-31 15:35:18,330 root         DEBUG    Find abs offset 45 between 9[45:52] and 10[53:60], mid=9\n",
      "2023-10-31 15:35:18,330 root         DEBUG    Find abs offset 45 between 9[45:52] and 10[53:60], mid=9\n",
      "2023-10-31 15:35:18,331 root         DEBUG    return mid=9 when doc[9](45) < 45 < doc[9].idx+len(doc[9])(52)\n",
      "2023-10-31 15:35:18,331 root         DEBUG    return mid=9 when doc[9](45) < 45 < doc[9].idx+len(doc[9])(52)\n",
      "2023-10-31 15:35:18,331 root         DEBUG    return mid=9 when doc[9](45) < 45 < doc[9].idx+len(doc[9])(52)\n",
      "2023-10-31 15:35:18,331 root         DEBUG    return mid=9 when doc[9](45) < 45 < doc[9].idx+len(doc[9])(52)\n",
      "2023-10-31 15:35:18,333 root         DEBUG    \tfind start token 9('PRESENT')\n",
      "2023-10-31 15:35:18,333 root         DEBUG    \tfind start token 9('PRESENT')\n",
      "2023-10-31 15:35:18,333 root         DEBUG    \tfind start token 9('PRESENT')\n",
      "2023-10-31 15:35:18,333 root         DEBUG    \tfind start token 9('PRESENT')\n",
      "2023-10-31 15:35:18,334 root         DEBUG    To find token_end starts from 52 between token_start (9[45]) and  token_right_bound(33[159])\n",
      "2023-10-31 15:35:18,334 root         DEBUG    To find token_end starts from 52 between token_start (9[45]) and  token_right_bound(33[159])\n",
      "2023-10-31 15:35:18,334 root         DEBUG    To find token_end starts from 52 between token_start (9[45]) and  token_right_bound(33[159])\n",
      "2023-10-31 15:35:18,334 root         DEBUG    To find token_end starts from 52 between token_start (9[45]) and  token_right_bound(33[159])\n",
      "2023-10-31 15:35:18,336 root         DEBUG    \tFind end token 10('ILLNESS')\n",
      "2023-10-31 15:35:18,336 root         DEBUG    \tFind end token 10('ILLNESS')\n",
      "2023-10-31 15:35:18,336 root         DEBUG    \tFind end token 10('ILLNESS')\n",
      "2023-10-31 15:35:18,336 root         DEBUG    \tFind end token 10('ILLNESS')\n",
      "2023-10-31 15:35:18,337 root         DEBUG    To find 62 between token_start (9[45]) and  token_right_bound(33[159])\n",
      "2023-10-31 15:35:18,337 root         DEBUG    To find 62 between token_start (9[45]) and  token_right_bound(33[159])\n",
      "2023-10-31 15:35:18,337 root         DEBUG    To find 62 between token_start (9[45]) and  token_right_bound(33[159])\n",
      "2023-10-31 15:35:18,337 root         DEBUG    To find 62 between token_start (9[45]) and  token_right_bound(33[159])\n",
      "2023-10-31 15:35:18,338 root         DEBUG    Find abs offset 62 between 9[45:52] and 33[159:160], mid=21\n",
      "2023-10-31 15:35:18,338 root         DEBUG    Find abs offset 62 between 9[45:52] and 33[159:160], mid=21\n",
      "2023-10-31 15:35:18,338 root         DEBUG    Find abs offset 62 between 9[45:52] and 33[159:160], mid=21\n",
      "2023-10-31 15:35:18,338 root         DEBUG    Find abs offset 62 between 9[45:52] and 33[159:160], mid=21\n",
      "2023-10-31 15:35:18,339 root         DEBUG    Find abs offset 62 between 9[45:52] and 20[87:90], mid=14\n",
      "2023-10-31 15:35:18,339 root         DEBUG    Find abs offset 62 between 9[45:52] and 20[87:90], mid=14\n",
      "2023-10-31 15:35:18,339 root         DEBUG    Find abs offset 62 between 9[45:52] and 20[87:90], mid=14\n",
      "2023-10-31 15:35:18,339 root         DEBUG    Find abs offset 62 between 9[45:52] and 20[87:90], mid=14\n",
      "2023-10-31 15:35:18,341 root         DEBUG    Find abs offset 62 between 9[45:52] and 13[66:73], mid=11\n",
      "2023-10-31 15:35:18,341 root         DEBUG    Find abs offset 62 between 9[45:52] and 13[66:73], mid=11\n",
      "2023-10-31 15:35:18,341 root         DEBUG    Find abs offset 62 between 9[45:52] and 13[66:73], mid=11\n",
      "2023-10-31 15:35:18,341 root         DEBUG    Find abs offset 62 between 9[45:52] and 13[66:73], mid=11\n",
      "2023-10-31 15:35:18,342 root         DEBUG    Find abs offset 62 between 12[62:65] and 13[66:73], mid=12\n",
      "2023-10-31 15:35:18,342 root         DEBUG    Find abs offset 62 between 12[62:65] and 13[66:73], mid=12\n",
      "2023-10-31 15:35:18,342 root         DEBUG    Find abs offset 62 between 12[62:65] and 13[66:73], mid=12\n",
      "2023-10-31 15:35:18,342 root         DEBUG    Find abs offset 62 between 12[62:65] and 13[66:73], mid=12\n",
      "2023-10-31 15:35:18,343 root         DEBUG    return mid=12 when doc[12](62) < 62 < doc[12].idx+len(doc[12])(65)\n",
      "2023-10-31 15:35:18,343 root         DEBUG    return mid=12 when doc[12](62) < 62 < doc[12].idx+len(doc[12])(65)\n",
      "2023-10-31 15:35:18,343 root         DEBUG    return mid=12 when doc[12](62) < 62 < doc[12].idx+len(doc[12])(65)\n",
      "2023-10-31 15:35:18,343 root         DEBUG    return mid=12 when doc[12](62) < 62 < doc[12].idx+len(doc[12])(65)\n",
      "2023-10-31 15:35:18,344 root         DEBUG    \tfind start token 12('The')\n",
      "2023-10-31 15:35:18,344 root         DEBUG    \tfind start token 12('The')\n",
      "2023-10-31 15:35:18,344 root         DEBUG    \tfind start token 12('The')\n",
      "2023-10-31 15:35:18,344 root         DEBUG    \tfind start token 12('The')\n",
      "2023-10-31 15:35:18,345 root         DEBUG    To find token_end starts from 73 between token_start (12[62]) and  token_right_bound(33[159])\n",
      "2023-10-31 15:35:18,345 root         DEBUG    To find token_end starts from 73 between token_start (12[62]) and  token_right_bound(33[159])\n",
      "2023-10-31 15:35:18,345 root         DEBUG    To find token_end starts from 73 between token_start (12[62]) and  token_right_bound(33[159])\n",
      "2023-10-31 15:35:18,345 root         DEBUG    To find token_end starts from 73 between token_start (12[62]) and  token_right_bound(33[159])\n",
      "2023-10-31 15:35:18,346 root         DEBUG    \tFind end token 14('is')\n",
      "2023-10-31 15:35:18,346 root         DEBUG    \tFind end token 14('is')\n",
      "2023-10-31 15:35:18,346 root         DEBUG    \tFind end token 14('is')\n",
      "2023-10-31 15:35:18,346 root         DEBUG    \tFind end token 14('is')\n",
      "2023-10-31 15:35:18,348 root         DEBUG    Doc_Level_Purulence_Assessment[12:14]\n",
      "\t<>\n",
      "\tThe patient<>\n",
      "2023-10-31 15:35:18,348 root         DEBUG    Doc_Level_Purulence_Assessment[12:14]\n",
      "\t<>\n",
      "\tThe patient<>\n",
      "2023-10-31 15:35:18,348 root         DEBUG    Doc_Level_Purulence_Assessment[12:14]\n",
      "\t<>\n",
      "\tThe patient<>\n",
      "2023-10-31 15:35:18,348 root         DEBUG    Doc_Level_Purulence_Assessment[12:14]\n",
      "\t<>\n",
      "\tThe patient<>\n",
      "2023-10-31 15:35:18,349 root         DEBUG    To find 66 between token_start (12[62]) and  token_right_bound(33[159])\n",
      "2023-10-31 15:35:18,349 root         DEBUG    To find 66 between token_start (12[62]) and  token_right_bound(33[159])\n",
      "2023-10-31 15:35:18,349 root         DEBUG    To find 66 between token_start (12[62]) and  token_right_bound(33[159])\n",
      "2023-10-31 15:35:18,349 root         DEBUG    To find 66 between token_start (12[62]) and  token_right_bound(33[159])\n",
      "2023-10-31 15:35:18,351 root         DEBUG    Find abs offset 66 between 12[62:65] and 33[159:160], mid=22\n",
      "2023-10-31 15:35:18,351 root         DEBUG    Find abs offset 66 between 12[62:65] and 33[159:160], mid=22\n",
      "2023-10-31 15:35:18,351 root         DEBUG    Find abs offset 66 between 12[62:65] and 33[159:160], mid=22\n",
      "2023-10-31 15:35:18,351 root         DEBUG    Find abs offset 66 between 12[62:65] and 33[159:160], mid=22\n",
      "2023-10-31 15:35:18,352 root         DEBUG    Find abs offset 66 between 12[62:65] and 21[91:97], mid=16\n",
      "2023-10-31 15:35:18,352 root         DEBUG    Find abs offset 66 between 12[62:65] and 21[91:97], mid=16\n",
      "2023-10-31 15:35:18,352 root         DEBUG    Find abs offset 66 between 12[62:65] and 21[91:97], mid=16\n",
      "2023-10-31 15:35:18,352 root         DEBUG    Find abs offset 66 between 12[62:65] and 21[91:97], mid=16\n",
      "2023-10-31 15:35:18,353 root         DEBUG    Find abs offset 66 between 12[62:65] and 15[77:78], mid=13\n",
      "2023-10-31 15:35:18,353 root         DEBUG    Find abs offset 66 between 12[62:65] and 15[77:78], mid=13\n",
      "2023-10-31 15:35:18,353 root         DEBUG    Find abs offset 66 between 12[62:65] and 15[77:78], mid=13\n",
      "2023-10-31 15:35:18,353 root         DEBUG    Find abs offset 66 between 12[62:65] and 15[77:78], mid=13\n",
      "2023-10-31 15:35:18,355 root         DEBUG    return mid=13 when doc[13](66) < 66 < doc[13].idx+len(doc[13])(73)\n",
      "2023-10-31 15:35:18,355 root         DEBUG    return mid=13 when doc[13](66) < 66 < doc[13].idx+len(doc[13])(73)\n",
      "2023-10-31 15:35:18,355 root         DEBUG    return mid=13 when doc[13](66) < 66 < doc[13].idx+len(doc[13])(73)\n",
      "2023-10-31 15:35:18,355 root         DEBUG    return mid=13 when doc[13](66) < 66 < doc[13].idx+len(doc[13])(73)\n",
      "2023-10-31 15:35:18,356 root         DEBUG    \tfind start token 13('patient')\n",
      "2023-10-31 15:35:18,356 root         DEBUG    \tfind start token 13('patient')\n",
      "2023-10-31 15:35:18,356 root         DEBUG    \tfind start token 13('patient')\n",
      "2023-10-31 15:35:18,356 root         DEBUG    \tfind start token 13('patient')\n",
      "2023-10-31 15:35:18,357 root         DEBUG    To find token_end starts from 73 between token_start (13[66]) and  token_right_bound(33[159])\n",
      "2023-10-31 15:35:18,357 root         DEBUG    To find token_end starts from 73 between token_start (13[66]) and  token_right_bound(33[159])\n",
      "2023-10-31 15:35:18,357 root         DEBUG    To find token_end starts from 73 between token_start (13[66]) and  token_right_bound(33[159])\n",
      "2023-10-31 15:35:18,357 root         DEBUG    To find token_end starts from 73 between token_start (13[66]) and  token_right_bound(33[159])\n",
      "2023-10-31 15:35:18,358 root         DEBUG    \tFind end token 14('is')\n",
      "2023-10-31 15:35:18,358 root         DEBUG    \tFind end token 14('is')\n",
      "2023-10-31 15:35:18,358 root         DEBUG    \tFind end token 14('is')\n",
      "2023-10-31 15:35:18,358 root         DEBUG    \tFind end token 14('is')\n",
      "2023-10-31 15:35:18,359 root         DEBUG    Incision_and_Drainage[13:14]\n",
      "\t<>\n",
      "\tpatient<>\n",
      "2023-10-31 15:35:18,359 root         DEBUG    Incision_and_Drainage[13:14]\n",
      "\t<>\n",
      "\tpatient<>\n",
      "2023-10-31 15:35:18,359 root         DEBUG    Incision_and_Drainage[13:14]\n",
      "\t<>\n",
      "\tpatient<>\n",
      "2023-10-31 15:35:18,359 root         DEBUG    Incision_and_Drainage[13:14]\n",
      "\t<>\n",
      "\tpatient<>\n",
      "2023-10-31 15:35:18,361 root         DEBUG    To find 82 between token_start (13[66]) and  token_right_bound(33[159])\n",
      "2023-10-31 15:35:18,361 root         DEBUG    To find 82 between token_start (13[66]) and  token_right_bound(33[159])\n",
      "2023-10-31 15:35:18,361 root         DEBUG    To find 82 between token_start (13[66]) and  token_right_bound(33[159])\n",
      "2023-10-31 15:35:18,361 root         DEBUG    To find 82 between token_start (13[66]) and  token_right_bound(33[159])\n",
      "2023-10-31 15:35:18,362 root         DEBUG    Find abs offset 82 between 13[66:73] and 33[159:160], mid=23\n",
      "2023-10-31 15:35:18,362 root         DEBUG    Find abs offset 82 between 13[66:73] and 33[159:160], mid=23\n",
      "2023-10-31 15:35:18,362 root         DEBUG    Find abs offset 82 between 13[66:73] and 33[159:160], mid=23\n",
      "2023-10-31 15:35:18,362 root         DEBUG    Find abs offset 82 between 13[66:73] and 33[159:160], mid=23\n",
      "2023-10-31 15:35:18,363 root         DEBUG    Find abs offset 82 between 13[66:73] and 22[98:105], mid=17\n",
      "2023-10-31 15:35:18,363 root         DEBUG    Find abs offset 82 between 13[66:73] and 22[98:105], mid=17\n",
      "2023-10-31 15:35:18,363 root         DEBUG    Find abs offset 82 between 13[66:73] and 22[98:105], mid=17\n",
      "2023-10-31 15:35:18,363 root         DEBUG    Find abs offset 82 between 13[66:73] and 22[98:105], mid=17\n",
      "2023-10-31 15:35:18,364 root         DEBUG    Find abs offset 82 between 18[82:86] and 22[98:105], mid=20\n",
      "2023-10-31 15:35:18,364 root         DEBUG    Find abs offset 82 between 18[82:86] and 22[98:105], mid=20\n",
      "2023-10-31 15:35:18,364 root         DEBUG    Find abs offset 82 between 18[82:86] and 22[98:105], mid=20\n",
      "2023-10-31 15:35:18,364 root         DEBUG    Find abs offset 82 between 18[82:86] and 22[98:105], mid=20\n",
      "2023-10-31 15:35:18,366 root         DEBUG    Find abs offset 82 between 18[82:86] and 19[86:87], mid=18\n",
      "2023-10-31 15:35:18,366 root         DEBUG    Find abs offset 82 between 18[82:86] and 19[86:87], mid=18\n",
      "2023-10-31 15:35:18,366 root         DEBUG    Find abs offset 82 between 18[82:86] and 19[86:87], mid=18\n",
      "2023-10-31 15:35:18,366 root         DEBUG    Find abs offset 82 between 18[82:86] and 19[86:87], mid=18\n",
      "2023-10-31 15:35:18,367 root         DEBUG    return mid=18 when doc[18](82) < 82 < doc[18].idx+len(doc[18])(86)\n",
      "2023-10-31 15:35:18,367 root         DEBUG    return mid=18 when doc[18](82) < 82 < doc[18].idx+len(doc[18])(86)\n",
      "2023-10-31 15:35:18,367 root         DEBUG    return mid=18 when doc[18](82) < 82 < doc[18].idx+len(doc[18])(86)\n",
      "2023-10-31 15:35:18,367 root         DEBUG    return mid=18 when doc[18](82) < 82 < doc[18].idx+len(doc[18])(86)\n",
      "2023-10-31 15:35:18,368 root         DEBUG    \tfind start token 18('year')\n",
      "2023-10-31 15:35:18,368 root         DEBUG    \tfind start token 18('year')\n",
      "2023-10-31 15:35:18,368 root         DEBUG    \tfind start token 18('year')\n",
      "2023-10-31 15:35:18,368 root         DEBUG    \tfind start token 18('year')\n",
      "2023-10-31 15:35:18,369 root         DEBUG    To find token_end starts from 90 between token_start (18[82]) and  token_right_bound(33[159])\n",
      "2023-10-31 15:35:18,369 root         DEBUG    To find token_end starts from 90 between token_start (18[82]) and  token_right_bound(33[159])\n",
      "2023-10-31 15:35:18,369 root         DEBUG    To find token_end starts from 90 between token_start (18[82]) and  token_right_bound(33[159])\n",
      "2023-10-31 15:35:18,369 root         DEBUG    To find token_end starts from 90 between token_start (18[82]) and  token_right_bound(33[159])\n",
      "2023-10-31 15:35:18,370 root         DEBUG    \tFind end token 21('female')\n",
      "2023-10-31 15:35:18,370 root         DEBUG    \tFind end token 21('female')\n",
      "2023-10-31 15:35:18,370 root         DEBUG    \tFind end token 21('female')\n",
      "2023-10-31 15:35:18,370 root         DEBUG    \tFind end token 21('female')\n",
      "2023-10-31 15:35:18,371 root         DEBUG    PreAnnotated[18:21]\n",
      "\t<>\n",
      "\tyear-old<>\n",
      "2023-10-31 15:35:18,371 root         DEBUG    PreAnnotated[18:21]\n",
      "\t<>\n",
      "\tyear-old<>\n",
      "2023-10-31 15:35:18,371 root         DEBUG    PreAnnotated[18:21]\n",
      "\t<>\n",
      "\tyear-old<>\n",
      "2023-10-31 15:35:18,371 root         DEBUG    PreAnnotated[18:21]\n",
      "\t<>\n",
      "\tyear-old<>\n",
      "2023-10-31 15:35:18,372 root         DEBUG    To find 113 between token_start (18[82]) and  token_right_bound(33[159])\n",
      "2023-10-31 15:35:18,372 root         DEBUG    To find 113 between token_start (18[82]) and  token_right_bound(33[159])\n",
      "2023-10-31 15:35:18,372 root         DEBUG    To find 113 between token_start (18[82]) and  token_right_bound(33[159])\n",
      "2023-10-31 15:35:18,372 root         DEBUG    To find 113 between token_start (18[82]) and  token_right_bound(33[159])\n",
      "2023-10-31 15:35:18,374 root         DEBUG    Find abs offset 113 between 18[82:86] and 33[159:160], mid=25\n",
      "2023-10-31 15:35:18,374 root         DEBUG    Find abs offset 113 between 18[82:86] and 33[159:160], mid=25\n",
      "2023-10-31 15:35:18,374 root         DEBUG    Find abs offset 113 between 18[82:86] and 33[159:160], mid=25\n",
      "2023-10-31 15:35:18,374 root         DEBUG    Find abs offset 113 between 18[82:86] and 33[159:160], mid=25\n",
      "2023-10-31 15:35:18,375 root         DEBUG    return mid=25 when doc[25](113) < 113 < doc[25].idx+len(doc[25])(115)\n",
      "2023-10-31 15:35:18,375 root         DEBUG    return mid=25 when doc[25](113) < 113 < doc[25].idx+len(doc[25])(115)\n",
      "2023-10-31 15:35:18,375 root         DEBUG    return mid=25 when doc[25](113) < 113 < doc[25].idx+len(doc[25])(115)\n",
      "2023-10-31 15:35:18,375 root         DEBUG    return mid=25 when doc[25](113) < 113 < doc[25].idx+len(doc[25])(115)\n",
      "2023-10-31 15:35:18,376 root         DEBUG    \tfind start token 25('X.')\n",
      "2023-10-31 15:35:18,376 root         DEBUG    \tfind start token 25('X.')\n",
      "2023-10-31 15:35:18,376 root         DEBUG    \tfind start token 25('X.')\n",
      "2023-10-31 15:35:18,376 root         DEBUG    \tfind start token 25('X.')\n",
      "2023-10-31 15:35:18,377 root         DEBUG    To find token_end starts from 127 between token_start (25[113]) and  token_right_bound(33[159])\n",
      "2023-10-31 15:35:18,377 root         DEBUG    To find token_end starts from 127 between token_start (25[113]) and  token_right_bound(33[159])\n",
      "2023-10-31 15:35:18,377 root         DEBUG    To find token_end starts from 127 between token_start (25[113]) and  token_right_bound(33[159])\n",
      "2023-10-31 15:35:18,377 root         DEBUG    To find token_end starts from 127 between token_start (25[113]) and  token_right_bound(33[159])\n",
      "2023-10-31 15:35:18,378 root         DEBUG    \tFind end token 28('presented')\n",
      "2023-10-31 15:35:18,378 root         DEBUG    \tFind end token 28('presented')\n",
      "2023-10-31 15:35:18,378 root         DEBUG    \tFind end token 28('presented')\n",
      "2023-10-31 15:35:18,378 root         DEBUG    \tFind end token 28('presented')\n",
      "2023-10-31 15:35:18,380 root         DEBUG    Nonspecific_SSTI[25:28]\n",
      "\t<>\n",
      "\tX. The patient<>\n",
      "2023-10-31 15:35:18,380 root         DEBUG    Nonspecific_SSTI[25:28]\n",
      "\t<>\n",
      "\tX. The patient<>\n",
      "2023-10-31 15:35:18,380 root         DEBUG    Nonspecific_SSTI[25:28]\n",
      "\t<>\n",
      "\tX. The patient<>\n",
      "2023-10-31 15:35:18,380 root         DEBUG    Nonspecific_SSTI[25:28]\n",
      "\t<>\n",
      "\tX. The patient<>\n",
      "2023-10-31 15:35:18,381 root         DEBUG    To find 128 between token_start (25[113]) and  token_right_bound(33[159])\n",
      "2023-10-31 15:35:18,381 root         DEBUG    To find 128 between token_start (25[113]) and  token_right_bound(33[159])\n",
      "2023-10-31 15:35:18,381 root         DEBUG    To find 128 between token_start (25[113]) and  token_right_bound(33[159])\n",
      "2023-10-31 15:35:18,381 root         DEBUG    To find 128 between token_start (25[113]) and  token_right_bound(33[159])\n",
      "2023-10-31 15:35:18,383 root         DEBUG    Find abs offset 128 between 25[113:115] and 33[159:160], mid=29\n",
      "2023-10-31 15:35:18,383 root         DEBUG    Find abs offset 128 between 25[113:115] and 33[159:160], mid=29\n",
      "2023-10-31 15:35:18,383 root         DEBUG    Find abs offset 128 between 25[113:115] and 33[159:160], mid=29\n",
      "2023-10-31 15:35:18,383 root         DEBUG    Find abs offset 128 between 25[113:115] and 33[159:160], mid=29\n",
      "2023-10-31 15:35:18,384 root         DEBUG    Find abs offset 128 between 25[113:115] and 28[128:137], mid=26\n",
      "2023-10-31 15:35:18,384 root         DEBUG    Find abs offset 128 between 25[113:115] and 28[128:137], mid=26\n",
      "2023-10-31 15:35:18,384 root         DEBUG    Find abs offset 128 between 25[113:115] and 28[128:137], mid=26\n",
      "2023-10-31 15:35:18,384 root         DEBUG    Find abs offset 128 between 25[113:115] and 28[128:137], mid=26\n",
      "2023-10-31 15:35:18,385 root         DEBUG    Find abs offset 128 between 27[120:127] and 28[128:137], mid=27\n",
      "2023-10-31 15:35:18,385 root         DEBUG    Find abs offset 128 between 27[120:127] and 28[128:137], mid=27\n",
      "2023-10-31 15:35:18,385 root         DEBUG    Find abs offset 128 between 27[120:127] and 28[128:137], mid=27\n",
      "2023-10-31 15:35:18,385 root         DEBUG    Find abs offset 128 between 27[120:127] and 28[128:137], mid=27\n",
      "2023-10-31 15:35:18,386 root         DEBUG    \tfind start token 28('presented')\n",
      "2023-10-31 15:35:18,386 root         DEBUG    \tfind start token 28('presented')\n",
      "2023-10-31 15:35:18,386 root         DEBUG    \tfind start token 28('presented')\n",
      "2023-10-31 15:35:18,386 root         DEBUG    \tfind start token 28('presented')\n",
      "2023-10-31 15:35:18,387 root         DEBUG    To find token_end starts from 137 between token_start (28[128]) and  token_right_bound(33[159])\n",
      "2023-10-31 15:35:18,387 root         DEBUG    To find token_end starts from 137 between token_start (28[128]) and  token_right_bound(33[159])\n",
      "2023-10-31 15:35:18,387 root         DEBUG    To find token_end starts from 137 between token_start (28[128]) and  token_right_bound(33[159])\n",
      "2023-10-31 15:35:18,387 root         DEBUG    To find token_end starts from 137 between token_start (28[128]) and  token_right_bound(33[159])\n",
      "2023-10-31 15:35:18,389 root         DEBUG    \tFind end token 29('to')\n",
      "2023-10-31 15:35:18,389 root         DEBUG    \tFind end token 29('to')\n",
      "2023-10-31 15:35:18,389 root         DEBUG    \tFind end token 29('to')\n",
      "2023-10-31 15:35:18,389 root         DEBUG    \tFind end token 29('to')\n",
      "2023-10-31 15:35:18,390 root         DEBUG    Exclusions[28:29]\n",
      "\t<>\n",
      "\tpresented<>\n",
      "2023-10-31 15:35:18,390 root         DEBUG    Exclusions[28:29]\n",
      "\t<>\n",
      "\tpresented<>\n",
      "2023-10-31 15:35:18,390 root         DEBUG    Exclusions[28:29]\n",
      "\t<>\n",
      "\tpresented<>\n",
      "2023-10-31 15:35:18,390 root         DEBUG    Exclusions[28:29]\n",
      "\t<>\n",
      "\tpresented<>\n"
     ]
    },
    {
     "name": "stdout",
     "output_type": "stream",
     "text": [
      "ALL ATTRIBUTES FROM SCHEMA: set()\n",
      "THE ATTRIBUTES FOR: Doc_Level_Purulence_Assessment  IS  ANNOT_status purulent\n",
      "THE ATTRIBUTES FOR: Purulent  IS  ANNOT_status present\n",
      "THE ATTRIBUTES FOR: Non-Purulent  IS  ANNOT_status present\n",
      "THE ATTRIBUTES FOR: Exclusions  IS  ANNOT_status present\n",
      "THE ATTRIBUTES FOR: Incision_and_Drainage  IS  ANNOT_status performed\n",
      "THE ATTRIBUTES FOR: Nonspecific_SSTI  IS  ANNOT_status present\n",
      "THE ATTRIBUTES FOR: Exclusions  IS  ANNOT_status present\n",
      "OrderedDict([('Doc_Level_Purulence_Assessment', [CHIEF, The patient]), ('Purulent', [Abdominal pain]), ('Non-Purulent', [PRESENT]), ('Exclusions', [PRESENT, presented]), ('Incision_and_Drainage', [patient]), ('PreAnnotated', [year-old]), ('Nonspecific_SSTI', [X. The patient])])\n"
     ]
    }
   ],
   "source": [
    "ereader = EhostDocReader(nlp=English(), schema_file='data/ehost_test_corpus2/config/projectschema.xml',support_overlap=True, store_anno_string=True, log_level=logging.DEBUG)\n",
    "doc = ereader.read('data/ehost_test_corpus2/corpus/doc2.txt')\n",
    "print(doc._.concepts)"
   ]
  },
  {
   "cell_type": "code",
   "execution_count": 11,
   "id": "70b6e838-256a-43d8-924b-d6267f7cad41",
   "metadata": {},
   "outputs": [
    {
     "name": "stdout",
     "output_type": "stream",
     "text": [
      "CHIEF\n",
      "The patient\n"
     ]
    }
   ],
   "source": [
    "for span in doc._.concepts['Doc_Level_Purulence_Assessment']:\n",
    "    print(span._.span_txt)"
   ]
  },
  {
   "cell_type": "markdown",
   "id": "0eff0dba-1930-4a15-b1ef-f28421b74037",
   "metadata": {},
   "source": [
    "# Test `test_dir_reader(self)`"
   ]
  },
  {
   "cell_type": "code",
   "execution_count": 12,
   "id": "d0fcb93c-452f-47cb-9a8a-0096bf0b4c4e",
   "metadata": {},
   "outputs": [
    {
     "name": "stdout",
     "output_type": "stream",
     "text": [
      "ALL ATTRIBUTES FROM SCHEMA: set()\n"
     ]
    },
    {
     "ename": "OSError",
     "evalue": "An error occured while parsing annotation for document: /Users/u6022257/Documents/medspacy_io/tests/data/ehost_test_corpus/corpus/.ipynb_checkpoints/doc1-checkpoint.txt",
     "output_type": "error",
     "traceback": [
      "\u001b[0;31m---------------------------------------------------------------------------\u001b[0m",
      "\u001b[0;31mFileNotFoundError\u001b[0m                         Traceback (most recent call last)",
      "\u001b[0;32m~/Documents/medspacy_io/medspacy_io/reader/base_reader.py\u001b[0m in \u001b[0;36mread\u001b[0;34m(self, txt_dir)\u001b[0m\n\u001b[1;32m    499\u001b[0m             \u001b[0;32mtry\u001b[0m\u001b[0;34m:\u001b[0m\u001b[0;34m\u001b[0m\u001b[0;34m\u001b[0m\u001b[0m\n\u001b[0;32m--> 500\u001b[0;31m                 \u001b[0mdoc\u001b[0m \u001b[0;34m=\u001b[0m \u001b[0mself\u001b[0m\u001b[0;34m.\u001b[0m\u001b[0mreader\u001b[0m\u001b[0;34m.\u001b[0m\u001b[0mread\u001b[0m\u001b[0;34m(\u001b[0m\u001b[0mtxt_file\u001b[0m\u001b[0;34m)\u001b[0m\u001b[0;34m\u001b[0m\u001b[0;34m\u001b[0m\u001b[0m\n\u001b[0m\u001b[1;32m    501\u001b[0m                 \u001b[0mdocs\u001b[0m\u001b[0;34m.\u001b[0m\u001b[0mappend\u001b[0m\u001b[0;34m(\u001b[0m\u001b[0mdoc\u001b[0m\u001b[0;34m)\u001b[0m\u001b[0;34m\u001b[0m\u001b[0;34m\u001b[0m\u001b[0m\n",
      "\u001b[0;32m~/Documents/medspacy_io/medspacy_io/reader/base_reader.py\u001b[0m in \u001b[0;36mread\u001b[0;34m(self, txt_file)\u001b[0m\n\u001b[1;32m    117\u001b[0m         \"\"\"\n\u001b[0;32m--> 118\u001b[0;31m         \u001b[0mtxt\u001b[0m\u001b[0;34m,\u001b[0m \u001b[0manno\u001b[0m \u001b[0;34m=\u001b[0m \u001b[0mself\u001b[0m\u001b[0;34m.\u001b[0m\u001b[0mget_contents\u001b[0m\u001b[0;34m(\u001b[0m\u001b[0mtxt_file\u001b[0m\u001b[0;34m=\u001b[0m\u001b[0mtxt_file\u001b[0m\u001b[0;34m)\u001b[0m\u001b[0;34m\u001b[0m\u001b[0;34m\u001b[0m\u001b[0m\n\u001b[0m\u001b[1;32m    119\u001b[0m         \u001b[0mdoc\u001b[0m \u001b[0;34m=\u001b[0m \u001b[0mself\u001b[0m\u001b[0;34m.\u001b[0m\u001b[0mnlp\u001b[0m\u001b[0;34m(\u001b[0m\u001b[0mtxt\u001b[0m\u001b[0;34m)\u001b[0m\u001b[0;34m\u001b[0m\u001b[0;34m\u001b[0m\u001b[0m\n",
      "\u001b[0;32m~/Documents/medspacy_io/medspacy_io/reader/base_reader.py\u001b[0m in \u001b[0;36mget_contents\u001b[0;34m(self, txt_file)\u001b[0m\n\u001b[1;32m    378\u001b[0m             \u001b[0mtxt\u001b[0m \u001b[0;34m=\u001b[0m \u001b[0mself\u001b[0m\u001b[0;34m.\u001b[0m\u001b[0mget_txt_content\u001b[0m\u001b[0;34m(\u001b[0m\u001b[0mtxt_file\u001b[0m\u001b[0;34m)\u001b[0m\u001b[0;34m\u001b[0m\u001b[0;34m\u001b[0m\u001b[0m\n\u001b[0;32m--> 379\u001b[0;31m             \u001b[0manno\u001b[0m \u001b[0;34m=\u001b[0m \u001b[0mself\u001b[0m\u001b[0;34m.\u001b[0m\u001b[0mget_anno_content\u001b[0m\u001b[0;34m(\u001b[0m\u001b[0mtxt_file\u001b[0m\u001b[0;34m)\u001b[0m\u001b[0;34m\u001b[0m\u001b[0;34m\u001b[0m\u001b[0m\n\u001b[0m\u001b[1;32m    380\u001b[0m         \u001b[0;32mreturn\u001b[0m \u001b[0mtxt\u001b[0m\u001b[0;34m,\u001b[0m \u001b[0manno\u001b[0m\u001b[0;34m\u001b[0m\u001b[0;34m\u001b[0m\u001b[0m\n",
      "\u001b[0;32m~/Documents/medspacy_io/medspacy_io/reader/ehost_reader.py\u001b[0m in \u001b[0;36mget_anno_content\u001b[0;34m(self, txt_file)\u001b[0m\n\u001b[1;32m     92\u001b[0m         \"\"\"\n\u001b[0;32m---> 93\u001b[0;31m         \u001b[0manno_file\u001b[0m \u001b[0;34m=\u001b[0m \u001b[0mself\u001b[0m\u001b[0;34m.\u001b[0m\u001b[0minfer_anno_file_path\u001b[0m\u001b[0;34m(\u001b[0m\u001b[0mtxt_file\u001b[0m\u001b[0;34m)\u001b[0m\u001b[0;34m\u001b[0m\u001b[0;34m\u001b[0m\u001b[0m\n\u001b[0m\u001b[1;32m     94\u001b[0m         \u001b[0mself\u001b[0m\u001b[0;34m.\u001b[0m\u001b[0mcheck_file_validity\u001b[0m\u001b[0;34m(\u001b[0m\u001b[0manno_file\u001b[0m\u001b[0;34m)\u001b[0m\u001b[0;34m\u001b[0m\u001b[0;34m\u001b[0m\u001b[0m\n",
      "\u001b[0;32m~/Documents/medspacy_io/medspacy_io/reader/ehost_reader.py\u001b[0m in \u001b[0;36minfer_anno_file_path\u001b[0;34m(self, txt_file)\u001b[0m\n\u001b[1;32m    109\u001b[0m             \u001b[0manno_file\u001b[0m \u001b[0;34m=\u001b[0m \u001b[0mPath\u001b[0m\u001b[0;34m(\u001b[0m\u001b[0mtxt_file\u001b[0m\u001b[0;34m.\u001b[0m\u001b[0mparent\u001b[0m\u001b[0;34m.\u001b[0m\u001b[0mparent\u001b[0m\u001b[0;34m,\u001b[0m \u001b[0;34m'adjudication'\u001b[0m\u001b[0;34m,\u001b[0m \u001b[0manno_file_name\u001b[0m\u001b[0;34m)\u001b[0m\u001b[0;34m\u001b[0m\u001b[0;34m\u001b[0m\u001b[0m\n\u001b[0;32m--> 110\u001b[0;31m         \u001b[0mself\u001b[0m\u001b[0;34m.\u001b[0m\u001b[0mcheck_file_validity\u001b[0m\u001b[0;34m(\u001b[0m\u001b[0manno_file\u001b[0m\u001b[0;34m)\u001b[0m\u001b[0;34m\u001b[0m\u001b[0;34m\u001b[0m\u001b[0m\n\u001b[0m\u001b[1;32m    111\u001b[0m         \u001b[0;32mreturn\u001b[0m \u001b[0manno_file\u001b[0m\u001b[0;34m\u001b[0m\u001b[0;34m\u001b[0m\u001b[0m\n",
      "\u001b[0;32m~/Documents/medspacy_io/medspacy_io/reader/base_reader.py\u001b[0m in \u001b[0;36mcheck_file_validity\u001b[0;34m(self, file, raise_error)\u001b[0m\n\u001b[1;32m    105\u001b[0m             \u001b[0;32mif\u001b[0m \u001b[0mraise_error\u001b[0m\u001b[0;34m:\u001b[0m\u001b[0;34m\u001b[0m\u001b[0;34m\u001b[0m\u001b[0m\n\u001b[0;32m--> 106\u001b[0;31m                 \u001b[0;32mraise\u001b[0m \u001b[0mFileNotFoundError\u001b[0m\u001b[0;34m(\u001b[0m\u001b[0mfile\u001b[0m\u001b[0;34m.\u001b[0m\u001b[0mabsolute\u001b[0m\u001b[0;34m(\u001b[0m\u001b[0;34m)\u001b[0m\u001b[0;34m)\u001b[0m\u001b[0;34m\u001b[0m\u001b[0;34m\u001b[0m\u001b[0m\n\u001b[0m\u001b[1;32m    107\u001b[0m             \u001b[0;32melse\u001b[0m\u001b[0;34m:\u001b[0m\u001b[0;34m\u001b[0m\u001b[0;34m\u001b[0m\u001b[0m\n",
      "\u001b[0;31mFileNotFoundError\u001b[0m: /Users/u6022257/Documents/medspacy_io/tests/data/ehost_test_corpus/corpus/saved/doc1-checkpoint.txt.knowtator.xml",
      "\nDuring handling of the above exception, another exception occurred:\n",
      "\u001b[0;31mOSError\u001b[0m                                   Traceback (most recent call last)",
      "\u001b[0;32m/var/folders/gv/s_wjfxw103524143nmnxqllw0000gq/T/ipykernel_6297/1614135705.py\u001b[0m in \u001b[0;36m<module>\u001b[0;34m\u001b[0m\n\u001b[1;32m     20\u001b[0m \u001b[0;34m\u001b[0m\u001b[0m\n\u001b[1;32m     21\u001b[0m \u001b[0mdir_reader\u001b[0m \u001b[0;34m=\u001b[0m \u001b[0mEhostDirReader\u001b[0m\u001b[0;34m(\u001b[0m\u001b[0mnlp\u001b[0m\u001b[0;34m=\u001b[0m\u001b[0mEnglish\u001b[0m\u001b[0;34m(\u001b[0m\u001b[0;34m)\u001b[0m\u001b[0;34m,\u001b[0m \u001b[0mrecursive\u001b[0m\u001b[0;34m=\u001b[0m\u001b[0;32mTrue\u001b[0m\u001b[0;34m,\u001b[0m \u001b[0mschema_file\u001b[0m\u001b[0;34m=\u001b[0m\u001b[0;34m'data/ehost_test_corpus/config/projectschema.xml'\u001b[0m\u001b[0;34m)\u001b[0m\u001b[0;34m\u001b[0m\u001b[0;34m\u001b[0m\u001b[0m\n\u001b[0;32m---> 22\u001b[0;31m \u001b[0mdocs\u001b[0m \u001b[0;34m=\u001b[0m \u001b[0mdir_reader\u001b[0m\u001b[0;34m.\u001b[0m\u001b[0mread\u001b[0m\u001b[0;34m(\u001b[0m\u001b[0mtxt_dir\u001b[0m\u001b[0;34m=\u001b[0m\u001b[0;34m'data/ehost_test_corpus/'\u001b[0m\u001b[0;34m)\u001b[0m\u001b[0;34m\u001b[0m\u001b[0;34m\u001b[0m\u001b[0m\n\u001b[0m\u001b[1;32m     23\u001b[0m \u001b[0mprint\u001b[0m\u001b[0;34m(\u001b[0m\u001b[0mlen\u001b[0m\u001b[0;34m(\u001b[0m\u001b[0mdocs\u001b[0m\u001b[0;34m)\u001b[0m\u001b[0;34m)\u001b[0m\u001b[0;34m\u001b[0m\u001b[0;34m\u001b[0m\u001b[0m\n",
      "\u001b[0;32m~/Documents/medspacy_io/medspacy_io/reader/base_reader.py\u001b[0m in \u001b[0;36mread\u001b[0;34m(self, txt_dir)\u001b[0m\n\u001b[1;32m    501\u001b[0m                 \u001b[0mdocs\u001b[0m\u001b[0;34m.\u001b[0m\u001b[0mappend\u001b[0m\u001b[0;34m(\u001b[0m\u001b[0mdoc\u001b[0m\u001b[0;34m)\u001b[0m\u001b[0;34m\u001b[0m\u001b[0;34m\u001b[0m\u001b[0m\n\u001b[1;32m    502\u001b[0m             \u001b[0;32mexcept\u001b[0m\u001b[0;34m:\u001b[0m\u001b[0;34m\u001b[0m\u001b[0;34m\u001b[0m\u001b[0m\n\u001b[0;32m--> 503\u001b[0;31m                 \u001b[0;32mraise\u001b[0m \u001b[0mIOError\u001b[0m\u001b[0;34m(\u001b[0m\u001b[0;34m'An error occured while parsing annotation for document: {}'\u001b[0m\u001b[0;34m.\u001b[0m\u001b[0mformat\u001b[0m\u001b[0;34m(\u001b[0m\u001b[0mtxt_file\u001b[0m\u001b[0;34m.\u001b[0m\u001b[0mabsolute\u001b[0m\u001b[0;34m(\u001b[0m\u001b[0;34m)\u001b[0m\u001b[0;34m)\u001b[0m\u001b[0;34m)\u001b[0m\u001b[0;34m\u001b[0m\u001b[0;34m\u001b[0m\u001b[0m\n\u001b[0m\u001b[1;32m    504\u001b[0m             \u001b[0;32mpass\u001b[0m\u001b[0;34m\u001b[0m\u001b[0;34m\u001b[0m\u001b[0m\n\u001b[1;32m    505\u001b[0m         \u001b[0;32mreturn\u001b[0m \u001b[0mdocs\u001b[0m\u001b[0;34m\u001b[0m\u001b[0;34m\u001b[0m\u001b[0m\n",
      "\u001b[0;31mOSError\u001b[0m: An error occured while parsing annotation for document: /Users/u6022257/Documents/medspacy_io/tests/data/ehost_test_corpus/corpus/.ipynb_checkpoints/doc1-checkpoint.txt"
     ]
    }
   ],
   "source": [
    "\n",
    "    def eval(self, doc):\n",
    "        assert (len(doc.ents) == 7)\n",
    "        assert (str(doc.ents[0]) == 'CHIEF')\n",
    "        assert (str(doc.ents[1]) == 'Abdominal pain')\n",
    "        assert (str(doc.ents[2]) == 'PRESENT')\n",
    "        assert (str(doc.ents[3]) == 'patient')\n",
    "        # there is a slightly mismatch of the token, because SpaCy tokenize '71-year-old' into\n",
    "        # '71-year', '-', 'old', EhostDocReader adjust the annotation spans to align with the tokens\n",
    "        assert (str(doc.ents[4]) == 'year-old')\n",
    "        assert (str(doc.ents[5]) == 'X. The patient')\n",
    "        assert (str(doc.ents[6]) == 'presented')\n",
    "        assert (doc.ents[0].label_ == 'Doc_Level_Purulence_Assessment')\n",
    "        assert (doc.ents[1].label_ == 'Purulent')\n",
    "        assert (doc.ents[2].label_ == 'Non-Purulent')\n",
    "        assert (doc.ents[3].label_ == 'Incision_and_Drainage')\n",
    "        assert (doc.ents[4].label_ == 'PreAnnotated')\n",
    "        assert (doc.ents[5].label_ == 'Nonspecific_SSTI')\n",
    "        assert (doc.ents[6].label_ == 'Exclusions')\n",
    "\n",
    "\n",
    "dir_reader = EhostDirReader(nlp=English(), recursive=True, schema_file='data/ehost_test_corpus/config/projectschema.xml')\n",
    "docs = dir_reader.read(txt_dir='data/ehost_test_corpus/')\n",
    "print(len(docs))"
   ]
  },
  {
   "cell_type": "markdown",
   "id": "219b824c-4435-4ca1-a6a7-9a3fe79a066e",
   "metadata": {},
   "source": [
    "# test attributes and relations"
   ]
  },
  {
   "cell_type": "code",
   "execution_count": 16,
   "id": "54a6907a-f605-4a5b-b507-77139cebab69",
   "metadata": {},
   "outputs": [
    {
     "name": "stdout",
     "output_type": "stream",
     "text": [
      "ALL ATTRIBUTES FROM SCHEMA: {'ANNOT_headache', 'ANNOT_fever'}\n"
     ]
    }
   ],
   "source": [
    "ereader2 = EhostDocReader(nlp=English(), schema_file='data/ehost_test_corpus3_overlap/config/projectschema.xml',support_overlap=True)\n",
    "#doc = ereader.read('data/ehost_test_corpus3_overlap/corpus/18305.txt')\n",
    "#print(doc._.concepts)"
   ]
  },
  {
   "cell_type": "code",
   "execution_count": 19,
   "id": "7975c13d-1477-4bd8-9fce-54215e68922a",
   "metadata": {},
   "outputs": [],
   "source": [
    "attributes_set = ereader2.attr_names"
   ]
  },
  {
   "cell_type": "code",
   "execution_count": 20,
   "id": "f50d1be6-7aeb-4f07-ae90-c7e52b1a8589",
   "metadata": {},
   "outputs": [
    {
     "data": {
      "text/plain": [
       "{'ANNOT_fever', 'ANNOT_headache'}"
      ]
     },
     "execution_count": 20,
     "metadata": {},
     "output_type": "execute_result"
    }
   ],
   "source": [
    "attributes_set"
   ]
  },
  {
   "cell_type": "code",
   "execution_count": 21,
   "id": "b9bc4ce8-0935-472f-b696-2ce9d9b7c0b8",
   "metadata": {},
   "outputs": [
    {
     "name": "stdout",
     "output_type": "stream",
     "text": [
      "THE ATTRIBUTES FOR: Symptom  IS  ANNOT_fever  low fever\n",
      "THE ATTRIBUTES FOR: Symptom  IS  ANNOT_headache mild\n",
      "RELATION: EHOST_Instance_34 EHOST_Instance_8 symptom_to_symptom_section EHOST_Instance_1\n",
      "FIND THE SOURCE: EHOST_Instance_8 EHOST_Instance_8\n"
     ]
    }
   ],
   "source": [
    "doc = ereader.read('data/ehost_test_corpus3_overlap/corpus/18305.txt')"
   ]
  },
  {
   "cell_type": "code",
   "execution_count": 22,
   "id": "731e8658-2b4f-48f5-9bf2-da093d489b2f",
   "metadata": {},
   "outputs": [
    {
     "data": {
      "text/plain": [
       "[(syncope,\n",
       "  HISTORY OF PRESENT ILLNESS:  Ms. [**Known lastname 50463**] was an 83-year-old\n",
       "  female with a history of polymyalgia rheumatica,\n",
       "  hypercholesterolemia, hypothyroidism, vertigo, postural\n",
       "  hypotension, and a history of syncope in the past who now is\n",
       "  on Florinef and presented to [**Hospital1 **] [**Location (un) 620**]\n",
       "  emergency department on [**2180-9-22**] after a syncopal episode\n",
       "  at home.  She reported that she passed out after urinating\n",
       "  while on the toilet.  She awoke and called her primary care\n",
       "  physician, [**Name10 (NameIs) 1023**] evaluated her in the office and suspected\n",
       "  dehydration, rehydrated her with fluids, and sent her home.\n",
       "  At home she continued to feel poorly, and her primary care\n",
       "  physician told her to return to the Emergency Department.  At\n",
       "  [**Location (un) 620**] emergency department on [**2180-9-23**] EKG revealed\n",
       "  polymorphic ventricular tachycardia with rate in the 130s and\n",
       "  blood pressure in the 140s to 150s/60s.  She was afebrile at\n",
       "  this time.\n",
       "  \n",
       "  Labs in the Emergency Room revealed a potassium of 2.7 and\n",
       "  magnesium of 1.6.  She was given electrolyte repletion and\n",
       "  her ventricular tachycardia spontaneously converted to sinus\n",
       "  rhythm.  She had normal cardiac enzymes and a normal chest\n",
       "  x-ray.  She was admitted on the morning after admission and\n",
       "  was seen by Electrophysiology, who recommended a Lidocaine\n",
       "  drip.  Despite avid electrolyte repletion, her potassium\n",
       "  remained low, and a right internal jugular central line was\n",
       "  placed on [**2180-9-23**] for further resuscitation.  Later that\n",
       "  evening her oxygen saturations dropped to the 60s or 70s, and\n",
       "  a post central line placement chest x-ray revealed no\n",
       "  evidence of pneumothorax but evidence of pulmonary edema.\n",
       "  She was placed on 100% non-rebreather and her sats improved\n",
       "  to 80 to 100%.  An ABG at this time showed a pH of 7.36, CO2\n",
       "  of 54, and PA of 53.  Potassium was 3.5 at this time.\n",
       "  \n",
       "  A decision was made to give 20 mg of intravenous Lasix, and\n",
       "  she put out 620 cc of urine, but her sats continued to be 80\n",
       "  to 100%.  Repeat ABG still revealed persistently low\n",
       "  oxygenation.  Decision was made to intubate.  The patient was\n",
       "  placed on AC at the rate of 10 with a tidal volume of 500 and\n",
       "  FIO2 of 100% and PEEP of 5.  Recheck of an ABG still showed\n",
       "  poor oxygenation with [**MD Number(3) 50464**], and decision was made to\n",
       "  transfer her to [**Hospital6 256**] for\n",
       "  further management due to failure of oxygenation.\n",
       "  \n",
       "  She was transferred, intubated, and a Lidocaine drip and\n",
       "  received 100 mg of Fentanyl and 50 mg of Versed.,\n",
       "  'symptom_to_symptom_section')]"
      ]
     },
     "execution_count": 22,
     "metadata": {},
     "output_type": "execute_result"
    }
   ],
   "source": [
    "doc._.relations"
   ]
  },
  {
   "cell_type": "code",
   "execution_count": 23,
   "id": "4af129b0-0afb-4f79-bc8e-5e394a300bc1",
   "metadata": {},
   "outputs": [
    {
     "data": {
      "text/plain": [
       "{'ANNOT_fever', 'ANNOT_headache'}"
      ]
     },
     "execution_count": 23,
     "metadata": {},
     "output_type": "execute_result"
    }
   ],
   "source": [
    "ereader2.attr_names"
   ]
  },
  {
   "cell_type": "code",
   "execution_count": 25,
   "id": "0669c1f9-158e-4ec6-b976-bb0269a59224",
   "metadata": {},
   "outputs": [
    {
     "data": {
      "text/plain": [
       "2"
      ]
     },
     "execution_count": 25,
     "metadata": {},
     "output_type": "execute_result"
    }
   ],
   "source": [
    "len(ereader2.attr_names)"
   ]
  },
  {
   "cell_type": "code",
   "execution_count": null,
   "id": "9f2fa68c-a028-46cb-80ff-199f366854b2",
   "metadata": {},
   "outputs": [],
   "source": []
  }
 ],
 "metadata": {
  "kernelspec": {
   "display_name": "Python 3 (ipykernel)",
   "language": "python",
   "name": "python3"
  },
  "language_info": {
   "codemirror_mode": {
    "name": "ipython",
    "version": 3
   },
   "file_extension": ".py",
   "mimetype": "text/x-python",
   "name": "python",
   "nbconvert_exporter": "python",
   "pygments_lexer": "ipython3",
   "version": "3.9.12"
  }
 },
 "nbformat": 4,
 "nbformat_minor": 5
}
