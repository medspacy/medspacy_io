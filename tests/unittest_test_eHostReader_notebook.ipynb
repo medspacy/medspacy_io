{
 "cells": [
  {
   "cell_type": "code",
   "execution_count": 1,
   "id": "1c3e9b64-77ad-4f03-b582-30b52e6f9f17",
   "metadata": {},
   "outputs": [
    {
     "name": "stdout",
     "output_type": "stream",
     "text": [
      "['/Users/u6022257/Documents/medspacy_io/tests', '/Users/u6022257/opt/anaconda3/lib/python39.zip', '/Users/u6022257/opt/anaconda3/lib/python3.9', '/Users/u6022257/opt/anaconda3/lib/python3.9/lib-dynload', '', '/Users/u6022257/opt/anaconda3/lib/python3.9/site-packages', '/Users/u6022257/opt/anaconda3/lib/python3.9/site-packages/aeosa', '/Users/u6022257/opt/anaconda3/lib/python3.9/site-packages/medspacy-0.2.0.0-py3.9.egg', '/Users/u6022257/opt/anaconda3/lib/python3.9/site-packages/medspacy_quickumls-2.3-py3.9.egg', '/Users/u6022257/opt/anaconda3/lib/python3.9/site-packages/quickumls_simstring-1.1.5.post1-py3.9-macosx-10.9-x86_64.egg', '../', '../medspacy']\n"
     ]
    }
   ],
   "source": [
    "import logging\n",
    "import unittest\n",
    "\n",
    "\n",
    "import sys\n",
    "sys.path.append(\"../\") #need to uninstall medspacy-io to test the package code.\n",
    "sys.path.append(\"../medspacy\")\n",
    "print(sys.path)\n",
    "from spacy.lang.en import English\n",
    "from spacy.tokens import Doc\n",
    "\n",
    "from medspacy_io.reader import EhostDirReader\n",
    "from medspacy_io.reader import EhostDocReader\n"
   ]
  },
  {
   "cell_type": "markdown",
   "id": "aab75800-f973-47a2-bfec-7b58af40e072",
   "metadata": {},
   "source": [
    "# Test `test_parse_to_dicts(self)`"
   ]
  },
  {
   "cell_type": "code",
   "execution_count": 2,
   "id": "5560e2b4-1c7f-4252-bd1e-87b9ddb7f52a",
   "metadata": {},
   "outputs": [],
   "source": [
    "if Doc.has_extension(\"concepts\"):\n",
    "    Doc.remove_extension(\"concepts\")"
   ]
  },
  {
   "cell_type": "code",
   "execution_count": 3,
   "id": "dee61e0f-16a7-4423-9594-f99bcb5ddc58",
   "metadata": {},
   "outputs": [],
   "source": [
    "ereader = EhostDocReader(nlp=English())\n",
    "(spans, classes, attributes, relations) = ereader.parse_to_dicts('data/ehost_test_corpus/saved/doc1.txt.knowtator.xml')"
   ]
  },
  {
   "cell_type": "code",
   "execution_count": 4,
   "id": "68c51ef9-8426-4cf7-b8be-b890121b1885",
   "metadata": {},
   "outputs": [
    {
     "name": "stdout",
     "output_type": "stream",
     "text": [
      "7 7 6 0\n"
     ]
    }
   ],
   "source": [
    "print(len(spans),len(classes),len(attributes),len(relations))"
   ]
  },
  {
   "cell_type": "markdown",
   "id": "d0233a5d-8e4f-43ff-86ef-a0863b79bacd",
   "metadata": {},
   "source": [
    "# Test `test_read(self)` and `eval(self, doc)`"
   ]
  },
  {
   "cell_type": "code",
   "execution_count": 5,
   "id": "c1a3ea76-cf69-4b16-be59-2b742f1d6307",
   "metadata": {},
   "outputs": [],
   "source": [
    "if Doc.has_extension(\"concepts\"):\n",
    "    Doc.remove_extension(\"concepts\")\n",
    "    \n",
    "ereader = EhostDocReader(nlp=English(), schema_file='data/ehost_test_corpus/config/projectschema.xml')\n",
    "doc = ereader.read('data/ehost_test_corpus/corpus/doc1.txt')"
   ]
  },
  {
   "cell_type": "code",
   "execution_count": 6,
   "id": "7d7baaa5-7794-4421-b9fc-5f2062317eaa",
   "metadata": {},
   "outputs": [
    {
     "name": "stdout",
     "output_type": "stream",
     "text": [
      "7\n",
      "Entity: CHIEF Label: Doc_Level_Purulence_Assessment\n",
      "Entity: Abdominal pain Label: Purulent\n",
      "Entity: PRESENT Label: Non-Purulent\n",
      "Entity: patient Label: Incision_and_Drainage\n",
      "Entity: year-old Label: PreAnnotated\n",
      "Entity: X. The patient Label: Nonspecific_SSTI\n",
      "Entity: presented Label: Exclusions\n"
     ]
    }
   ],
   "source": [
    "print(len(doc.ents))\n",
    "for ent in doc.ents:\n",
    "    print(\"Entity:\",ent,\"Label:\",ent.label_)"
   ]
  },
  {
   "cell_type": "markdown",
   "id": "a76785e0-8bbb-4f09-abf1-0ef670c2aaae",
   "metadata": {},
   "source": [
    "# Test `test_read_overlap(self)`"
   ]
  },
  {
   "cell_type": "code",
   "execution_count": 7,
   "id": "785287f2-e5c0-4f3b-935f-991a615eb7e2",
   "metadata": {},
   "outputs": [
    {
     "name": "stdout",
     "output_type": "stream",
     "text": [
      "check if doc has extension concepts: False\n",
      "False True\n",
      "setting the type of concept...\n",
      "getting concept...\n",
      "type of existing_concepts: <class 'collections.OrderedDict'> False\n",
      "OrderedDict([('PreAnnotated', [year-old]), ('Nonspecific_SSTI', [The patient]), ('Exclusions', [.])])\n"
     ]
    },
    {
     "name": "stderr",
     "output_type": "stream",
     "text": [
      "/Users/u6022257/Documents/medspacy_io/tests/../medspacy_io/reader/base_reader.py:18: UserWarning: Warning: 0.1.0.dev34 will be deprecated. Please use latest version!\n",
      "  warnings.warn(\"Warning: 0.1.0.dev34 will be deprecated. Please use latest version!\")\n"
     ]
    },
    {
     "data": {
      "text/plain": [
       "1"
      ]
     },
     "execution_count": 7,
     "metadata": {},
     "output_type": "execute_result"
    }
   ],
   "source": [
    "ereader = EhostDocReader(nlp=English(), schema_file='data/ehost_test_corpus2/config/projectschema.xml',support_overlap=True)\n",
    "doc = ereader.read('data/ehost_test_corpus2/corpus/doc1.txt')\n",
    "print(doc._.concepts)\n",
    "len(doc._.concepts['PreAnnotated'])"
   ]
  },
  {
   "cell_type": "code",
   "execution_count": 8,
   "id": "ec085e9f-cee8-4caf-a493-3150ea259998",
   "metadata": {},
   "outputs": [
    {
     "name": "stdout",
     "output_type": "stream",
     "text": [
      "check if doc has extension concepts: True\n",
      "OrderedDict()\n",
      "type of existing_concepts: <class 'collections.OrderedDict'> False\n",
      "OrderedDict([('Doc_Level_Purulence_Assessment', [CHIEF, The patient]), ('Purulent', [Abdominal pain]), ('Non-Purulent', [PRESENT]), ('Exclusions', [PRESENT, presented]), ('Incision_and_Drainage', [patient]), ('PreAnnotated', [year-old]), ('Nonspecific_SSTI', [X. The patient])])\n",
      "2 2\n"
     ]
    }
   ],
   "source": [
    "doc = ereader.read('data/ehost_test_corpus2/corpus/doc2.txt')\n",
    "print(doc._.concepts)\n",
    "print(len(doc._.concepts['Exclusions']),len(doc._.concepts['Doc_Level_Purulence_Assessment']))"
   ]
  },
  {
   "cell_type": "markdown",
   "id": "58d58de6-1578-45cd-b869-65a5f3155aae",
   "metadata": {},
   "source": [
    "# Test `test_check_spans_overlap(self):`"
   ]
  },
  {
   "cell_type": "code",
   "execution_count": 9,
   "id": "8581bf08-7ace-4a62-9ec1-504903e9b331",
   "metadata": {},
   "outputs": [
    {
     "name": "stderr",
     "output_type": "stream",
     "text": [
      "2022-09-08 14:38:32,637 root         DEBUG    To find 0 between token_start (-1[159]) and  token_right_bound(33[159])\n",
      "2022-09-08 14:38:32,637 root         DEBUG    To find 0 between token_start (-1[159]) and  token_right_bound(33[159])\n",
      "2022-09-08 14:38:32,637 root         DEBUG    To find 0 between token_start (-1[159]) and  token_right_bound(33[159])\n",
      "2022-09-08 14:38:32,637 root         DEBUG    To find 0 between token_start (-1[159]) and  token_right_bound(33[159])\n",
      "2022-09-08 14:38:32,638 root         DEBUG    Find abs offset 0 between -1[159:160] and 33[159:160], mid=16\n",
      "2022-09-08 14:38:32,638 root         DEBUG    Find abs offset 0 between -1[159:160] and 33[159:160], mid=16\n",
      "2022-09-08 14:38:32,638 root         DEBUG    Find abs offset 0 between -1[159:160] and 33[159:160], mid=16\n",
      "2022-09-08 14:38:32,638 root         DEBUG    Find abs offset 0 between -1[159:160] and 33[159:160], mid=16\n",
      "2022-09-08 14:38:32,638 root         DEBUG    Find abs offset 0 between -1[159:160] and 15[77:78], mid=7\n",
      "2022-09-08 14:38:32,638 root         DEBUG    Find abs offset 0 between -1[159:160] and 15[77:78], mid=7\n",
      "2022-09-08 14:38:32,638 root         DEBUG    Find abs offset 0 between -1[159:160] and 15[77:78], mid=7\n",
      "2022-09-08 14:38:32,638 root         DEBUG    Find abs offset 0 between -1[159:160] and 15[77:78], mid=7\n",
      "2022-09-08 14:38:32,639 root         DEBUG    Find abs offset 0 between -1[159:160] and 6[32:34], mid=2\n",
      "2022-09-08 14:38:32,639 root         DEBUG    Find abs offset 0 between -1[159:160] and 6[32:34], mid=2\n",
      "2022-09-08 14:38:32,639 root         DEBUG    Find abs offset 0 between -1[159:160] and 6[32:34], mid=2\n",
      "2022-09-08 14:38:32,639 root         DEBUG    Find abs offset 0 between -1[159:160] and 6[32:34], mid=2\n",
      "2022-09-08 14:38:32,640 root         DEBUG    Find abs offset 0 between -1[159:160] and 1[6:15], mid=0\n",
      "2022-09-08 14:38:32,640 root         DEBUG    Find abs offset 0 between -1[159:160] and 1[6:15], mid=0\n",
      "2022-09-08 14:38:32,640 root         DEBUG    Find abs offset 0 between -1[159:160] and 1[6:15], mid=0\n",
      "2022-09-08 14:38:32,640 root         DEBUG    Find abs offset 0 between -1[159:160] and 1[6:15], mid=0\n",
      "2022-09-08 14:38:32,641 root         DEBUG    return mid=0 when doc[0](0) < 0 < doc[0].idx+len(doc[0])(5)\n",
      "2022-09-08 14:38:32,641 root         DEBUG    return mid=0 when doc[0](0) < 0 < doc[0].idx+len(doc[0])(5)\n",
      "2022-09-08 14:38:32,641 root         DEBUG    return mid=0 when doc[0](0) < 0 < doc[0].idx+len(doc[0])(5)\n",
      "2022-09-08 14:38:32,641 root         DEBUG    return mid=0 when doc[0](0) < 0 < doc[0].idx+len(doc[0])(5)\n",
      "2022-09-08 14:38:32,642 root         DEBUG    \tfind start token 0('CHIEF')\n",
      "2022-09-08 14:38:32,642 root         DEBUG    \tfind start token 0('CHIEF')\n",
      "2022-09-08 14:38:32,642 root         DEBUG    \tfind start token 0('CHIEF')\n",
      "2022-09-08 14:38:32,642 root         DEBUG    \tfind start token 0('CHIEF')\n",
      "2022-09-08 14:38:32,643 root         DEBUG    To find token_end starts from 5 between token_start (0[0]) and  token_right_bound(33[159])\n",
      "2022-09-08 14:38:32,643 root         DEBUG    To find token_end starts from 5 between token_start (0[0]) and  token_right_bound(33[159])\n",
      "2022-09-08 14:38:32,643 root         DEBUG    To find token_end starts from 5 between token_start (0[0]) and  token_right_bound(33[159])\n",
      "2022-09-08 14:38:32,643 root         DEBUG    To find token_end starts from 5 between token_start (0[0]) and  token_right_bound(33[159])\n",
      "2022-09-08 14:38:32,643 root         DEBUG    \tFind end token 1('CHIEF')\n",
      "2022-09-08 14:38:32,643 root         DEBUG    \tFind end token 1('CHIEF')\n",
      "2022-09-08 14:38:32,643 root         DEBUG    \tFind end token 1('CHIEF')\n",
      "2022-09-08 14:38:32,643 root         DEBUG    \tFind end token 1('CHIEF')\n",
      "2022-09-08 14:38:32,644 root         DEBUG    Doc_Level_Purulence_Assessment[0:1]\n",
      "\t<>\n",
      "\tCHIEF<>\n",
      "2022-09-08 14:38:32,644 root         DEBUG    Doc_Level_Purulence_Assessment[0:1]\n",
      "\t<>\n",
      "\tCHIEF<>\n",
      "2022-09-08 14:38:32,644 root         DEBUG    Doc_Level_Purulence_Assessment[0:1]\n",
      "\t<>\n",
      "\tCHIEF<>\n",
      "2022-09-08 14:38:32,644 root         DEBUG    Doc_Level_Purulence_Assessment[0:1]\n",
      "\t<>\n",
      "\tCHIEF<>\n",
      "2022-09-08 14:38:32,646 root         DEBUG    To find 17 between token_start (0[0]) and  token_right_bound(33[159])\n",
      "2022-09-08 14:38:32,646 root         DEBUG    To find 17 between token_start (0[0]) and  token_right_bound(33[159])\n",
      "2022-09-08 14:38:32,646 root         DEBUG    To find 17 between token_start (0[0]) and  token_right_bound(33[159])\n",
      "2022-09-08 14:38:32,646 root         DEBUG    To find 17 between token_start (0[0]) and  token_right_bound(33[159])\n",
      "2022-09-08 14:38:32,647 root         DEBUG    Find abs offset 17 between 0[0:5] and 33[159:160], mid=16\n",
      "2022-09-08 14:38:32,647 root         DEBUG    Find abs offset 17 between 0[0:5] and 33[159:160], mid=16\n",
      "2022-09-08 14:38:32,647 root         DEBUG    Find abs offset 17 between 0[0:5] and 33[159:160], mid=16\n",
      "2022-09-08 14:38:32,647 root         DEBUG    Find abs offset 17 between 0[0:5] and 33[159:160], mid=16\n",
      "2022-09-08 14:38:32,648 root         DEBUG    Find abs offset 17 between 0[0:5] and 15[77:78], mid=7\n",
      "2022-09-08 14:38:32,648 root         DEBUG    Find abs offset 17 between 0[0:5] and 15[77:78], mid=7\n",
      "2022-09-08 14:38:32,648 root         DEBUG    Find abs offset 17 between 0[0:5] and 15[77:78], mid=7\n",
      "2022-09-08 14:38:32,648 root         DEBUG    Find abs offset 17 between 0[0:5] and 15[77:78], mid=7\n",
      "2022-09-08 14:38:32,648 root         DEBUG    Find abs offset 17 between 0[0:5] and 6[32:34], mid=3\n",
      "2022-09-08 14:38:32,648 root         DEBUG    Find abs offset 17 between 0[0:5] and 6[32:34], mid=3\n",
      "2022-09-08 14:38:32,648 root         DEBUG    Find abs offset 17 between 0[0:5] and 6[32:34], mid=3\n",
      "2022-09-08 14:38:32,648 root         DEBUG    Find abs offset 17 between 0[0:5] and 6[32:34], mid=3\n",
      "2022-09-08 14:38:32,650 root         DEBUG    return mid=3 when doc[3](17) < 17 < doc[3].idx+len(doc[3])(26)\n",
      "2022-09-08 14:38:32,650 root         DEBUG    return mid=3 when doc[3](17) < 17 < doc[3].idx+len(doc[3])(26)\n",
      "2022-09-08 14:38:32,650 root         DEBUG    return mid=3 when doc[3](17) < 17 < doc[3].idx+len(doc[3])(26)\n",
      "2022-09-08 14:38:32,650 root         DEBUG    return mid=3 when doc[3](17) < 17 < doc[3].idx+len(doc[3])(26)\n",
      "2022-09-08 14:38:32,651 root         DEBUG    \tfind start token 3('Abdominal')\n",
      "2022-09-08 14:38:32,651 root         DEBUG    \tfind start token 3('Abdominal')\n",
      "2022-09-08 14:38:32,651 root         DEBUG    \tfind start token 3('Abdominal')\n",
      "2022-09-08 14:38:32,651 root         DEBUG    \tfind start token 3('Abdominal')\n",
      "2022-09-08 14:38:32,652 root         DEBUG    To find token_end starts from 31 between token_start (3[17]) and  token_right_bound(33[159])\n",
      "2022-09-08 14:38:32,652 root         DEBUG    To find token_end starts from 31 between token_start (3[17]) and  token_right_bound(33[159])\n",
      "2022-09-08 14:38:32,652 root         DEBUG    To find token_end starts from 31 between token_start (3[17]) and  token_right_bound(33[159])\n",
      "2022-09-08 14:38:32,652 root         DEBUG    To find token_end starts from 31 between token_start (3[17]) and  token_right_bound(33[159])\n",
      "2022-09-08 14:38:32,653 root         DEBUG    \tFind end token 5('pain')\n",
      "2022-09-08 14:38:32,653 root         DEBUG    \tFind end token 5('pain')\n",
      "2022-09-08 14:38:32,653 root         DEBUG    \tFind end token 5('pain')\n",
      "2022-09-08 14:38:32,653 root         DEBUG    \tFind end token 5('pain')\n"
     ]
    },
    {
     "name": "stdout",
     "output_type": "stream",
     "text": [
      "check if doc has extension concepts: True\n",
      "OrderedDict()\n",
      "type of existing_concepts: <class 'collections.OrderedDict'> False\n"
     ]
    },
    {
     "name": "stderr",
     "output_type": "stream",
     "text": [
      "2022-09-08 14:38:32,654 root         DEBUG    Purulent[3:5]\n",
      "\t<>\n",
      "\tAbdominal pain<>\n",
      "2022-09-08 14:38:32,654 root         DEBUG    Purulent[3:5]\n",
      "\t<>\n",
      "\tAbdominal pain<>\n",
      "2022-09-08 14:38:32,654 root         DEBUG    Purulent[3:5]\n",
      "\t<>\n",
      "\tAbdominal pain<>\n",
      "2022-09-08 14:38:32,654 root         DEBUG    Purulent[3:5]\n",
      "\t<>\n",
      "\tAbdominal pain<>\n",
      "2022-09-08 14:38:32,655 root         DEBUG    To find 45 between token_start (3[17]) and  token_right_bound(33[159])\n",
      "2022-09-08 14:38:32,655 root         DEBUG    To find 45 between token_start (3[17]) and  token_right_bound(33[159])\n",
      "2022-09-08 14:38:32,655 root         DEBUG    To find 45 between token_start (3[17]) and  token_right_bound(33[159])\n",
      "2022-09-08 14:38:32,655 root         DEBUG    To find 45 between token_start (3[17]) and  token_right_bound(33[159])\n",
      "2022-09-08 14:38:32,656 root         DEBUG    Find abs offset 45 between 3[17:26] and 33[159:160], mid=18\n",
      "2022-09-08 14:38:32,656 root         DEBUG    Find abs offset 45 between 3[17:26] and 33[159:160], mid=18\n",
      "2022-09-08 14:38:32,656 root         DEBUG    Find abs offset 45 between 3[17:26] and 33[159:160], mid=18\n",
      "2022-09-08 14:38:32,656 root         DEBUG    Find abs offset 45 between 3[17:26] and 33[159:160], mid=18\n",
      "2022-09-08 14:38:32,657 root         DEBUG    Find abs offset 45 between 3[17:26] and 17[81:82], mid=10\n",
      "2022-09-08 14:38:32,657 root         DEBUG    Find abs offset 45 between 3[17:26] and 17[81:82], mid=10\n",
      "2022-09-08 14:38:32,657 root         DEBUG    Find abs offset 45 between 3[17:26] and 17[81:82], mid=10\n",
      "2022-09-08 14:38:32,657 root         DEBUG    Find abs offset 45 between 3[17:26] and 17[81:82], mid=10\n",
      "2022-09-08 14:38:32,658 root         DEBUG    Find abs offset 45 between 3[17:26] and 9[45:52], mid=6\n",
      "2022-09-08 14:38:32,658 root         DEBUG    Find abs offset 45 between 3[17:26] and 9[45:52], mid=6\n",
      "2022-09-08 14:38:32,658 root         DEBUG    Find abs offset 45 between 3[17:26] and 9[45:52], mid=6\n",
      "2022-09-08 14:38:32,658 root         DEBUG    Find abs offset 45 between 3[17:26] and 9[45:52], mid=6\n",
      "2022-09-08 14:38:32,659 root         DEBUG    Find abs offset 45 between 7[34:41] and 9[45:52], mid=8\n",
      "2022-09-08 14:38:32,659 root         DEBUG    Find abs offset 45 between 7[34:41] and 9[45:52], mid=8\n",
      "2022-09-08 14:38:32,659 root         DEBUG    Find abs offset 45 between 7[34:41] and 9[45:52], mid=8\n",
      "2022-09-08 14:38:32,659 root         DEBUG    Find abs offset 45 between 7[34:41] and 9[45:52], mid=8\n",
      "2022-09-08 14:38:32,660 root         DEBUG    \tfind start token 9('PRESENT')\n",
      "2022-09-08 14:38:32,660 root         DEBUG    \tfind start token 9('PRESENT')\n",
      "2022-09-08 14:38:32,660 root         DEBUG    \tfind start token 9('PRESENT')\n",
      "2022-09-08 14:38:32,660 root         DEBUG    \tfind start token 9('PRESENT')\n",
      "2022-09-08 14:38:32,661 root         DEBUG    To find token_end starts from 52 between token_start (9[45]) and  token_right_bound(33[159])\n",
      "2022-09-08 14:38:32,661 root         DEBUG    To find token_end starts from 52 between token_start (9[45]) and  token_right_bound(33[159])\n",
      "2022-09-08 14:38:32,661 root         DEBUG    To find token_end starts from 52 between token_start (9[45]) and  token_right_bound(33[159])\n",
      "2022-09-08 14:38:32,661 root         DEBUG    To find token_end starts from 52 between token_start (9[45]) and  token_right_bound(33[159])\n",
      "2022-09-08 14:38:32,662 root         DEBUG    \tFind end token 10('PRESENT')\n",
      "2022-09-08 14:38:32,662 root         DEBUG    \tFind end token 10('PRESENT')\n",
      "2022-09-08 14:38:32,662 root         DEBUG    \tFind end token 10('PRESENT')\n",
      "2022-09-08 14:38:32,662 root         DEBUG    \tFind end token 10('PRESENT')\n",
      "2022-09-08 14:38:32,663 root         DEBUG    Non-Purulent[9:10]\n",
      "\t<>\n",
      "\tPRESENT<>\n",
      "2022-09-08 14:38:32,663 root         DEBUG    Non-Purulent[9:10]\n",
      "\t<>\n",
      "\tPRESENT<>\n",
      "2022-09-08 14:38:32,663 root         DEBUG    Non-Purulent[9:10]\n",
      "\t<>\n",
      "\tPRESENT<>\n",
      "2022-09-08 14:38:32,663 root         DEBUG    Non-Purulent[9:10]\n",
      "\t<>\n",
      "\tPRESENT<>\n",
      "2022-09-08 14:38:32,665 root         DEBUG    To find 45 between token_start (9[45]) and  token_right_bound(33[159])\n",
      "2022-09-08 14:38:32,665 root         DEBUG    To find 45 between token_start (9[45]) and  token_right_bound(33[159])\n",
      "2022-09-08 14:38:32,665 root         DEBUG    To find 45 between token_start (9[45]) and  token_right_bound(33[159])\n",
      "2022-09-08 14:38:32,665 root         DEBUG    To find 45 between token_start (9[45]) and  token_right_bound(33[159])\n",
      "2022-09-08 14:38:32,666 root         DEBUG    Find abs offset 45 between 9[45:52] and 33[159:160], mid=21\n",
      "2022-09-08 14:38:32,666 root         DEBUG    Find abs offset 45 between 9[45:52] and 33[159:160], mid=21\n",
      "2022-09-08 14:38:32,666 root         DEBUG    Find abs offset 45 between 9[45:52] and 33[159:160], mid=21\n",
      "2022-09-08 14:38:32,666 root         DEBUG    Find abs offset 45 between 9[45:52] and 33[159:160], mid=21\n",
      "2022-09-08 14:38:32,667 root         DEBUG    Find abs offset 45 between 9[45:52] and 20[87:90], mid=14\n",
      "2022-09-08 14:38:32,667 root         DEBUG    Find abs offset 45 between 9[45:52] and 20[87:90], mid=14\n",
      "2022-09-08 14:38:32,667 root         DEBUG    Find abs offset 45 between 9[45:52] and 20[87:90], mid=14\n",
      "2022-09-08 14:38:32,667 root         DEBUG    Find abs offset 45 between 9[45:52] and 20[87:90], mid=14\n",
      "2022-09-08 14:38:32,668 root         DEBUG    Find abs offset 45 between 9[45:52] and 13[66:73], mid=11\n",
      "2022-09-08 14:38:32,668 root         DEBUG    Find abs offset 45 between 9[45:52] and 13[66:73], mid=11\n",
      "2022-09-08 14:38:32,668 root         DEBUG    Find abs offset 45 between 9[45:52] and 13[66:73], mid=11\n",
      "2022-09-08 14:38:32,668 root         DEBUG    Find abs offset 45 between 9[45:52] and 13[66:73], mid=11\n",
      "2022-09-08 14:38:32,668 root         DEBUG    Find abs offset 45 between 9[45:52] and 10[53:60], mid=9\n",
      "2022-09-08 14:38:32,668 root         DEBUG    Find abs offset 45 between 9[45:52] and 10[53:60], mid=9\n",
      "2022-09-08 14:38:32,668 root         DEBUG    Find abs offset 45 between 9[45:52] and 10[53:60], mid=9\n",
      "2022-09-08 14:38:32,668 root         DEBUG    Find abs offset 45 between 9[45:52] and 10[53:60], mid=9\n",
      "2022-09-08 14:38:32,669 root         DEBUG    return mid=9 when doc[9](45) < 45 < doc[9].idx+len(doc[9])(52)\n",
      "2022-09-08 14:38:32,669 root         DEBUG    return mid=9 when doc[9](45) < 45 < doc[9].idx+len(doc[9])(52)\n",
      "2022-09-08 14:38:32,669 root         DEBUG    return mid=9 when doc[9](45) < 45 < doc[9].idx+len(doc[9])(52)\n",
      "2022-09-08 14:38:32,669 root         DEBUG    return mid=9 when doc[9](45) < 45 < doc[9].idx+len(doc[9])(52)\n",
      "2022-09-08 14:38:32,671 root         DEBUG    \tfind start token 9('PRESENT')\n",
      "2022-09-08 14:38:32,671 root         DEBUG    \tfind start token 9('PRESENT')\n",
      "2022-09-08 14:38:32,671 root         DEBUG    \tfind start token 9('PRESENT')\n",
      "2022-09-08 14:38:32,671 root         DEBUG    \tfind start token 9('PRESENT')\n",
      "2022-09-08 14:38:32,672 root         DEBUG    To find token_end starts from 52 between token_start (9[45]) and  token_right_bound(33[159])\n",
      "2022-09-08 14:38:32,672 root         DEBUG    To find token_end starts from 52 between token_start (9[45]) and  token_right_bound(33[159])\n",
      "2022-09-08 14:38:32,672 root         DEBUG    To find token_end starts from 52 between token_start (9[45]) and  token_right_bound(33[159])\n",
      "2022-09-08 14:38:32,672 root         DEBUG    To find token_end starts from 52 between token_start (9[45]) and  token_right_bound(33[159])\n",
      "2022-09-08 14:38:32,672 root         DEBUG    \tFind end token 10('PRESENT')\n",
      "2022-09-08 14:38:32,672 root         DEBUG    \tFind end token 10('PRESENT')\n",
      "2022-09-08 14:38:32,672 root         DEBUG    \tFind end token 10('PRESENT')\n",
      "2022-09-08 14:38:32,672 root         DEBUG    \tFind end token 10('PRESENT')\n",
      "2022-09-08 14:38:32,673 root         DEBUG    To find 62 between token_start (9[45]) and  token_right_bound(33[159])\n",
      "2022-09-08 14:38:32,673 root         DEBUG    To find 62 between token_start (9[45]) and  token_right_bound(33[159])\n",
      "2022-09-08 14:38:32,673 root         DEBUG    To find 62 between token_start (9[45]) and  token_right_bound(33[159])\n",
      "2022-09-08 14:38:32,673 root         DEBUG    To find 62 between token_start (9[45]) and  token_right_bound(33[159])\n",
      "2022-09-08 14:38:32,674 root         DEBUG    Find abs offset 62 between 9[45:52] and 33[159:160], mid=21\n",
      "2022-09-08 14:38:32,674 root         DEBUG    Find abs offset 62 between 9[45:52] and 33[159:160], mid=21\n",
      "2022-09-08 14:38:32,674 root         DEBUG    Find abs offset 62 between 9[45:52] and 33[159:160], mid=21\n",
      "2022-09-08 14:38:32,674 root         DEBUG    Find abs offset 62 between 9[45:52] and 33[159:160], mid=21\n",
      "2022-09-08 14:38:32,675 root         DEBUG    Find abs offset 62 between 9[45:52] and 20[87:90], mid=14\n",
      "2022-09-08 14:38:32,675 root         DEBUG    Find abs offset 62 between 9[45:52] and 20[87:90], mid=14\n",
      "2022-09-08 14:38:32,675 root         DEBUG    Find abs offset 62 between 9[45:52] and 20[87:90], mid=14\n",
      "2022-09-08 14:38:32,675 root         DEBUG    Find abs offset 62 between 9[45:52] and 20[87:90], mid=14\n",
      "2022-09-08 14:38:32,676 root         DEBUG    Find abs offset 62 between 9[45:52] and 13[66:73], mid=11\n",
      "2022-09-08 14:38:32,676 root         DEBUG    Find abs offset 62 between 9[45:52] and 13[66:73], mid=11\n",
      "2022-09-08 14:38:32,676 root         DEBUG    Find abs offset 62 between 9[45:52] and 13[66:73], mid=11\n",
      "2022-09-08 14:38:32,676 root         DEBUG    Find abs offset 62 between 9[45:52] and 13[66:73], mid=11\n",
      "2022-09-08 14:38:32,677 root         DEBUG    Find abs offset 62 between 12[62:65] and 13[66:73], mid=12\n",
      "2022-09-08 14:38:32,677 root         DEBUG    Find abs offset 62 between 12[62:65] and 13[66:73], mid=12\n",
      "2022-09-08 14:38:32,677 root         DEBUG    Find abs offset 62 between 12[62:65] and 13[66:73], mid=12\n",
      "2022-09-08 14:38:32,677 root         DEBUG    Find abs offset 62 between 12[62:65] and 13[66:73], mid=12\n",
      "2022-09-08 14:38:32,678 root         DEBUG    return mid=12 when doc[12](62) < 62 < doc[12].idx+len(doc[12])(65)\n",
      "2022-09-08 14:38:32,678 root         DEBUG    return mid=12 when doc[12](62) < 62 < doc[12].idx+len(doc[12])(65)\n",
      "2022-09-08 14:38:32,678 root         DEBUG    return mid=12 when doc[12](62) < 62 < doc[12].idx+len(doc[12])(65)\n",
      "2022-09-08 14:38:32,678 root         DEBUG    return mid=12 when doc[12](62) < 62 < doc[12].idx+len(doc[12])(65)\n",
      "2022-09-08 14:38:32,679 root         DEBUG    \tfind start token 12('The')\n",
      "2022-09-08 14:38:32,679 root         DEBUG    \tfind start token 12('The')\n",
      "2022-09-08 14:38:32,679 root         DEBUG    \tfind start token 12('The')\n",
      "2022-09-08 14:38:32,679 root         DEBUG    \tfind start token 12('The')\n",
      "2022-09-08 14:38:32,680 root         DEBUG    To find token_end starts from 73 between token_start (12[62]) and  token_right_bound(33[159])\n",
      "2022-09-08 14:38:32,680 root         DEBUG    To find token_end starts from 73 between token_start (12[62]) and  token_right_bound(33[159])\n",
      "2022-09-08 14:38:32,680 root         DEBUG    To find token_end starts from 73 between token_start (12[62]) and  token_right_bound(33[159])\n",
      "2022-09-08 14:38:32,680 root         DEBUG    To find token_end starts from 73 between token_start (12[62]) and  token_right_bound(33[159])\n",
      "2022-09-08 14:38:32,681 root         DEBUG    \tFind end token 14('patient')\n",
      "2022-09-08 14:38:32,681 root         DEBUG    \tFind end token 14('patient')\n",
      "2022-09-08 14:38:32,681 root         DEBUG    \tFind end token 14('patient')\n",
      "2022-09-08 14:38:32,681 root         DEBUG    \tFind end token 14('patient')\n",
      "2022-09-08 14:38:32,681 root         DEBUG    Doc_Level_Purulence_Assessment[12:14]\n",
      "\t<>\n",
      "\tThe patient<>\n",
      "2022-09-08 14:38:32,681 root         DEBUG    Doc_Level_Purulence_Assessment[12:14]\n",
      "\t<>\n",
      "\tThe patient<>\n",
      "2022-09-08 14:38:32,681 root         DEBUG    Doc_Level_Purulence_Assessment[12:14]\n",
      "\t<>\n",
      "\tThe patient<>\n",
      "2022-09-08 14:38:32,681 root         DEBUG    Doc_Level_Purulence_Assessment[12:14]\n",
      "\t<>\n",
      "\tThe patient<>\n",
      "2022-09-08 14:38:32,682 root         DEBUG    To find 66 between token_start (12[62]) and  token_right_bound(33[159])\n",
      "2022-09-08 14:38:32,682 root         DEBUG    To find 66 between token_start (12[62]) and  token_right_bound(33[159])\n",
      "2022-09-08 14:38:32,682 root         DEBUG    To find 66 between token_start (12[62]) and  token_right_bound(33[159])\n",
      "2022-09-08 14:38:32,682 root         DEBUG    To find 66 between token_start (12[62]) and  token_right_bound(33[159])\n",
      "2022-09-08 14:38:32,683 root         DEBUG    Find abs offset 66 between 12[62:65] and 33[159:160], mid=22\n",
      "2022-09-08 14:38:32,683 root         DEBUG    Find abs offset 66 between 12[62:65] and 33[159:160], mid=22\n",
      "2022-09-08 14:38:32,683 root         DEBUG    Find abs offset 66 between 12[62:65] and 33[159:160], mid=22\n",
      "2022-09-08 14:38:32,683 root         DEBUG    Find abs offset 66 between 12[62:65] and 33[159:160], mid=22\n",
      "2022-09-08 14:38:32,684 root         DEBUG    Find abs offset 66 between 12[62:65] and 21[91:97], mid=16\n",
      "2022-09-08 14:38:32,684 root         DEBUG    Find abs offset 66 between 12[62:65] and 21[91:97], mid=16\n",
      "2022-09-08 14:38:32,684 root         DEBUG    Find abs offset 66 between 12[62:65] and 21[91:97], mid=16\n",
      "2022-09-08 14:38:32,684 root         DEBUG    Find abs offset 66 between 12[62:65] and 21[91:97], mid=16\n",
      "2022-09-08 14:38:32,685 root         DEBUG    Find abs offset 66 between 12[62:65] and 15[77:78], mid=13\n",
      "2022-09-08 14:38:32,685 root         DEBUG    Find abs offset 66 between 12[62:65] and 15[77:78], mid=13\n",
      "2022-09-08 14:38:32,685 root         DEBUG    Find abs offset 66 between 12[62:65] and 15[77:78], mid=13\n",
      "2022-09-08 14:38:32,685 root         DEBUG    Find abs offset 66 between 12[62:65] and 15[77:78], mid=13\n",
      "2022-09-08 14:38:32,686 root         DEBUG    return mid=13 when doc[13](66) < 66 < doc[13].idx+len(doc[13])(73)\n",
      "2022-09-08 14:38:32,686 root         DEBUG    return mid=13 when doc[13](66) < 66 < doc[13].idx+len(doc[13])(73)\n",
      "2022-09-08 14:38:32,686 root         DEBUG    return mid=13 when doc[13](66) < 66 < doc[13].idx+len(doc[13])(73)\n",
      "2022-09-08 14:38:32,686 root         DEBUG    return mid=13 when doc[13](66) < 66 < doc[13].idx+len(doc[13])(73)\n",
      "2022-09-08 14:38:32,687 root         DEBUG    \tfind start token 13('patient')\n",
      "2022-09-08 14:38:32,687 root         DEBUG    \tfind start token 13('patient')\n",
      "2022-09-08 14:38:32,687 root         DEBUG    \tfind start token 13('patient')\n",
      "2022-09-08 14:38:32,687 root         DEBUG    \tfind start token 13('patient')\n",
      "2022-09-08 14:38:32,688 root         DEBUG    To find token_end starts from 73 between token_start (13[66]) and  token_right_bound(33[159])\n",
      "2022-09-08 14:38:32,688 root         DEBUG    To find token_end starts from 73 between token_start (13[66]) and  token_right_bound(33[159])\n",
      "2022-09-08 14:38:32,688 root         DEBUG    To find token_end starts from 73 between token_start (13[66]) and  token_right_bound(33[159])\n",
      "2022-09-08 14:38:32,688 root         DEBUG    To find token_end starts from 73 between token_start (13[66]) and  token_right_bound(33[159])\n",
      "2022-09-08 14:38:32,689 root         DEBUG    \tFind end token 14('patient')\n",
      "2022-09-08 14:38:32,689 root         DEBUG    \tFind end token 14('patient')\n",
      "2022-09-08 14:38:32,689 root         DEBUG    \tFind end token 14('patient')\n",
      "2022-09-08 14:38:32,689 root         DEBUG    \tFind end token 14('patient')\n",
      "2022-09-08 14:38:32,690 root         DEBUG    Incision_and_Drainage[13:14]\n",
      "\t<>\n",
      "\tpatient<>\n",
      "2022-09-08 14:38:32,690 root         DEBUG    Incision_and_Drainage[13:14]\n",
      "\t<>\n",
      "\tpatient<>\n",
      "2022-09-08 14:38:32,690 root         DEBUG    Incision_and_Drainage[13:14]\n",
      "\t<>\n",
      "\tpatient<>\n",
      "2022-09-08 14:38:32,690 root         DEBUG    Incision_and_Drainage[13:14]\n",
      "\t<>\n",
      "\tpatient<>\n",
      "2022-09-08 14:38:32,691 root         DEBUG    To find 82 between token_start (13[66]) and  token_right_bound(33[159])\n",
      "2022-09-08 14:38:32,691 root         DEBUG    To find 82 between token_start (13[66]) and  token_right_bound(33[159])\n",
      "2022-09-08 14:38:32,691 root         DEBUG    To find 82 between token_start (13[66]) and  token_right_bound(33[159])\n",
      "2022-09-08 14:38:32,691 root         DEBUG    To find 82 between token_start (13[66]) and  token_right_bound(33[159])\n",
      "2022-09-08 14:38:32,692 root         DEBUG    Find abs offset 82 between 13[66:73] and 33[159:160], mid=23\n",
      "2022-09-08 14:38:32,692 root         DEBUG    Find abs offset 82 between 13[66:73] and 33[159:160], mid=23\n",
      "2022-09-08 14:38:32,692 root         DEBUG    Find abs offset 82 between 13[66:73] and 33[159:160], mid=23\n",
      "2022-09-08 14:38:32,692 root         DEBUG    Find abs offset 82 between 13[66:73] and 33[159:160], mid=23\n",
      "2022-09-08 14:38:32,693 root         DEBUG    Find abs offset 82 between 13[66:73] and 22[98:105], mid=17\n",
      "2022-09-08 14:38:32,693 root         DEBUG    Find abs offset 82 between 13[66:73] and 22[98:105], mid=17\n",
      "2022-09-08 14:38:32,693 root         DEBUG    Find abs offset 82 between 13[66:73] and 22[98:105], mid=17\n",
      "2022-09-08 14:38:32,693 root         DEBUG    Find abs offset 82 between 13[66:73] and 22[98:105], mid=17\n",
      "2022-09-08 14:38:32,694 root         DEBUG    Find abs offset 82 between 18[82:86] and 22[98:105], mid=20\n",
      "2022-09-08 14:38:32,694 root         DEBUG    Find abs offset 82 between 18[82:86] and 22[98:105], mid=20\n",
      "2022-09-08 14:38:32,694 root         DEBUG    Find abs offset 82 between 18[82:86] and 22[98:105], mid=20\n",
      "2022-09-08 14:38:32,694 root         DEBUG    Find abs offset 82 between 18[82:86] and 22[98:105], mid=20\n",
      "2022-09-08 14:38:32,695 root         DEBUG    Find abs offset 82 between 18[82:86] and 19[86:87], mid=18\n",
      "2022-09-08 14:38:32,695 root         DEBUG    Find abs offset 82 between 18[82:86] and 19[86:87], mid=18\n",
      "2022-09-08 14:38:32,695 root         DEBUG    Find abs offset 82 between 18[82:86] and 19[86:87], mid=18\n",
      "2022-09-08 14:38:32,695 root         DEBUG    Find abs offset 82 between 18[82:86] and 19[86:87], mid=18\n",
      "2022-09-08 14:38:32,696 root         DEBUG    return mid=18 when doc[18](82) < 82 < doc[18].idx+len(doc[18])(86)\n",
      "2022-09-08 14:38:32,696 root         DEBUG    return mid=18 when doc[18](82) < 82 < doc[18].idx+len(doc[18])(86)\n",
      "2022-09-08 14:38:32,696 root         DEBUG    return mid=18 when doc[18](82) < 82 < doc[18].idx+len(doc[18])(86)\n",
      "2022-09-08 14:38:32,696 root         DEBUG    return mid=18 when doc[18](82) < 82 < doc[18].idx+len(doc[18])(86)\n",
      "2022-09-08 14:38:32,698 root         DEBUG    \tfind start token 18('year')\n",
      "2022-09-08 14:38:32,698 root         DEBUG    \tfind start token 18('year')\n",
      "2022-09-08 14:38:32,698 root         DEBUG    \tfind start token 18('year')\n",
      "2022-09-08 14:38:32,698 root         DEBUG    \tfind start token 18('year')\n",
      "2022-09-08 14:38:32,698 root         DEBUG    To find token_end starts from 90 between token_start (18[82]) and  token_right_bound(33[159])\n",
      "2022-09-08 14:38:32,698 root         DEBUG    To find token_end starts from 90 between token_start (18[82]) and  token_right_bound(33[159])\n",
      "2022-09-08 14:38:32,698 root         DEBUG    To find token_end starts from 90 between token_start (18[82]) and  token_right_bound(33[159])\n",
      "2022-09-08 14:38:32,698 root         DEBUG    To find token_end starts from 90 between token_start (18[82]) and  token_right_bound(33[159])\n",
      "2022-09-08 14:38:32,700 root         DEBUG    \tFind end token 21('old')\n",
      "2022-09-08 14:38:32,700 root         DEBUG    \tFind end token 21('old')\n",
      "2022-09-08 14:38:32,700 root         DEBUG    \tFind end token 21('old')\n",
      "2022-09-08 14:38:32,700 root         DEBUG    \tFind end token 21('old')\n",
      "2022-09-08 14:38:32,701 root         DEBUG    PreAnnotated[18:21]\n",
      "\t<>\n",
      "\tyear-old<>\n",
      "2022-09-08 14:38:32,701 root         DEBUG    PreAnnotated[18:21]\n",
      "\t<>\n",
      "\tyear-old<>\n",
      "2022-09-08 14:38:32,701 root         DEBUG    PreAnnotated[18:21]\n",
      "\t<>\n",
      "\tyear-old<>\n",
      "2022-09-08 14:38:32,701 root         DEBUG    PreAnnotated[18:21]\n",
      "\t<>\n",
      "\tyear-old<>\n",
      "2022-09-08 14:38:32,702 root         DEBUG    To find 113 between token_start (18[82]) and  token_right_bound(33[159])\n",
      "2022-09-08 14:38:32,702 root         DEBUG    To find 113 between token_start (18[82]) and  token_right_bound(33[159])\n",
      "2022-09-08 14:38:32,702 root         DEBUG    To find 113 between token_start (18[82]) and  token_right_bound(33[159])\n",
      "2022-09-08 14:38:32,702 root         DEBUG    To find 113 between token_start (18[82]) and  token_right_bound(33[159])\n",
      "2022-09-08 14:38:32,703 root         DEBUG    Find abs offset 113 between 18[82:86] and 33[159:160], mid=25\n",
      "2022-09-08 14:38:32,703 root         DEBUG    Find abs offset 113 between 18[82:86] and 33[159:160], mid=25\n",
      "2022-09-08 14:38:32,703 root         DEBUG    Find abs offset 113 between 18[82:86] and 33[159:160], mid=25\n",
      "2022-09-08 14:38:32,703 root         DEBUG    Find abs offset 113 between 18[82:86] and 33[159:160], mid=25\n",
      "2022-09-08 14:38:32,704 root         DEBUG    return mid=25 when doc[25](113) < 113 < doc[25].idx+len(doc[25])(115)\n",
      "2022-09-08 14:38:32,704 root         DEBUG    return mid=25 when doc[25](113) < 113 < doc[25].idx+len(doc[25])(115)\n",
      "2022-09-08 14:38:32,704 root         DEBUG    return mid=25 when doc[25](113) < 113 < doc[25].idx+len(doc[25])(115)\n",
      "2022-09-08 14:38:32,704 root         DEBUG    return mid=25 when doc[25](113) < 113 < doc[25].idx+len(doc[25])(115)\n",
      "2022-09-08 14:38:32,704 root         DEBUG    \tfind start token 25('X.')\n",
      "2022-09-08 14:38:32,704 root         DEBUG    \tfind start token 25('X.')\n",
      "2022-09-08 14:38:32,704 root         DEBUG    \tfind start token 25('X.')\n",
      "2022-09-08 14:38:32,704 root         DEBUG    \tfind start token 25('X.')\n",
      "2022-09-08 14:38:32,705 root         DEBUG    To find token_end starts from 127 between token_start (25[113]) and  token_right_bound(33[159])\n",
      "2022-09-08 14:38:32,705 root         DEBUG    To find token_end starts from 127 between token_start (25[113]) and  token_right_bound(33[159])\n",
      "2022-09-08 14:38:32,705 root         DEBUG    To find token_end starts from 127 between token_start (25[113]) and  token_right_bound(33[159])\n",
      "2022-09-08 14:38:32,705 root         DEBUG    To find token_end starts from 127 between token_start (25[113]) and  token_right_bound(33[159])\n",
      "2022-09-08 14:38:32,706 root         DEBUG    \tFind end token 28('patient')\n",
      "2022-09-08 14:38:32,706 root         DEBUG    \tFind end token 28('patient')\n",
      "2022-09-08 14:38:32,706 root         DEBUG    \tFind end token 28('patient')\n",
      "2022-09-08 14:38:32,706 root         DEBUG    \tFind end token 28('patient')\n",
      "2022-09-08 14:38:32,707 root         DEBUG    Nonspecific_SSTI[25:28]\n",
      "\t<>\n",
      "\tX. The patient<>\n",
      "2022-09-08 14:38:32,707 root         DEBUG    Nonspecific_SSTI[25:28]\n",
      "\t<>\n",
      "\tX. The patient<>\n",
      "2022-09-08 14:38:32,707 root         DEBUG    Nonspecific_SSTI[25:28]\n",
      "\t<>\n",
      "\tX. The patient<>\n",
      "2022-09-08 14:38:32,707 root         DEBUG    Nonspecific_SSTI[25:28]\n",
      "\t<>\n",
      "\tX. The patient<>\n",
      "2022-09-08 14:38:32,708 root         DEBUG    To find 128 between token_start (25[113]) and  token_right_bound(33[159])\n",
      "2022-09-08 14:38:32,708 root         DEBUG    To find 128 between token_start (25[113]) and  token_right_bound(33[159])\n",
      "2022-09-08 14:38:32,708 root         DEBUG    To find 128 between token_start (25[113]) and  token_right_bound(33[159])\n",
      "2022-09-08 14:38:32,708 root         DEBUG    To find 128 between token_start (25[113]) and  token_right_bound(33[159])\n",
      "2022-09-08 14:38:32,709 root         DEBUG    Find abs offset 128 between 25[113:115] and 33[159:160], mid=29\n",
      "2022-09-08 14:38:32,709 root         DEBUG    Find abs offset 128 between 25[113:115] and 33[159:160], mid=29\n",
      "2022-09-08 14:38:32,709 root         DEBUG    Find abs offset 128 between 25[113:115] and 33[159:160], mid=29\n",
      "2022-09-08 14:38:32,709 root         DEBUG    Find abs offset 128 between 25[113:115] and 33[159:160], mid=29\n",
      "2022-09-08 14:38:32,710 root         DEBUG    Find abs offset 128 between 25[113:115] and 28[128:137], mid=26\n",
      "2022-09-08 14:38:32,710 root         DEBUG    Find abs offset 128 between 25[113:115] and 28[128:137], mid=26\n",
      "2022-09-08 14:38:32,710 root         DEBUG    Find abs offset 128 between 25[113:115] and 28[128:137], mid=26\n",
      "2022-09-08 14:38:32,710 root         DEBUG    Find abs offset 128 between 25[113:115] and 28[128:137], mid=26\n",
      "2022-09-08 14:38:32,711 root         DEBUG    Find abs offset 128 between 27[120:127] and 28[128:137], mid=27\n",
      "2022-09-08 14:38:32,711 root         DEBUG    Find abs offset 128 between 27[120:127] and 28[128:137], mid=27\n",
      "2022-09-08 14:38:32,711 root         DEBUG    Find abs offset 128 between 27[120:127] and 28[128:137], mid=27\n",
      "2022-09-08 14:38:32,711 root         DEBUG    Find abs offset 128 between 27[120:127] and 28[128:137], mid=27\n",
      "2022-09-08 14:38:32,712 root         DEBUG    \tfind start token 28('presented')\n",
      "2022-09-08 14:38:32,712 root         DEBUG    \tfind start token 28('presented')\n",
      "2022-09-08 14:38:32,712 root         DEBUG    \tfind start token 28('presented')\n",
      "2022-09-08 14:38:32,712 root         DEBUG    \tfind start token 28('presented')\n",
      "2022-09-08 14:38:32,713 root         DEBUG    To find token_end starts from 137 between token_start (28[128]) and  token_right_bound(33[159])\n",
      "2022-09-08 14:38:32,713 root         DEBUG    To find token_end starts from 137 between token_start (28[128]) and  token_right_bound(33[159])\n",
      "2022-09-08 14:38:32,713 root         DEBUG    To find token_end starts from 137 between token_start (28[128]) and  token_right_bound(33[159])\n",
      "2022-09-08 14:38:32,713 root         DEBUG    To find token_end starts from 137 between token_start (28[128]) and  token_right_bound(33[159])\n",
      "2022-09-08 14:38:32,714 root         DEBUG    \tFind end token 29('presented')\n",
      "2022-09-08 14:38:32,714 root         DEBUG    \tFind end token 29('presented')\n",
      "2022-09-08 14:38:32,714 root         DEBUG    \tFind end token 29('presented')\n",
      "2022-09-08 14:38:32,714 root         DEBUG    \tFind end token 29('presented')\n",
      "2022-09-08 14:38:32,715 root         DEBUG    Exclusions[28:29]\n",
      "\t<>\n",
      "\tpresented<>\n",
      "2022-09-08 14:38:32,715 root         DEBUG    Exclusions[28:29]\n",
      "\t<>\n",
      "\tpresented<>\n",
      "2022-09-08 14:38:32,715 root         DEBUG    Exclusions[28:29]\n",
      "\t<>\n",
      "\tpresented<>\n",
      "2022-09-08 14:38:32,715 root         DEBUG    Exclusions[28:29]\n",
      "\t<>\n",
      "\tpresented<>\n"
     ]
    },
    {
     "name": "stdout",
     "output_type": "stream",
     "text": [
      "OrderedDict([('Doc_Level_Purulence_Assessment', [CHIEF, The patient]), ('Purulent', [Abdominal pain]), ('Non-Purulent', [PRESENT]), ('Exclusions', [PRESENT, presented]), ('Incision_and_Drainage', [patient]), ('PreAnnotated', [year-old]), ('Nonspecific_SSTI', [X. The patient])])\n"
     ]
    }
   ],
   "source": [
    "ereader = EhostDocReader(nlp=English(), schema_file='data/ehost_test_corpus2/config/projectschema.xml',support_overlap=True, store_anno_string=True, log_level=logging.DEBUG)\n",
    "doc = ereader.read('data/ehost_test_corpus2/corpus/doc2.txt')\n",
    "print(doc._.concepts)"
   ]
  },
  {
   "cell_type": "code",
   "execution_count": 10,
   "id": "70b6e838-256a-43d8-924b-d6267f7cad41",
   "metadata": {},
   "outputs": [
    {
     "name": "stdout",
     "output_type": "stream",
     "text": [
      "CHIEF\n",
      "The patient\n"
     ]
    }
   ],
   "source": [
    "for span in doc._.concepts['Doc_Level_Purulence_Assessment']:\n",
    "    print(span._.span_txt)"
   ]
  },
  {
   "cell_type": "markdown",
   "id": "0eff0dba-1930-4a15-b1ef-f28421b74037",
   "metadata": {},
   "source": [
    "# Test `test_dir_reader(self)`"
   ]
  },
  {
   "cell_type": "code",
   "execution_count": 11,
   "id": "d0fcb93c-452f-47cb-9a8a-0096bf0b4c4e",
   "metadata": {},
   "outputs": [
    {
     "name": "stdout",
     "output_type": "stream",
     "text": [
      "2\n"
     ]
    }
   ],
   "source": [
    "\n",
    "    def eval(self, doc):\n",
    "        assert (len(doc.ents) == 7)\n",
    "        assert (str(doc.ents[0]) == 'CHIEF')\n",
    "        assert (str(doc.ents[1]) == 'Abdominal pain')\n",
    "        assert (str(doc.ents[2]) == 'PRESENT')\n",
    "        assert (str(doc.ents[3]) == 'patient')\n",
    "        # there is a slightly mismatch of the token, because SpaCy tokenize '71-year-old' into\n",
    "        # '71-year', '-', 'old', EhostDocReader adjust the annotation spans to align with the tokens\n",
    "        assert (str(doc.ents[4]) == 'year-old')\n",
    "        assert (str(doc.ents[5]) == 'X. The patient')\n",
    "        assert (str(doc.ents[6]) == 'presented')\n",
    "        assert (doc.ents[0].label_ == 'Doc_Level_Purulence_Assessment')\n",
    "        assert (doc.ents[1].label_ == 'Purulent')\n",
    "        assert (doc.ents[2].label_ == 'Non-Purulent')\n",
    "        assert (doc.ents[3].label_ == 'Incision_and_Drainage')\n",
    "        assert (doc.ents[4].label_ == 'PreAnnotated')\n",
    "        assert (doc.ents[5].label_ == 'Nonspecific_SSTI')\n",
    "        assert (doc.ents[6].label_ == 'Exclusions')\n",
    "\n",
    "\n",
    "dir_reader = EhostDirReader(nlp=English(), recursive=True, schema_file='data/ehost_test_corpus/config/projectschema.xml')\n",
    "docs = dir_reader.read(txt_dir='data/ehost_test_corpus/')\n",
    "print(len(docs))"
   ]
  },
  {
   "cell_type": "markdown",
   "id": "219b824c-4435-4ca1-a6a7-9a3fe79a066e",
   "metadata": {},
   "source": []
  }
 ],
 "metadata": {
  "kernelspec": {
   "display_name": "Python 3 (ipykernel)",
   "language": "python",
   "name": "python3"
  },
  "language_info": {
   "codemirror_mode": {
    "name": "ipython",
    "version": 3
   },
   "file_extension": ".py",
   "mimetype": "text/x-python",
   "name": "python",
   "nbconvert_exporter": "python",
   "pygments_lexer": "ipython3",
   "version": "3.9.12"
  }
 },
 "nbformat": 4,
 "nbformat_minor": 5
}
